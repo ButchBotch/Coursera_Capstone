{
 "cells": [
  {
   "cell_type": "code",
   "execution_count": 30,
   "metadata": {},
   "outputs": [],
   "source": [
    "import urllib.request\n",
    "from bs4 import BeautifulSoup\n",
    "import pandas as pd\n",
    "\n",
    "\n",
    "wiki_url=\"https://en.wikipedia.org/wiki/List_of_postal_codes_of_Canada:_M\"\n",
    "page = urllib.request.urlopen(wiki_url)\n",
    "\n",
    "soup = BeautifulSoup(page,\"lxml\")\n",
    "ze_table=soup.find('table')\n"
   ]
  },
  {
   "cell_type": "code",
   "execution_count": 29,
   "metadata": {},
   "outputs": [
    {
     "data": {
      "text/plain": [
       "\"\\nA=[]\\nB=[]\\nC=[]\\nD=[]\\nE=[]\\nF=[]\\nG=[]\\nH=[]\\nI=[]\\n\\nfor row in ze_table.findAll('tr'):\\n    cells=row.findAll('td')\\n    print('\\ncells',cells)\\n    print('\\n\\nlen(cells)',len(cells))\\n    if len(cells)==9:\\n        A.append(cells[0].find(text=True))\\n        B.append(cells[1].find(text=True))\\n        C.append(cells[2].find(text=True))\\n        D.append(cells[3].find(text=True))\\n        E.append(cells[4].find(text=True))\\n        F.append(cells[5].find(text=True))\\n        G.append(cells[6].find(text=True))\\n        H.append(cells[7].find(text=True))\\n        I.append(cells[8].find(text=True))\\n        \\ndf=pd.DataFrame(A,columns=['M1'])\\ndf['M2']=B\\ndf['M3']=C\\ndf['M4']=D\\ndf['M5']=E\\ndf['M6']=F\\ndf['M7']=G\\ndf['M8']=H\\ndf['M9']=I\\n\""
      ]
     },
     "execution_count": 29,
     "metadata": {},
     "output_type": "execute_result"
    }
   ],
   "source": [
    "\"\"\"\n",
    "A=[]\n",
    "B=[]\n",
    "C=[]\n",
    "D=[]\n",
    "E=[]\n",
    "F=[]\n",
    "G=[]\n",
    "H=[]\n",
    "I=[]\n",
    "\n",
    "for row in ze_table.findAll('tr'):\n",
    "    cells=row.findAll('td')\n",
    "    print('\\ncells',cells)\n",
    "    print('\\n\\nlen(cells)',len(cells))\n",
    "    if len(cells)==9:\n",
    "        A.append(cells[0].find(text=True))\n",
    "        B.append(cells[1].find(text=True))\n",
    "        C.append(cells[2].find(text=True))\n",
    "        D.append(cells[3].find(text=True))\n",
    "        E.append(cells[4].find(text=True))\n",
    "        F.append(cells[5].find(text=True))\n",
    "        G.append(cells[6].find(text=True))\n",
    "        H.append(cells[7].find(text=True))\n",
    "        I.append(cells[8].find(text=True))\n",
    "        \n",
    "df=pd.DataFrame(A,columns=['M1'])\n",
    "df['M2']=B\n",
    "df['M3']=C\n",
    "df['M4']=D\n",
    "df['M5']=E\n",
    "df['M6']=F\n",
    "df['M7']=G\n",
    "df['M8']=H\n",
    "df['M9']=I\n",
    "\"\"\"\n"
   ]
  },
  {
   "cell_type": "code",
   "execution_count": null,
   "metadata": {},
   "outputs": [],
   "source": []
  },
  {
   "cell_type": "code",
   "execution_count": null,
   "metadata": {},
   "outputs": [],
   "source": []
  }
 ],
 "metadata": {
  "kernelspec": {
   "display_name": "Python 3",
   "language": "python",
   "name": "python3"
  },
  "language_info": {
   "codemirror_mode": {
    "name": "ipython",
    "version": 3
   },
   "file_extension": ".py",
   "mimetype": "text/x-python",
   "name": "python",
   "nbconvert_exporter": "python",
   "pygments_lexer": "ipython3",
   "version": "3.7.4"
  }
 },
 "nbformat": 4,
 "nbformat_minor": 2
}
