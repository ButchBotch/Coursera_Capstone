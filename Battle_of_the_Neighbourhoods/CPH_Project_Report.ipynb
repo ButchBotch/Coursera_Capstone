{
 "cells": [
  {
   "cell_type": "markdown",
   "metadata": {},
   "source": [
    "## <center> New Café in Copenhagen <center>"
   ]
  },
  {
   "cell_type": "markdown",
   "metadata": {},
   "source": [
    "![title](cph_python_project.png)"
   ]
  },
  {
   "cell_type": "markdown",
   "metadata": {},
   "source": [
    "## The Problem"
   ]
  },
  {
   "cell_type": "markdown",
   "metadata": {},
   "source": [
    "We want to open a Café in Copenhagen and we want to figure out the area with the best chance to succeed."
   ]
  },
  {
   "cell_type": "markdown",
   "metadata": {},
   "source": [
    "## Data and Methods"
   ]
  },
  {
   "cell_type": "markdown",
   "metadata": {},
   "source": [
    "<h3>Data:</h3>\n",
    "<p>Copenhagen Districts through a geojson file found here : <a>https://giedriusk.carto.com/tables/copenhagen_districts/public</a>.\n",
    "    \n",
    "Data about Cafés and other shops from Foursquare.</p>\n",
    "<br>\n",
    "<h3>Methods:</h3> \n",
    "<p>K-means to cluster the districts based on the types of shops that are somewhat similar to a café into 3 clusters. The 3 clusters roughly show how many café-similar shops are in each district. We use the assumption that the desirable area, has a few similar shops. Not too many so the area is saturated, and not too few (or none) so the area is isolated. \n",
    "    \n",
    "Based on the above assumption, we then we create an index based on the population of each district, the distance from the center, and the price per square meter. \n",
    "\n",
    "We finally come the decision using these two methods. \n",
    "\n",
    "Below we can see the info about the districts, along with the Clusters and Indeces that we will talk more about later.</p>"
   ]
  },
  {
   "cell_type": "markdown",
   "metadata": {},
   "source": [
    "![title](Data_table.png)"
   ]
  },
  {
   "cell_type": "markdown",
   "metadata": {},
   "source": [
    "## Results"
   ]
  },
  {
   "cell_type": "markdown",
   "metadata": {},
   "source": [
    "The map below shows the Copenhagen Area. The circles are all the different venues in each district.\n",
    "\n",
    "Cluster 1 (purple) has no café-similar shops, cluster 2 (green) has the most, and cluster 0 (red) has a moderate amount.\n",
    "\n",
    "The index created is calculated by (Population of a district/total population) / (Price_per_SqM * Distance_from_Center)"
   ]
  },
  {
   "cell_type": "markdown",
   "metadata": {},
   "source": [
    "![title](Result_map.png)"
   ]
  },
  {
   "cell_type": "markdown",
   "metadata": {},
   "source": [
    "## Discussion"
   ]
  },
  {
   "cell_type": "markdown",
   "metadata": {},
   "source": [
    "Frederiksberg, Valby and Vesterbro have a moderate amount of cafés (red cluster).\n",
    "\n",
    "Assuming that the desirable area has a few similar shops, not too many so the area is saturated, and not too few (or none) so the area is isolated, the desired cluster is the red one.  "
   ]
  },
  {
   "cell_type": "markdown",
   "metadata": {},
   "source": [
    "## Conclusion"
   ]
  },
  {
   "cell_type": "markdown",
   "metadata": {},
   "source": [
    "Based on the assumptions mentioned above the district with the most promising index, while simultaneously being at the red cluster is <b>Valby</b>. \n",
    "\n",
    "That's where we should set up a café"
   ]
  }
 ],
 "metadata": {
  "kernelspec": {
   "display_name": "Python 3",
   "language": "python",
   "name": "python3"
  },
  "language_info": {
   "codemirror_mode": {
    "name": "ipython",
    "version": 3
   },
   "file_extension": ".py",
   "mimetype": "text/x-python",
   "name": "python",
   "nbconvert_exporter": "python",
   "pygments_lexer": "ipython3",
   "version": "3.7.4"
  }
 },
 "nbformat": 4,
 "nbformat_minor": 2
}
