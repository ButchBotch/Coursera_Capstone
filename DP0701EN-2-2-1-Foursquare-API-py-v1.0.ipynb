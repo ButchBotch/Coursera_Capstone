{
 "cells": [
  {
   "cell_type": "markdown",
   "metadata": {
    "button": false,
    "new_sheet": false,
    "run_control": {
     "read_only": false
    }
   },
   "source": [
    "<a href=\"https://cognitiveclass.ai\"><img src = \"https://ibm.box.com/shared/static/9gegpsmnsoo25ikkbl4qzlvlyjbgxs5x.png\" width = 400> </a>\n",
    "\n",
    "<h1 align=center><font size = 5>Learning FourSquare API with Python</font></h1>"
   ]
  },
  {
   "cell_type": "markdown",
   "metadata": {
    "button": false,
    "new_sheet": false,
    "run_control": {
     "read_only": false
    }
   },
   "source": [
    "   "
   ]
  },
  {
   "cell_type": "markdown",
   "metadata": {
    "button": false,
    "new_sheet": false,
    "run_control": {
     "read_only": false
    }
   },
   "source": [
    "## Introduction\n",
    "\n",
    "In this lab, you will learn in details how to make calls to the Foursquare API for different purposes. You will learn how to construct a URL to send a request to the API to search for a specific type of venues, to explore a particular venue, to explore a Foursquare user, to explore a geographical location, and to get trending venues around a location. Also, you will learn how to use the visualization library, Folium, to visualize the results."
   ]
  },
  {
   "cell_type": "markdown",
   "metadata": {
    "button": false,
    "new_sheet": false,
    "run_control": {
     "read_only": false
    }
   },
   "source": [
    "## Table of Contents\n",
    "\n",
    "1. <a href=\"#item1\">Foursquare API Search Function</a>\n",
    "2. <a href=\"#item2\">Explore a Given Venue</a>  \n",
    "3. <a href=\"#item3\">Explore a User</a>  \n",
    "4. <a href=\"#item4\">Foursquare API Explore Function</a>  \n",
    "5. <a href=\"#item5\">Get Trending Venues</a>  "
   ]
  },
  {
   "cell_type": "markdown",
   "metadata": {
    "button": false,
    "new_sheet": false,
    "run_control": {
     "read_only": false
    }
   },
   "source": [
    "### Import necessary Libraries"
   ]
  },
  {
   "cell_type": "code",
   "execution_count": 2,
   "metadata": {
    "button": false,
    "jupyter": {
     "outputs_hidden": false
    },
    "new_sheet": false,
    "run_control": {
     "read_only": false
    }
   },
   "outputs": [],
   "source": [
    "import requests # library to handle requests\n",
    "import pandas as pd # library for data analsysis\n",
    "import numpy as np # library to handle data in a vectorized manner\n",
    "import random # library for random number generation\n",
    "from geopy.geocoders import Nominatim # module to convert an address into latitude and longitude values\n",
    "\n",
    "# libraries for displaying images\n",
    "from IPython.display import Image \n",
    "from IPython.core.display import HTML \n",
    " \n",
    "# tranforming json file into a pandas dataframe library\n",
    "from pandas.io.json import json_normalize\n",
    "import folium # plotting library"
   ]
  },
  {
   "cell_type": "markdown",
   "metadata": {
    "button": false,
    "new_sheet": false,
    "run_control": {
     "read_only": false
    }
   },
   "source": [
    "### Define Foursquare Credentials and Version"
   ]
  },
  {
   "cell_type": "markdown",
   "metadata": {
    "button": false,
    "new_sheet": false,
    "run_control": {
     "read_only": false
    }
   },
   "source": [
    "##### Make sure that you have created a Foursquare developer account and have your credentials handy"
   ]
  },
  {
   "cell_type": "code",
   "execution_count": 3,
   "metadata": {
    "button": false,
    "jupyter": {
     "outputs_hidden": false
    },
    "new_sheet": false,
    "run_control": {
     "read_only": false
    }
   },
   "outputs": [
    {
     "name": "stdout",
     "output_type": "stream",
     "text": [
      "Your credentails:\n",
      "CLIENT_ID: HD1NAYFDOU5MXUS5EYLRNKNHDRV24LQ5PMVJ0QK1LLQNDD5P\n",
      "CLIENT_SECRET:S33QQLOFTKNBC3KKOQKHBDJLR0XRICWMH1RB1T1QMU3JEGZ0\n"
     ]
    }
   ],
   "source": [
    "CLIENT_ID = 'HD1NAYFDOU5MXUS5EYLRNKNHDRV24LQ5PMVJ0QK1LLQNDD5P' # your Foursquare ID\n",
    "CLIENT_SECRET = 'S33QQLOFTKNBC3KKOQKHBDJLR0XRICWMH1RB1T1QMU3JEGZ0' # your Foursquare Secret\n",
    "VERSION = '20180604'\n",
    "LIMIT = 30\n",
    "print('Your credentails:')\n",
    "print('CLIENT_ID: ' + CLIENT_ID)\n",
    "print('CLIENT_SECRET:' + CLIENT_SECRET)"
   ]
  },
  {
   "cell_type": "markdown",
   "metadata": {
    "button": false,
    "new_sheet": false,
    "run_control": {
     "read_only": false
    }
   },
   "source": [
    "  "
   ]
  },
  {
   "cell_type": "markdown",
   "metadata": {
    "button": false,
    "new_sheet": false,
    "run_control": {
     "read_only": false
    }
   },
   "source": [
    "#### Let's again assume that you are staying at the Conrad hotel. So let's start by converting the Contrad Hotel's address to its latitude and longitude coordinates."
   ]
  },
  {
   "cell_type": "markdown",
   "metadata": {},
   "source": [
    "In order to define an instance of the geocoder, we need to define a user_agent. We will name our agent <em>foursquare_agent</em>, as shown below."
   ]
  },
  {
   "cell_type": "code",
   "execution_count": 4,
   "metadata": {
    "button": false,
    "jupyter": {
     "outputs_hidden": false
    },
    "new_sheet": false,
    "run_control": {
     "read_only": false
    }
   },
   "outputs": [
    {
     "name": "stdout",
     "output_type": "stream",
     "text": [
      "40.7149555 -74.0153365\n"
     ]
    }
   ],
   "source": [
    "address = '102 North End Ave, New York, NY'\n",
    "\n",
    "geolocator = Nominatim(user_agent=\"foursquare_agent\")\n",
    "location = geolocator.geocode(address)\n",
    "latitude = location.latitude\n",
    "longitude = location.longitude\n",
    "print(latitude, longitude)"
   ]
  },
  {
   "cell_type": "markdown",
   "metadata": {
    "button": false,
    "new_sheet": false,
    "run_control": {
     "read_only": false
    }
   },
   "source": [
    "   "
   ]
  },
  {
   "cell_type": "markdown",
   "metadata": {
    "button": false,
    "new_sheet": false,
    "run_control": {
     "read_only": false
    }
   },
   "source": [
    "<a id=\"item1\"></a>"
   ]
  },
  {
   "cell_type": "markdown",
   "metadata": {},
   "source": [
    "### 1. Search for a specific venue category\n",
    ">https://api.foursquare.com/v2/venues/search?client_id=CLIENT_ID&client_secret=CLIENT_SECRET&ll=LATITUDE,LONGITUDE&v=VERSION&query=QUERY&radius=RADIUS&limit=LIMIT"
   ]
  },
  {
   "cell_type": "markdown",
   "metadata": {
    "button": false,
    "new_sheet": false,
    "run_control": {
     "read_only": false
    }
   },
   "source": [
    "#### Now, let's assume that it is lunch time, and you are craving Italian food. So, let's define a query to search for Italian food that is within 500 metres from the Conrad Hotel. "
   ]
  },
  {
   "cell_type": "code",
   "execution_count": 5,
   "metadata": {
    "button": false,
    "jupyter": {
     "outputs_hidden": false
    },
    "new_sheet": false,
    "run_control": {
     "read_only": false
    },
    "scrolled": true
   },
   "outputs": [
    {
     "name": "stdout",
     "output_type": "stream",
     "text": [
      "Italian .... OK!\n"
     ]
    }
   ],
   "source": [
    "search_query = 'Italian'\n",
    "radius = 500    # in meters\n",
    "print(search_query + ' .... OK!')"
   ]
  },
  {
   "cell_type": "markdown",
   "metadata": {
    "button": false,
    "new_sheet": false,
    "run_control": {
     "read_only": false
    }
   },
   "source": [
    "#### Define the corresponding URL"
   ]
  },
  {
   "cell_type": "code",
   "execution_count": 6,
   "metadata": {
    "button": false,
    "jupyter": {
     "outputs_hidden": false
    },
    "new_sheet": false,
    "run_control": {
     "read_only": false
    }
   },
   "outputs": [
    {
     "data": {
      "text/plain": [
       "'https://api.foursquare.com/v2/venues/search?client_id=HD1NAYFDOU5MXUS5EYLRNKNHDRV24LQ5PMVJ0QK1LLQNDD5P&client_secret=S33QQLOFTKNBC3KKOQKHBDJLR0XRICWMH1RB1T1QMU3JEGZ0&ll=40.7149555,-74.0153365&v=20180604&query=Italian&radius=500&limit=30'"
      ]
     },
     "execution_count": 6,
     "metadata": {},
     "output_type": "execute_result"
    }
   ],
   "source": [
    "url = 'https://api.foursquare.com/v2/venues/search?client_id={}&client_secret={}&ll={},{}&v={}&query={}&radius={}&limit={}'.format(CLIENT_ID, CLIENT_SECRET, latitude, longitude, VERSION, search_query, radius, LIMIT)\n",
    "url"
   ]
  },
  {
   "cell_type": "markdown",
   "metadata": {
    "button": false,
    "new_sheet": false,
    "run_control": {
     "read_only": false
    }
   },
   "source": [
    "#### Send the GET Request and examine the results"
   ]
  },
  {
   "cell_type": "code",
   "execution_count": 7,
   "metadata": {
    "button": false,
    "jupyter": {
     "outputs_hidden": false
    },
    "new_sheet": false,
    "run_control": {
     "read_only": false
    },
    "scrolled": true
   },
   "outputs": [
    {
     "data": {
      "text/plain": [
       "{'meta': {'code': 200, 'requestId': '5e74a95cad1ab4001bef60bc'},\n",
       " 'response': {'venues': [{'id': '4fa862b3e4b0ebff2f749f06',\n",
       "    'name': \"Harry's Italian Pizza Bar\",\n",
       "    'location': {'address': '225 Murray St',\n",
       "     'lat': 40.71521779064671,\n",
       "     'lng': -74.01473940209351,\n",
       "     'labeledLatLngs': [{'label': 'display',\n",
       "       'lat': 40.71521779064671,\n",
       "       'lng': -74.01473940209351}],\n",
       "     'distance': 58,\n",
       "     'postalCode': '10282',\n",
       "     'cc': 'US',\n",
       "     'city': 'New York',\n",
       "     'state': 'NY',\n",
       "     'country': 'United States',\n",
       "     'formattedAddress': ['225 Murray St',\n",
       "      'New York, NY 10282',\n",
       "      'United States']},\n",
       "    'categories': [{'id': '4bf58dd8d48988d1ca941735',\n",
       "      'name': 'Pizza Place',\n",
       "      'pluralName': 'Pizza Places',\n",
       "      'shortName': 'Pizza',\n",
       "      'icon': {'prefix': 'https://ss3.4sqi.net/img/categories_v2/food/pizza_',\n",
       "       'suffix': '.png'},\n",
       "      'primary': True}],\n",
       "    'delivery': {'id': '294544',\n",
       "     'url': 'https://www.seamless.com/menu/harrys-italian-pizza-bar-225-murray-st-new-york/294544?affiliate=1131&utm_source=foursquare-affiliate-network&utm_medium=affiliate&utm_campaign=1131&utm_content=294544',\n",
       "     'provider': {'name': 'seamless',\n",
       "      'icon': {'prefix': 'https://fastly.4sqi.net/img/general/cap/',\n",
       "       'sizes': [40, 50],\n",
       "       'name': '/delivery_provider_seamless_20180129.png'}}},\n",
       "    'referralId': 'v-1584703899',\n",
       "    'hasPerk': False},\n",
       "   {'id': '4f3232e219836c91c7bfde94',\n",
       "    'name': 'Conca Cucina Italian Restaurant',\n",
       "    'location': {'address': '63 W Broadway',\n",
       "     'lat': 40.714484000000006,\n",
       "     'lng': -74.00980600000001,\n",
       "     'labeledLatLngs': [{'label': 'display',\n",
       "       'lat': 40.714484000000006,\n",
       "       'lng': -74.00980600000001}],\n",
       "     'distance': 469,\n",
       "     'postalCode': '10007',\n",
       "     'cc': 'US',\n",
       "     'city': 'New York',\n",
       "     'state': 'NY',\n",
       "     'country': 'United States',\n",
       "     'formattedAddress': ['63 W Broadway',\n",
       "      'New York, NY 10007',\n",
       "      'United States']},\n",
       "    'categories': [{'id': '4d4b7105d754a06374d81259',\n",
       "      'name': 'Food',\n",
       "      'pluralName': 'Food',\n",
       "      'shortName': 'Food',\n",
       "      'icon': {'prefix': 'https://ss3.4sqi.net/img/categories_v2/food/default_',\n",
       "       'suffix': '.png'},\n",
       "      'primary': True}],\n",
       "    'referralId': 'v-1584703899',\n",
       "    'hasPerk': False},\n",
       "   {'id': '3fd66200f964a520f4e41ee3',\n",
       "    'name': 'Ecco',\n",
       "    'location': {'address': '124 Chambers St',\n",
       "     'crossStreet': 'btwn Church St & W Broadway',\n",
       "     'lat': 40.71533713859952,\n",
       "     'lng': -74.00884766217825,\n",
       "     'labeledLatLngs': [{'label': 'display',\n",
       "       'lat': 40.71533713859952,\n",
       "       'lng': -74.00884766217825}],\n",
       "     'distance': 549,\n",
       "     'postalCode': '10007',\n",
       "     'cc': 'US',\n",
       "     'city': 'New York',\n",
       "     'state': 'NY',\n",
       "     'country': 'United States',\n",
       "     'formattedAddress': ['124 Chambers St (btwn Church St & W Broadway)',\n",
       "      'New York, NY 10007',\n",
       "      'United States']},\n",
       "    'categories': [{'id': '4bf58dd8d48988d110941735',\n",
       "      'name': 'Italian Restaurant',\n",
       "      'pluralName': 'Italian Restaurants',\n",
       "      'shortName': 'Italian',\n",
       "      'icon': {'prefix': 'https://ss3.4sqi.net/img/categories_v2/food/italian_',\n",
       "       'suffix': '.png'},\n",
       "      'primary': True}],\n",
       "    'referralId': 'v-1584703899',\n",
       "    'hasPerk': False}]}}"
      ]
     },
     "execution_count": 7,
     "metadata": {},
     "output_type": "execute_result"
    }
   ],
   "source": [
    "results = requests.get(url).json()\n",
    "results"
   ]
  },
  {
   "cell_type": "markdown",
   "metadata": {
    "button": false,
    "new_sheet": false,
    "run_control": {
     "read_only": false
    }
   },
   "source": [
    "#### Get relevant part of JSON and transform it into a *pandas* dataframe"
   ]
  },
  {
   "cell_type": "code",
   "execution_count": 9,
   "metadata": {
    "button": false,
    "jupyter": {
     "outputs_hidden": false
    },
    "new_sheet": false,
    "run_control": {
     "read_only": false
    }
   },
   "outputs": [
    {
     "data": {
      "text/html": [
       "<div>\n",
       "<style scoped>\n",
       "    .dataframe tbody tr th:only-of-type {\n",
       "        vertical-align: middle;\n",
       "    }\n",
       "\n",
       "    .dataframe tbody tr th {\n",
       "        vertical-align: top;\n",
       "    }\n",
       "\n",
       "    .dataframe thead th {\n",
       "        text-align: right;\n",
       "    }\n",
       "</style>\n",
       "<table border=\"1\" class=\"dataframe\">\n",
       "  <thead>\n",
       "    <tr style=\"text-align: right;\">\n",
       "      <th></th>\n",
       "      <th>id</th>\n",
       "      <th>name</th>\n",
       "      <th>categories</th>\n",
       "      <th>referralId</th>\n",
       "      <th>hasPerk</th>\n",
       "      <th>location.address</th>\n",
       "      <th>location.lat</th>\n",
       "      <th>location.lng</th>\n",
       "      <th>location.labeledLatLngs</th>\n",
       "      <th>location.distance</th>\n",
       "      <th>...</th>\n",
       "      <th>location.state</th>\n",
       "      <th>location.country</th>\n",
       "      <th>location.formattedAddress</th>\n",
       "      <th>delivery.id</th>\n",
       "      <th>delivery.url</th>\n",
       "      <th>delivery.provider.name</th>\n",
       "      <th>delivery.provider.icon.prefix</th>\n",
       "      <th>delivery.provider.icon.sizes</th>\n",
       "      <th>delivery.provider.icon.name</th>\n",
       "      <th>location.crossStreet</th>\n",
       "    </tr>\n",
       "  </thead>\n",
       "  <tbody>\n",
       "    <tr>\n",
       "      <td>0</td>\n",
       "      <td>4fa862b3e4b0ebff2f749f06</td>\n",
       "      <td>Harry's Italian Pizza Bar</td>\n",
       "      <td>[{'id': '4bf58dd8d48988d1ca941735', 'name': 'P...</td>\n",
       "      <td>v-1584703899</td>\n",
       "      <td>False</td>\n",
       "      <td>225 Murray St</td>\n",
       "      <td>40.715218</td>\n",
       "      <td>-74.014739</td>\n",
       "      <td>[{'label': 'display', 'lat': 40.71521779064671...</td>\n",
       "      <td>58</td>\n",
       "      <td>...</td>\n",
       "      <td>NY</td>\n",
       "      <td>United States</td>\n",
       "      <td>[225 Murray St, New York, NY 10282, United Sta...</td>\n",
       "      <td>294544</td>\n",
       "      <td>https://www.seamless.com/menu/harrys-italian-p...</td>\n",
       "      <td>seamless</td>\n",
       "      <td>https://fastly.4sqi.net/img/general/cap/</td>\n",
       "      <td>[40, 50]</td>\n",
       "      <td>/delivery_provider_seamless_20180129.png</td>\n",
       "      <td>NaN</td>\n",
       "    </tr>\n",
       "    <tr>\n",
       "      <td>1</td>\n",
       "      <td>4f3232e219836c91c7bfde94</td>\n",
       "      <td>Conca Cucina Italian Restaurant</td>\n",
       "      <td>[{'id': '4d4b7105d754a06374d81259', 'name': 'F...</td>\n",
       "      <td>v-1584703899</td>\n",
       "      <td>False</td>\n",
       "      <td>63 W Broadway</td>\n",
       "      <td>40.714484</td>\n",
       "      <td>-74.009806</td>\n",
       "      <td>[{'label': 'display', 'lat': 40.71448400000000...</td>\n",
       "      <td>469</td>\n",
       "      <td>...</td>\n",
       "      <td>NY</td>\n",
       "      <td>United States</td>\n",
       "      <td>[63 W Broadway, New York, NY 10007, United Sta...</td>\n",
       "      <td>NaN</td>\n",
       "      <td>NaN</td>\n",
       "      <td>NaN</td>\n",
       "      <td>NaN</td>\n",
       "      <td>NaN</td>\n",
       "      <td>NaN</td>\n",
       "      <td>NaN</td>\n",
       "    </tr>\n",
       "    <tr>\n",
       "      <td>2</td>\n",
       "      <td>3fd66200f964a520f4e41ee3</td>\n",
       "      <td>Ecco</td>\n",
       "      <td>[{'id': '4bf58dd8d48988d110941735', 'name': 'I...</td>\n",
       "      <td>v-1584703899</td>\n",
       "      <td>False</td>\n",
       "      <td>124 Chambers St</td>\n",
       "      <td>40.715337</td>\n",
       "      <td>-74.008848</td>\n",
       "      <td>[{'label': 'display', 'lat': 40.71533713859952...</td>\n",
       "      <td>549</td>\n",
       "      <td>...</td>\n",
       "      <td>NY</td>\n",
       "      <td>United States</td>\n",
       "      <td>[124 Chambers St (btwn Church St &amp; W Broadway)...</td>\n",
       "      <td>NaN</td>\n",
       "      <td>NaN</td>\n",
       "      <td>NaN</td>\n",
       "      <td>NaN</td>\n",
       "      <td>NaN</td>\n",
       "      <td>NaN</td>\n",
       "      <td>btwn Church St &amp; W Broadway</td>\n",
       "    </tr>\n",
       "  </tbody>\n",
       "</table>\n",
       "<p>3 rows × 23 columns</p>\n",
       "</div>"
      ],
      "text/plain": [
       "                         id                             name  \\\n",
       "0  4fa862b3e4b0ebff2f749f06        Harry's Italian Pizza Bar   \n",
       "1  4f3232e219836c91c7bfde94  Conca Cucina Italian Restaurant   \n",
       "2  3fd66200f964a520f4e41ee3                             Ecco   \n",
       "\n",
       "                                          categories    referralId  hasPerk  \\\n",
       "0  [{'id': '4bf58dd8d48988d1ca941735', 'name': 'P...  v-1584703899    False   \n",
       "1  [{'id': '4d4b7105d754a06374d81259', 'name': 'F...  v-1584703899    False   \n",
       "2  [{'id': '4bf58dd8d48988d110941735', 'name': 'I...  v-1584703899    False   \n",
       "\n",
       "  location.address  location.lat  location.lng  \\\n",
       "0    225 Murray St     40.715218    -74.014739   \n",
       "1    63 W Broadway     40.714484    -74.009806   \n",
       "2  124 Chambers St     40.715337    -74.008848   \n",
       "\n",
       "                             location.labeledLatLngs  location.distance  ...  \\\n",
       "0  [{'label': 'display', 'lat': 40.71521779064671...                 58  ...   \n",
       "1  [{'label': 'display', 'lat': 40.71448400000000...                469  ...   \n",
       "2  [{'label': 'display', 'lat': 40.71533713859952...                549  ...   \n",
       "\n",
       "  location.state location.country  \\\n",
       "0             NY    United States   \n",
       "1             NY    United States   \n",
       "2             NY    United States   \n",
       "\n",
       "                           location.formattedAddress delivery.id  \\\n",
       "0  [225 Murray St, New York, NY 10282, United Sta...      294544   \n",
       "1  [63 W Broadway, New York, NY 10007, United Sta...         NaN   \n",
       "2  [124 Chambers St (btwn Church St & W Broadway)...         NaN   \n",
       "\n",
       "                                        delivery.url delivery.provider.name  \\\n",
       "0  https://www.seamless.com/menu/harrys-italian-p...               seamless   \n",
       "1                                                NaN                    NaN   \n",
       "2                                                NaN                    NaN   \n",
       "\n",
       "              delivery.provider.icon.prefix delivery.provider.icon.sizes  \\\n",
       "0  https://fastly.4sqi.net/img/general/cap/                     [40, 50]   \n",
       "1                                       NaN                          NaN   \n",
       "2                                       NaN                          NaN   \n",
       "\n",
       "                delivery.provider.icon.name         location.crossStreet  \n",
       "0  /delivery_provider_seamless_20180129.png                          NaN  \n",
       "1                                       NaN                          NaN  \n",
       "2                                       NaN  btwn Church St & W Broadway  \n",
       "\n",
       "[3 rows x 23 columns]"
      ]
     },
     "execution_count": 9,
     "metadata": {},
     "output_type": "execute_result"
    }
   ],
   "source": [
    "# assign relevant part of JSON to venues\n",
    "venues = results['response']['venues']\n",
    "\n",
    "# tranform venues into a dataframe\n",
    "dataframe = json_normalize(venues)\n",
    "dataframe.head()"
   ]
  },
  {
   "cell_type": "markdown",
   "metadata": {
    "button": false,
    "new_sheet": false,
    "run_control": {
     "read_only": false
    }
   },
   "source": [
    "#### Define information of interest and filter dataframe"
   ]
  },
  {
   "cell_type": "code",
   "execution_count": 33,
   "metadata": {
    "button": false,
    "jupyter": {
     "outputs_hidden": false
    },
    "new_sheet": false,
    "run_control": {
     "read_only": false
    },
    "scrolled": true
   },
   "outputs": [
    {
     "data": {
      "text/html": [
       "<div>\n",
       "<style scoped>\n",
       "    .dataframe tbody tr th:only-of-type {\n",
       "        vertical-align: middle;\n",
       "    }\n",
       "\n",
       "    .dataframe tbody tr th {\n",
       "        vertical-align: top;\n",
       "    }\n",
       "\n",
       "    .dataframe thead th {\n",
       "        text-align: right;\n",
       "    }\n",
       "</style>\n",
       "<table border=\"1\" class=\"dataframe\">\n",
       "  <thead>\n",
       "    <tr style=\"text-align: right;\">\n",
       "      <th></th>\n",
       "      <th>name</th>\n",
       "      <th>categories</th>\n",
       "      <th>address</th>\n",
       "      <th>lat</th>\n",
       "      <th>lng</th>\n",
       "      <th>labeledLatLngs</th>\n",
       "      <th>distance</th>\n",
       "      <th>postalCode</th>\n",
       "      <th>cc</th>\n",
       "      <th>city</th>\n",
       "      <th>state</th>\n",
       "      <th>country</th>\n",
       "      <th>formattedAddress</th>\n",
       "      <th>crossStreet</th>\n",
       "      <th>id</th>\n",
       "    </tr>\n",
       "  </thead>\n",
       "  <tbody>\n",
       "    <tr>\n",
       "      <td>0</td>\n",
       "      <td>Harry's Italian Pizza Bar</td>\n",
       "      <td>Pizza Place</td>\n",
       "      <td>225 Murray St</td>\n",
       "      <td>40.715218</td>\n",
       "      <td>-74.014739</td>\n",
       "      <td>[{'label': 'display', 'lat': 40.71521779064671...</td>\n",
       "      <td>58</td>\n",
       "      <td>10282</td>\n",
       "      <td>US</td>\n",
       "      <td>New York</td>\n",
       "      <td>NY</td>\n",
       "      <td>United States</td>\n",
       "      <td>[225 Murray St, New York, NY 10282, United Sta...</td>\n",
       "      <td>NaN</td>\n",
       "      <td>4fa862b3e4b0ebff2f749f06</td>\n",
       "    </tr>\n",
       "    <tr>\n",
       "      <td>1</td>\n",
       "      <td>Conca Cucina Italian Restaurant</td>\n",
       "      <td>Food</td>\n",
       "      <td>63 W Broadway</td>\n",
       "      <td>40.714484</td>\n",
       "      <td>-74.009806</td>\n",
       "      <td>[{'label': 'display', 'lat': 40.71448400000000...</td>\n",
       "      <td>469</td>\n",
       "      <td>10007</td>\n",
       "      <td>US</td>\n",
       "      <td>New York</td>\n",
       "      <td>NY</td>\n",
       "      <td>United States</td>\n",
       "      <td>[63 W Broadway, New York, NY 10007, United Sta...</td>\n",
       "      <td>NaN</td>\n",
       "      <td>4f3232e219836c91c7bfde94</td>\n",
       "    </tr>\n",
       "    <tr>\n",
       "      <td>2</td>\n",
       "      <td>Ecco</td>\n",
       "      <td>Italian Restaurant</td>\n",
       "      <td>124 Chambers St</td>\n",
       "      <td>40.715337</td>\n",
       "      <td>-74.008848</td>\n",
       "      <td>[{'label': 'display', 'lat': 40.71533713859952...</td>\n",
       "      <td>549</td>\n",
       "      <td>10007</td>\n",
       "      <td>US</td>\n",
       "      <td>New York</td>\n",
       "      <td>NY</td>\n",
       "      <td>United States</td>\n",
       "      <td>[124 Chambers St (btwn Church St &amp; W Broadway)...</td>\n",
       "      <td>btwn Church St &amp; W Broadway</td>\n",
       "      <td>3fd66200f964a520f4e41ee3</td>\n",
       "    </tr>\n",
       "  </tbody>\n",
       "</table>\n",
       "</div>"
      ],
      "text/plain": [
       "                              name          categories          address  \\\n",
       "0        Harry's Italian Pizza Bar         Pizza Place    225 Murray St   \n",
       "1  Conca Cucina Italian Restaurant                Food    63 W Broadway   \n",
       "2                             Ecco  Italian Restaurant  124 Chambers St   \n",
       "\n",
       "         lat        lng                                     labeledLatLngs  \\\n",
       "0  40.715218 -74.014739  [{'label': 'display', 'lat': 40.71521779064671...   \n",
       "1  40.714484 -74.009806  [{'label': 'display', 'lat': 40.71448400000000...   \n",
       "2  40.715337 -74.008848  [{'label': 'display', 'lat': 40.71533713859952...   \n",
       "\n",
       "   distance postalCode  cc      city state        country  \\\n",
       "0        58      10282  US  New York    NY  United States   \n",
       "1       469      10007  US  New York    NY  United States   \n",
       "2       549      10007  US  New York    NY  United States   \n",
       "\n",
       "                                    formattedAddress  \\\n",
       "0  [225 Murray St, New York, NY 10282, United Sta...   \n",
       "1  [63 W Broadway, New York, NY 10007, United Sta...   \n",
       "2  [124 Chambers St (btwn Church St & W Broadway)...   \n",
       "\n",
       "                   crossStreet                        id  \n",
       "0                          NaN  4fa862b3e4b0ebff2f749f06  \n",
       "1                          NaN  4f3232e219836c91c7bfde94  \n",
       "2  btwn Church St & W Broadway  3fd66200f964a520f4e41ee3  "
      ]
     },
     "execution_count": 33,
     "metadata": {},
     "output_type": "execute_result"
    }
   ],
   "source": [
    "# keep only columns that include venue name, and anything that is associated with location\n",
    "filtered_columns = ['name', 'categories'] + [col for col in dataframe.columns if col.startswith('location.')] + ['id']\n",
    "dataframe_filtered = dataframe.loc[:, filtered_columns]\n",
    "\n",
    "# function that extracts the category of the venue\n",
    "def get_category_type(row):\n",
    "    try:\n",
    "        categories_list = row['categories']\n",
    "    except:\n",
    "        categories_list = row['venue.categories']\n",
    "        \n",
    "    if len(categories_list) == 0:\n",
    "        return None\n",
    "    else:\n",
    "        return categories_list[0]['name']\n",
    "\n",
    "# filter the category for each row\n",
    "dataframe_filtered['categories'] = dataframe_filtered.apply(get_category_type, axis=1)\n",
    "\n",
    "# clean column names by keeping only last term\n",
    "dataframe_filtered.columns = [column.split('.')[-1] for column in dataframe_filtered.columns]\n",
    "\n",
    "dataframe_filtered"
   ]
  },
  {
   "cell_type": "markdown",
   "metadata": {
    "button": false,
    "new_sheet": false,
    "run_control": {
     "read_only": false
    }
   },
   "source": [
    "#### Let's visualize the Italian restaurants that are nearby"
   ]
  },
  {
   "cell_type": "code",
   "execution_count": 34,
   "metadata": {
    "button": false,
    "jupyter": {
     "outputs_hidden": false
    },
    "new_sheet": false,
    "run_control": {
     "read_only": false
    }
   },
   "outputs": [
    {
     "data": {
      "text/plain": [
       "0          Harry's Italian Pizza Bar\n",
       "1    Conca Cucina Italian Restaurant\n",
       "2                               Ecco\n",
       "Name: name, dtype: object"
      ]
     },
     "execution_count": 34,
     "metadata": {},
     "output_type": "execute_result"
    }
   ],
   "source": [
    "dataframe_filtered.name"
   ]
  },
  {
   "cell_type": "code",
   "execution_count": 36,
   "metadata": {
    "button": false,
    "jupyter": {
     "outputs_hidden": false
    },
    "new_sheet": false,
    "run_control": {
     "read_only": false
    }
   },
   "outputs": [
    {
     "data": {
      "text/html": [
       "<div style=\"width:100%;\"><div style=\"position:relative;width:100%;height:0;padding-bottom:60%;\"><iframe src=\"about:blank\" style=\"position:absolute;width:100%;height:100%;left:0;top:0;border:none !important;\" data-html=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 onload=\"this.contentDocument.open();this.contentDocument.write(atob(this.getAttribute('data-html')));this.contentDocument.close();\" allowfullscreen webkitallowfullscreen mozallowfullscreen></iframe></div></div>"
      ],
      "text/plain": [
       "<folium.folium.Map at 0x11797d0d0>"
      ]
     },
     "execution_count": 36,
     "metadata": {},
     "output_type": "execute_result"
    }
   ],
   "source": [
    "venues_map = folium.Map(location=[latitude, longitude], zoom_start=13) # generate map centred around the Conrad Hotel\n",
    "\n",
    "# add a red circle marker to represent the Conrad Hotel\n",
    "# module 'folium.features' has no attribute 'CircleMarker'\n",
    "# fixed by : folium.features == folium \n",
    "folium.CircleMarker(\n",
    "    [latitude, longitude],\n",
    "    radius=10,\n",
    "    color='red',\n",
    "    popup='Conrad Hotel',\n",
    "    fill = True,\n",
    "    fill_color = 'red',\n",
    "    fill_opacity = 0.6\n",
    ").add_to(venues_map)\n",
    "\n",
    "# add the Italian restaurants as blue circle markers\n",
    "for lat, lng, label in zip(dataframe_filtered.lat, dataframe_filtered.lng, dataframe_filtered.categories):\n",
    "    folium.CircleMarker(\n",
    "        [lat, lng],\n",
    "        radius=5,\n",
    "        color='blue',\n",
    "        popup=label,\n",
    "        fill = True,\n",
    "        fill_color='blue',\n",
    "        fill_opacity=0.6\n",
    "    ).add_to(venues_map)\n",
    "\n",
    "# display map\n",
    "venues_map"
   ]
  },
  {
   "cell_type": "markdown",
   "metadata": {
    "button": false,
    "new_sheet": false,
    "run_control": {
     "read_only": false
    }
   },
   "source": [
    "   "
   ]
  },
  {
   "cell_type": "markdown",
   "metadata": {
    "button": false,
    "new_sheet": false,
    "run_control": {
     "read_only": false
    }
   },
   "source": [
    "<a id=\"item2\"></a>"
   ]
  },
  {
   "cell_type": "markdown",
   "metadata": {
    "button": false,
    "new_sheet": false,
    "run_control": {
     "read_only": false
    }
   },
   "source": [
    "## 2. Explore a Given Venue\n",
    ">https://api.foursquare.com/v2/venues/VENUE_ID?client_id=CLIENT_ID&client_secret=CLIENT_SECRET&v=VERSION"
   ]
  },
  {
   "cell_type": "markdown",
   "metadata": {
    "button": false,
    "new_sheet": false,
    "run_control": {
     "read_only": false
    }
   },
   "source": [
    "### A. Let's explore the closest Italian restaurant -- _Harry's Italian Pizza Bar_"
   ]
  },
  {
   "cell_type": "code",
   "execution_count": 38,
   "metadata": {
    "button": false,
    "jupyter": {
     "outputs_hidden": false
    },
    "new_sheet": false,
    "run_control": {
     "read_only": false
    }
   },
   "outputs": [
    {
     "data": {
      "text/plain": [
       "'https://api.foursquare.com/v2/venues/4fa862b3e4b0ebff2f749f06?client_id=HD1NAYFDOU5MXUS5EYLRNKNHDRV24LQ5PMVJ0QK1LLQNDD5P&client_secret=S33QQLOFTKNBC3KKOQKHBDJLR0XRICWMH1RB1T1QMU3JEGZ0&v=20180604'"
      ]
     },
     "execution_count": 38,
     "metadata": {},
     "output_type": "execute_result"
    }
   ],
   "source": [
    "venue_id = '4fa862b3e4b0ebff2f749f06' # ID of Harry's Italian Pizza Bar\n",
    "url = 'https://api.foursquare.com/v2/venues/{}?client_id={}&client_secret={}&v={}'.format(venue_id, CLIENT_ID, CLIENT_SECRET, VERSION)\n",
    "url"
   ]
  },
  {
   "cell_type": "markdown",
   "metadata": {
    "button": false,
    "new_sheet": false,
    "run_control": {
     "read_only": false
    }
   },
   "source": [
    "#### Send GET request for result"
   ]
  },
  {
   "cell_type": "code",
   "execution_count": 39,
   "metadata": {
    "button": false,
    "jupyter": {
     "outputs_hidden": false
    },
    "new_sheet": false,
    "run_control": {
     "read_only": false
    }
   },
   "outputs": [
    {
     "name": "stdout",
     "output_type": "stream",
     "text": [
      "dict_keys(['id', 'name', 'contact', 'location', 'canonicalUrl', 'categories', 'verified', 'stats', 'url', 'price', 'hasMenu', 'likes', 'dislike', 'ok', 'rating', 'ratingColor', 'ratingSignals', 'delivery', 'menu', 'allowMenuUrlEdit', 'beenHere', 'specials', 'photos', 'reasons', 'hereNow', 'createdAt', 'tips', 'shortUrl', 'timeZone', 'listed', 'hours', 'popular', 'pageUpdates', 'inbox', 'attributes', 'bestPhoto', 'colors'])\n"
     ]
    },
    {
     "data": {
      "text/plain": [
       "{'id': '4fa862b3e4b0ebff2f749f06',\n",
       " 'name': \"Harry's Italian Pizza Bar\",\n",
       " 'contact': {'phone': '2126081007', 'formattedPhone': '(212) 608-1007'},\n",
       " 'location': {'address': '225 Murray St',\n",
       "  'lat': 40.71521779064671,\n",
       "  'lng': -74.01473940209351,\n",
       "  'labeledLatLngs': [{'label': 'display',\n",
       "    'lat': 40.71521779064671,\n",
       "    'lng': -74.01473940209351}],\n",
       "  'postalCode': '10282',\n",
       "  'cc': 'US',\n",
       "  'city': 'New York',\n",
       "  'state': 'NY',\n",
       "  'country': 'United States',\n",
       "  'formattedAddress': ['225 Murray St',\n",
       "   'New York, NY 10282',\n",
       "   'United States']},\n",
       " 'canonicalUrl': 'https://foursquare.com/v/harrys-italian-pizza-bar/4fa862b3e4b0ebff2f749f06',\n",
       " 'categories': [{'id': '4bf58dd8d48988d1ca941735',\n",
       "   'name': 'Pizza Place',\n",
       "   'pluralName': 'Pizza Places',\n",
       "   'shortName': 'Pizza',\n",
       "   'icon': {'prefix': 'https://ss3.4sqi.net/img/categories_v2/food/pizza_',\n",
       "    'suffix': '.png'},\n",
       "   'primary': True},\n",
       "  {'id': '4bf58dd8d48988d110941735',\n",
       "   'name': 'Italian Restaurant',\n",
       "   'pluralName': 'Italian Restaurants',\n",
       "   'shortName': 'Italian',\n",
       "   'icon': {'prefix': 'https://ss3.4sqi.net/img/categories_v2/food/italian_',\n",
       "    'suffix': '.png'}}],\n",
       " 'verified': False,\n",
       " 'stats': {'tipCount': 57},\n",
       " 'url': 'http://harrysitalian.com',\n",
       " 'price': {'tier': 2, 'message': 'Moderate', 'currency': '$'},\n",
       " 'hasMenu': True,\n",
       " 'likes': {'count': 120,\n",
       "  'groups': [{'type': 'others', 'count': 120, 'items': []}],\n",
       "  'summary': '120 Likes'},\n",
       " 'dislike': False,\n",
       " 'ok': False,\n",
       " 'rating': 7.0,\n",
       " 'ratingColor': 'C5DE35',\n",
       " 'ratingSignals': 212,\n",
       " 'delivery': {'id': '294544',\n",
       "  'url': 'https://www.seamless.com/menu/harrys-italian-pizza-bar-225-murray-st-new-york/294544?affiliate=1131&utm_source=foursquare-affiliate-network&utm_medium=affiliate&utm_campaign=1131&utm_content=294544',\n",
       "  'provider': {'name': 'seamless',\n",
       "   'icon': {'prefix': 'https://fastly.4sqi.net/img/general/cap/',\n",
       "    'sizes': [40, 50],\n",
       "    'name': '/delivery_provider_seamless_20180129.png'}}},\n",
       " 'menu': {'type': 'Menu',\n",
       "  'label': 'Menu',\n",
       "  'anchor': 'View Menu',\n",
       "  'url': 'https://foursquare.com/v/harrys-italian-pizza-bar/4fa862b3e4b0ebff2f749f06/menu',\n",
       "  'mobileUrl': 'https://foursquare.com/v/4fa862b3e4b0ebff2f749f06/device_menu'},\n",
       " 'allowMenuUrlEdit': True,\n",
       " 'beenHere': {'count': 0,\n",
       "  'unconfirmedCount': 0,\n",
       "  'marked': False,\n",
       "  'lastCheckinExpiredAt': 0},\n",
       " 'specials': {'count': 0, 'items': []},\n",
       " 'photos': {'count': 147,\n",
       "  'groups': [{'type': 'venue',\n",
       "    'name': 'Venue photos',\n",
       "    'count': 147,\n",
       "    'items': [{'id': '4fad980de4b091b4626c3633',\n",
       "      'createdAt': 1336776717,\n",
       "      'source': {'name': 'Foursquare for Android',\n",
       "       'url': 'https://foursquare.com/download/#/android'},\n",
       "      'prefix': 'https://fastly.4sqi.net/img/general/',\n",
       "      'suffix': '/ya1iQFI7pLjuIJp1PGDKlrZS3OJdHCF7tpILMmjv_2w.jpg',\n",
       "      'width': 480,\n",
       "      'height': 640,\n",
       "      'user': {'id': '13676709',\n",
       "       'firstName': 'Leony',\n",
       "       'lastName': 'N',\n",
       "       'photo': {'prefix': 'https://fastly.4sqi.net/img/user/',\n",
       "        'suffix': '/T0ANFNGNMCHUDEUE.jpg'}},\n",
       "      'visibility': 'public'}]}]},\n",
       " 'reasons': {'count': 1,\n",
       "  'items': [{'summary': 'Lots of people like this place',\n",
       "    'type': 'general',\n",
       "    'reasonName': 'rawLikesReason'}]},\n",
       " 'hereNow': {'count': 0, 'summary': 'Nobody here', 'groups': []},\n",
       " 'createdAt': 1336435379,\n",
       " 'tips': {'count': 57,\n",
       "  'groups': [{'type': 'others',\n",
       "    'name': 'All tips',\n",
       "    'count': 57,\n",
       "    'items': [{'id': '53d27909498e0523841340b6',\n",
       "      'createdAt': 1406302473,\n",
       "      'text': \"Harry's Italian Pizza bar is known for it's amazing pizza, but did you know that the brunches here are amazing too? Try the Nutella French toast and we know you'll be sold.\",\n",
       "      'type': 'user',\n",
       "      'canonicalUrl': 'https://foursquare.com/item/53d27909498e0523841340b6',\n",
       "      'lang': 'en',\n",
       "      'likes': {'count': 4,\n",
       "       'groups': [{'type': 'others',\n",
       "         'count': 4,\n",
       "         'items': [{'id': '369426',\n",
       "           'firstName': 'P.',\n",
       "           'lastName': 'M',\n",
       "           'photo': {'prefix': 'https://fastly.4sqi.net/img/user/',\n",
       "            'suffix': '/JPQYUWJKUT0H2OO4.jpg'}},\n",
       "          {'id': '87587879',\n",
       "           'firstName': 'Diane',\n",
       "           'lastName': 'D',\n",
       "           'photo': {'prefix': 'https://fastly.4sqi.net/img/user/',\n",
       "            'suffix': '/87587879-ESLRSZLQ2CBE2P4W.jpg'}},\n",
       "          {'id': '87591341',\n",
       "           'firstName': 'Tim',\n",
       "           'lastName': 'S',\n",
       "           'photo': {'prefix': 'https://fastly.4sqi.net/img/user/',\n",
       "            'suffix': '/-Z4YK4VKE0JSVXIY1.jpg'}},\n",
       "          {'id': '87473404',\n",
       "           'firstName': 'TenantKing.com',\n",
       "           'photo': {'prefix': 'https://fastly.4sqi.net/img/user/',\n",
       "            'suffix': '/87473404-HI5DTBTK0HX401CA.png'},\n",
       "           'type': 'page'}]}],\n",
       "       'summary': '4 likes'},\n",
       "      'logView': True,\n",
       "      'agreeCount': 4,\n",
       "      'disagreeCount': 0,\n",
       "      'todo': {'count': 0},\n",
       "      'user': {'id': '87473404',\n",
       "       'firstName': 'TenantKing.com',\n",
       "       'photo': {'prefix': 'https://fastly.4sqi.net/img/user/',\n",
       "        'suffix': '/87473404-HI5DTBTK0HX401CA.png'},\n",
       "       'type': 'page'}}]}]},\n",
       " 'shortUrl': 'http://4sq.com/JNblHV',\n",
       " 'timeZone': 'America/New_York',\n",
       " 'listed': {'count': 54,\n",
       "  'groups': [{'type': 'others',\n",
       "    'name': 'Lists from other people',\n",
       "    'count': 54,\n",
       "    'items': [{'id': '4fa32fd0e4b04193744746b1',\n",
       "      'name': 'Manhattan Haunts',\n",
       "      'description': '',\n",
       "      'type': 'others',\n",
       "      'user': {'id': '24592223',\n",
       "       'firstName': 'Becca',\n",
       "       'lastName': 'M',\n",
       "       'photo': {'prefix': 'https://fastly.4sqi.net/img/user/',\n",
       "        'suffix': '/24592223-RAW2UYM0GIB1U40K.jpg'}},\n",
       "      'editable': False,\n",
       "      'public': True,\n",
       "      'collaborative': False,\n",
       "      'url': '/becca_mcarthur/list/manhattan-haunts',\n",
       "      'canonicalUrl': 'https://foursquare.com/becca_mcarthur/list/manhattan-haunts',\n",
       "      'createdAt': 1336094672,\n",
       "      'updatedAt': 1380845377,\n",
       "      'photo': {'id': '4e8cc9461081e3b3544e12e5',\n",
       "       'createdAt': 1317849414,\n",
       "       'prefix': 'https://fastly.4sqi.net/img/general/',\n",
       "       'suffix': '/0NLVU2HC1JF4DXIMKWUFW3QBUT31DC11EFNYYHMJG3NDWAPS.jpg',\n",
       "       'width': 492,\n",
       "       'height': 330,\n",
       "       'user': {'id': '742542',\n",
       "        'firstName': 'Time Out New York',\n",
       "        'photo': {'prefix': 'https://fastly.4sqi.net/img/user/',\n",
       "         'suffix': '/XXHKCBSQHBORZNSR.jpg'},\n",
       "        'type': 'page'},\n",
       "       'visibility': 'public'},\n",
       "      'followers': {'count': 22},\n",
       "      'listItems': {'count': 187,\n",
       "       'items': [{'id': 'v4fa862b3e4b0ebff2f749f06',\n",
       "         'createdAt': 1342934485}]}},\n",
       "     {'id': '4fae817be4b085f6b2a74d19',\n",
       "      'name': 'USA NYC MAN FiDi',\n",
       "      'description': 'Where to go for decent eats in the restaurant wasteland of Downtown NYC aka FiDi, along with Tribeca & Battery Park City.',\n",
       "      'type': 'others',\n",
       "      'user': {'id': '12113441',\n",
       "       'firstName': 'Kino',\n",
       "       'photo': {'prefix': 'https://fastly.4sqi.net/img/user/',\n",
       "        'suffix': '/12113441-K5HTHFLU2MUCM0CM.jpg'}},\n",
       "      'editable': False,\n",
       "      'public': True,\n",
       "      'collaborative': False,\n",
       "      'url': '/kinosfault/list/usa-nyc-man-fidi',\n",
       "      'canonicalUrl': 'https://foursquare.com/kinosfault/list/usa-nyc-man-fidi',\n",
       "      'createdAt': 1336836475,\n",
       "      'updatedAt': 1556754919,\n",
       "      'photo': {'id': '55984992498e13ba75e353bb',\n",
       "       'createdAt': 1436043666,\n",
       "       'prefix': 'https://fastly.4sqi.net/img/general/',\n",
       "       'suffix': '/12113441_iOa6Uh-Xi8bhj2-gpzkkw8MKiAIs7RmOcz_RM7m8ink.jpg',\n",
       "       'width': 540,\n",
       "       'height': 960,\n",
       "       'user': {'id': '12113441',\n",
       "        'firstName': 'Kino',\n",
       "        'photo': {'prefix': 'https://fastly.4sqi.net/img/user/',\n",
       "         'suffix': '/12113441-K5HTHFLU2MUCM0CM.jpg'}},\n",
       "       'visibility': 'public'},\n",
       "      'followers': {'count': 20},\n",
       "      'listItems': {'count': 273,\n",
       "       'items': [{'id': 'v4fa862b3e4b0ebff2f749f06',\n",
       "         'createdAt': 1373909433}]}},\n",
       "     {'id': '4fddeff0e4b0e078037ac0d3',\n",
       "      'name': 'NYC Resturants',\n",
       "      'description': '',\n",
       "      'type': 'others',\n",
       "      'user': {'id': '21563126',\n",
       "       'firstName': 'Richard',\n",
       "       'lastName': 'R',\n",
       "       'photo': {'prefix': 'https://fastly.4sqi.net/img/user/',\n",
       "        'suffix': '/21563126_v05J1KPw_SVj6Ehq9g8B9jeAGjFUMsU5QGl-NZ8inUQ7pKQm5bKplW37EmR7jS2A7GYPBBAtl.jpg'}},\n",
       "      'editable': False,\n",
       "      'public': True,\n",
       "      'collaborative': True,\n",
       "      'url': '/rickr7/list/nyc-resturants',\n",
       "      'canonicalUrl': 'https://foursquare.com/rickr7/list/nyc-resturants',\n",
       "      'createdAt': 1339944944,\n",
       "      'updatedAt': 1582232663,\n",
       "      'photo': {'id': '5072dd13e4b09145cdf782d1',\n",
       "       'createdAt': 1349704979,\n",
       "       'prefix': 'https://fastly.4sqi.net/img/general/',\n",
       "       'suffix': '/208205_fGh2OuAZ9qJ4agbAA5wMVNOSIm9kNUlRtNwj1N-adqg.jpg',\n",
       "       'width': 800,\n",
       "       'height': 800,\n",
       "       'user': {'id': '208205',\n",
       "        'firstName': 'Thalia',\n",
       "        'lastName': 'K',\n",
       "        'photo': {'prefix': 'https://fastly.4sqi.net/img/user/',\n",
       "         'suffix': '/SNOOLCAW2AG04ZKD.jpg'}},\n",
       "       'visibility': 'public'},\n",
       "      'followers': {'count': 12},\n",
       "      'listItems': {'count': 194,\n",
       "       'items': [{'id': 'v4fa862b3e4b0ebff2f749f06',\n",
       "         'createdAt': 1581655865}]}},\n",
       "     {'id': '5266c68a498e7c667807fe09',\n",
       "      'name': 'Foodie Love in NY - 02',\n",
       "      'description': '',\n",
       "      'type': 'others',\n",
       "      'user': {'id': '547977',\n",
       "       'firstName': 'WiLL',\n",
       "       'photo': {'prefix': 'https://fastly.4sqi.net/img/user/',\n",
       "        'suffix': '/-Q5NYGDMFDMOITQRR.jpg'}},\n",
       "      'editable': False,\n",
       "      'public': True,\n",
       "      'collaborative': False,\n",
       "      'url': '/sweetiewill/list/foodie-love-in-ny--02',\n",
       "      'canonicalUrl': 'https://foursquare.com/sweetiewill/list/foodie-love-in-ny--02',\n",
       "      'createdAt': 1382467210,\n",
       "      'updatedAt': 1391995585,\n",
       "      'followers': {'count': 7},\n",
       "      'listItems': {'count': 200,\n",
       "       'items': [{'id': 'v4fa862b3e4b0ebff2f749f06',\n",
       "         'createdAt': 1386809936}]}}]}]},\n",
       " 'hours': {'status': 'Closed until 11:30 AM',\n",
       "  'richStatus': {'entities': [], 'text': 'Closed until 11:30 AM'},\n",
       "  'isOpen': False,\n",
       "  'isLocalHoliday': False,\n",
       "  'dayData': [],\n",
       "  'timeframes': [{'days': 'Mon–Wed, Sun',\n",
       "    'open': [{'renderedTime': '11:30 AM–11:00 PM'}],\n",
       "    'segments': []},\n",
       "   {'days': 'Thu–Sat',\n",
       "    'includesToday': True,\n",
       "    'open': [{'renderedTime': '11:30 AM–Midnight'}],\n",
       "    'segments': []}]},\n",
       " 'popular': {'isOpen': False,\n",
       "  'isLocalHoliday': False,\n",
       "  'timeframes': [{'days': 'Today',\n",
       "    'includesToday': True,\n",
       "    'open': [{'renderedTime': 'Noon–3:00 PM'},\n",
       "     {'renderedTime': '5:00 PM–11:00 PM'}],\n",
       "    'segments': []},\n",
       "   {'days': 'Sat',\n",
       "    'open': [{'renderedTime': 'Noon–11:00 PM'}],\n",
       "    'segments': []},\n",
       "   {'days': 'Sun',\n",
       "    'open': [{'renderedTime': 'Noon–3:00 PM'},\n",
       "     {'renderedTime': '5:00 PM–8:00 PM'}],\n",
       "    'segments': []},\n",
       "   {'days': 'Mon',\n",
       "    'open': [{'renderedTime': 'Noon–2:00 PM'},\n",
       "     {'renderedTime': '6:00 PM–8:00 PM'}],\n",
       "    'segments': []},\n",
       "   {'days': 'Tue–Thu',\n",
       "    'open': [{'renderedTime': 'Noon–2:00 PM'},\n",
       "     {'renderedTime': '5:00 PM–10:00 PM'}],\n",
       "    'segments': []}]},\n",
       " 'pageUpdates': {'count': 0, 'items': []},\n",
       " 'inbox': {'count': 0, 'items': []},\n",
       " 'attributes': {'groups': [{'type': 'price',\n",
       "    'name': 'Price',\n",
       "    'summary': '$$',\n",
       "    'count': 1,\n",
       "    'items': [{'displayName': 'Price', 'displayValue': '$$', 'priceTier': 2}]},\n",
       "   {'type': 'payments',\n",
       "    'name': 'Credit Cards',\n",
       "    'summary': 'Credit Cards',\n",
       "    'count': 7,\n",
       "    'items': [{'displayName': 'Credit Cards',\n",
       "      'displayValue': 'Yes (incl. American Express)'}]},\n",
       "   {'type': 'outdoorSeating',\n",
       "    'name': 'Outdoor Seating',\n",
       "    'summary': 'Outdoor Seating',\n",
       "    'count': 1,\n",
       "    'items': [{'displayName': 'Outdoor Seating', 'displayValue': 'Yes'}]},\n",
       "   {'type': 'serves',\n",
       "    'name': 'Menus',\n",
       "    'summary': 'Happy Hour, Brunch & more',\n",
       "    'count': 8,\n",
       "    'items': [{'displayName': 'Brunch', 'displayValue': 'Brunch'},\n",
       "     {'displayName': 'Lunch', 'displayValue': 'Lunch'},\n",
       "     {'displayName': 'Dinner', 'displayValue': 'Dinner'},\n",
       "     {'displayName': 'Happy Hour', 'displayValue': 'Happy Hour'}]},\n",
       "   {'type': 'drinks',\n",
       "    'name': 'Drinks',\n",
       "    'summary': 'Beer, Wine & Cocktails',\n",
       "    'count': 5,\n",
       "    'items': [{'displayName': 'Beer', 'displayValue': 'Beer'},\n",
       "     {'displayName': 'Wine', 'displayValue': 'Wine'},\n",
       "     {'displayName': 'Cocktails', 'displayValue': 'Cocktails'}]},\n",
       "   {'type': 'diningOptions',\n",
       "    'name': 'Dining Options',\n",
       "    'summary': 'Delivery',\n",
       "    'count': 5,\n",
       "    'items': [{'displayName': 'Delivery', 'displayValue': 'Delivery'}]}]},\n",
       " 'bestPhoto': {'id': '4fad980de4b091b4626c3633',\n",
       "  'createdAt': 1336776717,\n",
       "  'source': {'name': 'Foursquare for Android',\n",
       "   'url': 'https://foursquare.com/download/#/android'},\n",
       "  'prefix': 'https://fastly.4sqi.net/img/general/',\n",
       "  'suffix': '/ya1iQFI7pLjuIJp1PGDKlrZS3OJdHCF7tpILMmjv_2w.jpg',\n",
       "  'width': 480,\n",
       "  'height': 640,\n",
       "  'visibility': 'public'},\n",
       " 'colors': {'highlightColor': {'photoId': '4fad980de4b091b4626c3633',\n",
       "   'value': -13619152},\n",
       "  'highlightTextColor': {'photoId': '4fad980de4b091b4626c3633', 'value': -1},\n",
       "  'algoVersion': 3}}"
      ]
     },
     "execution_count": 39,
     "metadata": {},
     "output_type": "execute_result"
    }
   ],
   "source": [
    "result = requests.get(url).json()\n",
    "print(result['response']['venue'].keys())\n",
    "result['response']['venue']"
   ]
  },
  {
   "cell_type": "markdown",
   "metadata": {
    "button": false,
    "new_sheet": false,
    "run_control": {
     "read_only": false
    }
   },
   "source": [
    "### B. Get the venue's overall rating"
   ]
  },
  {
   "cell_type": "code",
   "execution_count": 40,
   "metadata": {
    "button": false,
    "jupyter": {
     "outputs_hidden": false
    },
    "new_sheet": false,
    "run_control": {
     "read_only": false
    }
   },
   "outputs": [
    {
     "name": "stdout",
     "output_type": "stream",
     "text": [
      "7.0\n"
     ]
    }
   ],
   "source": [
    "try:\n",
    "    print(result['response']['venue']['rating'])\n",
    "except:\n",
    "    print('This venue has not been rated yet.')"
   ]
  },
  {
   "cell_type": "markdown",
   "metadata": {
    "button": false,
    "new_sheet": false,
    "run_control": {
     "read_only": false
    }
   },
   "source": [
    "That is not a very good rating. Let's check the rating of the second closest Italian restaurant."
   ]
  },
  {
   "cell_type": "code",
   "execution_count": 41,
   "metadata": {
    "button": false,
    "jupyter": {
     "outputs_hidden": false
    },
    "new_sheet": false,
    "run_control": {
     "read_only": false
    }
   },
   "outputs": [
    {
     "name": "stdout",
     "output_type": "stream",
     "text": [
      "This venue has not been rated yet.\n"
     ]
    }
   ],
   "source": [
    "venue_id = '4f3232e219836c91c7bfde94' # ID of Conca Cucina Italian Restaurant\n",
    "url = 'https://api.foursquare.com/v2/venues/{}?client_id={}&client_secret={}&v={}'.format(venue_id, CLIENT_ID, CLIENT_SECRET, VERSION)\n",
    "\n",
    "result = requests.get(url).json()\n",
    "try:\n",
    "    print(result['response']['venue']['rating'])\n",
    "except:\n",
    "    print('This venue has not been rated yet.')"
   ]
  },
  {
   "cell_type": "markdown",
   "metadata": {
    "button": false,
    "new_sheet": false,
    "run_control": {
     "read_only": false
    }
   },
   "source": [
    "Since this restaurant has no ratings, let's check the third restaurant."
   ]
  },
  {
   "cell_type": "code",
   "execution_count": 42,
   "metadata": {
    "button": false,
    "jupyter": {
     "outputs_hidden": false
    },
    "new_sheet": false,
    "run_control": {
     "read_only": false
    }
   },
   "outputs": [
    {
     "name": "stdout",
     "output_type": "stream",
     "text": [
      "7.4\n"
     ]
    }
   ],
   "source": [
    "venue_id = '3fd66200f964a520f4e41ee3' # ID of Ecco\n",
    "url = 'https://api.foursquare.com/v2/venues/{}?client_id={}&client_secret={}&v={}'.format(venue_id, CLIENT_ID, CLIENT_SECRET, VERSION)\n",
    "\n",
    "result = requests.get(url).json()\n",
    "try:\n",
    "    print(result['response']['venue']['rating'])\n",
    "except:\n",
    "    print('This venue has not been rated yet.')"
   ]
  },
  {
   "cell_type": "markdown",
   "metadata": {
    "button": false,
    "new_sheet": false,
    "run_control": {
     "read_only": false
    }
   },
   "source": [
    "Since this restaurant has a slightly better rating, let's explore it further."
   ]
  },
  {
   "cell_type": "markdown",
   "metadata": {
    "button": false,
    "new_sheet": false,
    "run_control": {
     "read_only": false
    }
   },
   "source": [
    "### C. Get the number of tips"
   ]
  },
  {
   "cell_type": "code",
   "execution_count": 43,
   "metadata": {
    "button": false,
    "jupyter": {
     "outputs_hidden": false
    },
    "new_sheet": false,
    "run_control": {
     "read_only": false
    }
   },
   "outputs": [
    {
     "data": {
      "text/plain": [
       "19"
      ]
     },
     "execution_count": 43,
     "metadata": {},
     "output_type": "execute_result"
    }
   ],
   "source": [
    "result['response']['venue']['tips']['count']"
   ]
  },
  {
   "cell_type": "markdown",
   "metadata": {
    "button": false,
    "new_sheet": false,
    "run_control": {
     "read_only": false
    }
   },
   "source": [
    "### D. Get the venue's tips\n",
    ">https://api.foursquare.com/v2/venues/VENUE_ID/tips?client_id=CLIENT_ID&client_secret=CLIENT_SECRET&v=VERSION&limit=LIMIT"
   ]
  },
  {
   "cell_type": "markdown",
   "metadata": {
    "button": false,
    "new_sheet": false,
    "run_control": {
     "read_only": false
    }
   },
   "source": [
    "#### Create URL and send GET request. Make sure to set limit to get all tips"
   ]
  },
  {
   "cell_type": "code",
   "execution_count": 44,
   "metadata": {
    "button": false,
    "jupyter": {
     "outputs_hidden": false
    },
    "new_sheet": false,
    "run_control": {
     "read_only": false
    }
   },
   "outputs": [
    {
     "data": {
      "text/plain": [
       "{'meta': {'code': 200, 'requestId': '5e74b3a0e826ac001ba45119'},\n",
       " 'response': {'tips': {'count': 19,\n",
       "   'items': [{'id': '5ab1cb46c9a517174651d3fe',\n",
       "     'createdAt': 1521601350,\n",
       "     'text': 'A+ Italian food! Trust me on this: my mom’s side of the family is 100% Italian. I was born and bred to know good pasta when I see it, and Ecco is one of my all-time NYC favorites',\n",
       "     'type': 'user',\n",
       "     'canonicalUrl': 'https://foursquare.com/item/5ab1cb46c9a517174651d3fe',\n",
       "     'lang': 'en',\n",
       "     'likes': {'count': 0, 'groups': []},\n",
       "     'logView': True,\n",
       "     'agreeCount': 4,\n",
       "     'disagreeCount': 0,\n",
       "     'todo': {'count': 0},\n",
       "     'user': {'id': '484542633',\n",
       "      'firstName': 'Nick',\n",
       "      'lastName': 'E',\n",
       "      'photo': {'prefix': 'https://fastly.4sqi.net/img/user/',\n",
       "       'suffix': '/484542633_unymNUmw_FdPs3GjXHujmHcYnN4hf8kEPADlOZuIrdcdm97VX3tFqL7fFNMNA_8Gl9NlU1GYg.jpg'}},\n",
       "     'authorInteractionType': 'liked'}]}}}"
      ]
     },
     "execution_count": 44,
     "metadata": {},
     "output_type": "execute_result"
    }
   ],
   "source": [
    "## Ecco Tips\n",
    "limit = 15 # set limit to be greater than or equal to the total number of tips\n",
    "url = 'https://api.foursquare.com/v2/venues/{}/tips?client_id={}&client_secret={}&v={}&limit={}'.format(venue_id, CLIENT_ID, CLIENT_SECRET, VERSION, limit)\n",
    "\n",
    "results = requests.get(url).json()\n",
    "results"
   ]
  },
  {
   "cell_type": "markdown",
   "metadata": {
    "button": false,
    "new_sheet": false,
    "run_control": {
     "read_only": false
    }
   },
   "source": [
    "#### Get tips and list of associated features"
   ]
  },
  {
   "cell_type": "code",
   "execution_count": 45,
   "metadata": {
    "button": false,
    "jupyter": {
     "outputs_hidden": false
    },
    "new_sheet": false,
    "run_control": {
     "read_only": false
    }
   },
   "outputs": [
    {
     "data": {
      "text/plain": [
       "dict_keys(['id', 'createdAt', 'text', 'type', 'canonicalUrl', 'lang', 'likes', 'logView', 'agreeCount', 'disagreeCount', 'todo', 'user', 'authorInteractionType'])"
      ]
     },
     "execution_count": 45,
     "metadata": {},
     "output_type": "execute_result"
    }
   ],
   "source": [
    "tips = results['response']['tips']['items']\n",
    "\n",
    "tip = results['response']['tips']['items'][0]\n",
    "tip.keys()"
   ]
  },
  {
   "cell_type": "markdown",
   "metadata": {
    "button": false,
    "new_sheet": false,
    "run_control": {
     "read_only": false
    }
   },
   "source": [
    "#### Format column width and display all tips"
   ]
  },
  {
   "cell_type": "code",
   "execution_count": 46,
   "metadata": {
    "button": false,
    "jupyter": {
     "outputs_hidden": false
    },
    "new_sheet": false,
    "run_control": {
     "read_only": false
    }
   },
   "outputs": [
    {
     "name": "stderr",
     "output_type": "stream",
     "text": [
      "/usr/local/anaconda3/lib/python3.7/site-packages/pandas/core/indexing.py:1418: FutureWarning: \n",
      "Passing list-likes to .loc or [] with any missing label will raise\n",
      "KeyError in the future, you can use .reindex() as an alternative.\n",
      "\n",
      "See the documentation here:\n",
      "https://pandas.pydata.org/pandas-docs/stable/user_guide/indexing.html#deprecate-loc-reindex-listlike\n",
      "  return self._getitem_tuple(key)\n"
     ]
    },
    {
     "data": {
      "text/html": [
       "<div>\n",
       "<style scoped>\n",
       "    .dataframe tbody tr th:only-of-type {\n",
       "        vertical-align: middle;\n",
       "    }\n",
       "\n",
       "    .dataframe tbody tr th {\n",
       "        vertical-align: top;\n",
       "    }\n",
       "\n",
       "    .dataframe thead th {\n",
       "        text-align: right;\n",
       "    }\n",
       "</style>\n",
       "<table border=\"1\" class=\"dataframe\">\n",
       "  <thead>\n",
       "    <tr style=\"text-align: right;\">\n",
       "      <th></th>\n",
       "      <th>text</th>\n",
       "      <th>agreeCount</th>\n",
       "      <th>disagreeCount</th>\n",
       "      <th>id</th>\n",
       "      <th>user.firstName</th>\n",
       "      <th>user.lastName</th>\n",
       "      <th>user.gender</th>\n",
       "      <th>user.id</th>\n",
       "    </tr>\n",
       "  </thead>\n",
       "  <tbody>\n",
       "    <tr>\n",
       "      <td>0</td>\n",
       "      <td>A+ Italian food! Trust me on this: my mom’s side of the family is 100% Italian. I was born and bred to know good pasta when I see it, and Ecco is one of my all-time NYC favorites</td>\n",
       "      <td>4</td>\n",
       "      <td>0</td>\n",
       "      <td>5ab1cb46c9a517174651d3fe</td>\n",
       "      <td>Nick</td>\n",
       "      <td>E</td>\n",
       "      <td>NaN</td>\n",
       "      <td>484542633</td>\n",
       "    </tr>\n",
       "  </tbody>\n",
       "</table>\n",
       "</div>"
      ],
      "text/plain": [
       "                                                                                                                                                                                 text  \\\n",
       "0  A+ Italian food! Trust me on this: my mom’s side of the family is 100% Italian. I was born and bred to know good pasta when I see it, and Ecco is one of my all-time NYC favorites   \n",
       "\n",
       "   agreeCount  disagreeCount                        id user.firstName  \\\n",
       "0  4           0              5ab1cb46c9a517174651d3fe  Nick            \n",
       "\n",
       "  user.lastName  user.gender    user.id  \n",
       "0  E            NaN           484542633  "
      ]
     },
     "execution_count": 46,
     "metadata": {},
     "output_type": "execute_result"
    }
   ],
   "source": [
    "pd.set_option('display.max_colwidth', -1)\n",
    "\n",
    "tips_df = json_normalize(tips) # json normalize tips\n",
    "\n",
    "# columns to keep\n",
    "filtered_columns = ['text', 'agreeCount', 'disagreeCount', 'id', 'user.firstName', 'user.lastName', 'user.gender', 'user.id']\n",
    "tips_filtered = tips_df.loc[:, filtered_columns]\n",
    "\n",
    "# display tips\n",
    "tips_filtered"
   ]
  },
  {
   "cell_type": "markdown",
   "metadata": {
    "button": false,
    "new_sheet": false,
    "run_control": {
     "read_only": false
    }
   },
   "source": [
    "Now remember that because we are using a personal developer account, then we can access only 2 of the restaurant's tips, instead of all 15 tips."
   ]
  },
  {
   "cell_type": "markdown",
   "metadata": {
    "button": false,
    "new_sheet": false,
    "run_control": {
     "read_only": false
    }
   },
   "source": [
    "   "
   ]
  },
  {
   "cell_type": "markdown",
   "metadata": {
    "button": false,
    "new_sheet": false,
    "run_control": {
     "read_only": false
    }
   },
   "source": [
    "<a id=\"item3\"></a>"
   ]
  },
  {
   "cell_type": "markdown",
   "metadata": {
    "button": false,
    "new_sheet": false,
    "run_control": {
     "read_only": false
    }
   },
   "source": [
    "## 3. Search a Foursquare User\n",
    ">https://api.foursquare.com/v2/users/USER_ID?client_id=CLIENT_ID&client_secret=CLIENT_SECRET&v=VERSION"
   ]
  },
  {
   "cell_type": "markdown",
   "metadata": {
    "button": false,
    "new_sheet": false,
    "run_control": {
     "read_only": false
    }
   },
   "source": [
    "### Define URL, send GET request and display features associated with user"
   ]
  },
  {
   "cell_type": "code",
   "execution_count": 57,
   "metadata": {
    "button": false,
    "jupyter": {
     "outputs_hidden": false
    },
    "new_sheet": false,
    "run_control": {
     "read_only": false
    }
   },
   "outputs": [
    {
     "data": {
      "text/plain": [
       "dict_keys(['id', 'firstName', 'lastName', 'gender', 'canonicalUrl', 'photo', 'friends', 'tips', 'homeCity', 'bio', 'contact', 'photos', 'checkinPings', 'pings', 'type', 'mayorships', 'checkins', 'lists', 'blockedStatus', 'lenses'])"
      ]
     },
     "execution_count": 57,
     "metadata": {},
     "output_type": "execute_result"
    }
   ],
   "source": [
    "user_id = '484542633' # user ID with most agree counts and complete profile\n",
    "\n",
    "ACCESS_TOKEN = 'SCHVSAG5C4G05H4NCQVQ10CDFX2TBR1QUEP02GDNMUFEAYE4'\n",
    "\n",
    "url = 'https://api.foursquare.com/v2/users/{}?client_id={}&client_secret={}&oauth_token={}&v={}'.format(user_id, CLIENT_ID, CLIENT_SECRET, ACCESS_TOKEN, VERSION) # define URL\n",
    "\n",
    "# send GET request\n",
    "results = requests.get(url).json()\n",
    "user_data = results['response']['user']\n",
    "\n",
    "# display features associated with user\n",
    "user_data.keys()"
   ]
  },
  {
   "cell_type": "code",
   "execution_count": 58,
   "metadata": {
    "button": false,
    "jupyter": {
     "outputs_hidden": false
    },
    "new_sheet": false,
    "run_control": {
     "read_only": false
    }
   },
   "outputs": [
    {
     "name": "stdout",
     "output_type": "stream",
     "text": [
      "First Name: Nick\n",
      "Last Name: El-Tawil\n",
      "Home City: New York, NY\n"
     ]
    }
   ],
   "source": [
    "print('First Name: ' + user_data['firstName'])\n",
    "print('Last Name: ' + user_data['lastName'])\n",
    "print('Home City: ' + user_data['homeCity'])"
   ]
  },
  {
   "cell_type": "markdown",
   "metadata": {
    "button": false,
    "new_sheet": false,
    "run_control": {
     "read_only": false
    }
   },
   "source": [
    "#### How many tips has this user submitted?"
   ]
  },
  {
   "cell_type": "code",
   "execution_count": 56,
   "metadata": {
    "button": false,
    "jupyter": {
     "outputs_hidden": false
    },
    "new_sheet": false,
    "run_control": {
     "read_only": false
    }
   },
   "outputs": [
    {
     "data": {
      "text/plain": [
       "{'count': 99}"
      ]
     },
     "execution_count": 56,
     "metadata": {},
     "output_type": "execute_result"
    }
   ],
   "source": [
    "user_data['tips']"
   ]
  },
  {
   "cell_type": "markdown",
   "metadata": {
    "button": false,
    "new_sheet": false,
    "run_control": {
     "read_only": false
    }
   },
   "source": [
    "Wow! So it turns out that Nick is a very active Foursquare user, with more than 250 tips."
   ]
  },
  {
   "cell_type": "markdown",
   "metadata": {
    "button": false,
    "new_sheet": false,
    "run_control": {
     "read_only": false
    }
   },
   "source": [
    "### Get User's tips"
   ]
  },
  {
   "cell_type": "code",
   "execution_count": 59,
   "metadata": {
    "button": false,
    "jupyter": {
     "outputs_hidden": false
    },
    "new_sheet": false,
    "run_control": {
     "read_only": false
    }
   },
   "outputs": [
    {
     "data": {
      "text/html": [
       "<div>\n",
       "<style scoped>\n",
       "    .dataframe tbody tr th:only-of-type {\n",
       "        vertical-align: middle;\n",
       "    }\n",
       "\n",
       "    .dataframe tbody tr th {\n",
       "        vertical-align: top;\n",
       "    }\n",
       "\n",
       "    .dataframe thead th {\n",
       "        text-align: right;\n",
       "    }\n",
       "</style>\n",
       "<table border=\"1\" class=\"dataframe\">\n",
       "  <thead>\n",
       "    <tr style=\"text-align: right;\">\n",
       "      <th></th>\n",
       "      <th>text</th>\n",
       "      <th>agreeCount</th>\n",
       "      <th>disagreeCount</th>\n",
       "      <th>id</th>\n",
       "    </tr>\n",
       "  </thead>\n",
       "  <tbody>\n",
       "    <tr>\n",
       "      <td>0</td>\n",
       "      <td>They serve coffee!!!!!!</td>\n",
       "      <td>1</td>\n",
       "      <td>0</td>\n",
       "      <td>5accc98c0313204c9d7ec157</td>\n",
       "    </tr>\n",
       "    <tr>\n",
       "      <td>1</td>\n",
       "      <td>The linguine with clams is on point 👌</td>\n",
       "      <td>1</td>\n",
       "      <td>0</td>\n",
       "      <td>5accbe3a911fc423730f3ed3</td>\n",
       "    </tr>\n",
       "    <tr>\n",
       "      <td>2</td>\n",
       "      <td>Quick, cheap lunch that tastes good! Way shorter line than Chipotle, too.</td>\n",
       "      <td>2</td>\n",
       "      <td>0</td>\n",
       "      <td>5acbec70a0215b732e264fe8</td>\n",
       "    </tr>\n",
       "    <tr>\n",
       "      <td>3</td>\n",
       "      <td>You’re not a real New Yorker until you’ve shame-ordered Insomnia Cookies for delivery at 3am</td>\n",
       "      <td>1</td>\n",
       "      <td>0</td>\n",
       "      <td>5acbbd4eb1538e45373b07f5</td>\n",
       "    </tr>\n",
       "    <tr>\n",
       "      <td>4</td>\n",
       "      <td>Good for you yet still tasty! Clean green protein is my go-to after I hit the gym 💪</td>\n",
       "      <td>2</td>\n",
       "      <td>0</td>\n",
       "      <td>5acbbcda01235808d5d6dc75</td>\n",
       "    </tr>\n",
       "    <tr>\n",
       "      <td>5</td>\n",
       "      <td>Burger game strong 💪</td>\n",
       "      <td>1</td>\n",
       "      <td>0</td>\n",
       "      <td>5ab575fb6bdee65f759da8c1</td>\n",
       "    </tr>\n",
       "    <tr>\n",
       "      <td>6</td>\n",
       "      <td>Great burgers &amp; fries! Also, this place is exactly what it’s like when you go to a bar in the Southwest. Source: I’m from Arizona.</td>\n",
       "      <td>2</td>\n",
       "      <td>0</td>\n",
       "      <td>5ab5575d73fe2516ad8f363b</td>\n",
       "    </tr>\n",
       "    <tr>\n",
       "      <td>7</td>\n",
       "      <td>Açaí bowl + peanut butter + whey protein = 💪💪💪</td>\n",
       "      <td>1</td>\n",
       "      <td>0</td>\n",
       "      <td>5ab42db53c858d64af2688a4</td>\n",
       "    </tr>\n",
       "    <tr>\n",
       "      <td>8</td>\n",
       "      <td>Highly underrated and way less crowded than Central Park!</td>\n",
       "      <td>3</td>\n",
       "      <td>0</td>\n",
       "      <td>5ab42c396f706a29f53ad1a8</td>\n",
       "    </tr>\n",
       "    <tr>\n",
       "      <td>9</td>\n",
       "      <td>Way easier to navigate than the Met proper, plus the Met Breuer focuses on modern art. If I only have a limited amount of time to spend in a museum, I would rather go here than anywhere else!</td>\n",
       "      <td>6</td>\n",
       "      <td>0</td>\n",
       "      <td>5ab42b987dc9e17930e5ff5b</td>\n",
       "    </tr>\n",
       "    <tr>\n",
       "      <td>10</td>\n",
       "      <td>Get the açaí bowl with peanut butter after your work out and thank me later 👌</td>\n",
       "      <td>1</td>\n",
       "      <td>0</td>\n",
       "      <td>5ab42aca2a7ab6333652b266</td>\n",
       "    </tr>\n",
       "    <tr>\n",
       "      <td>11</td>\n",
       "      <td>When you want a burger, this should be the first thing that comes to mind. A+!</td>\n",
       "      <td>1</td>\n",
       "      <td>0</td>\n",
       "      <td>5ab42a28da5e5617d18e3a6a</td>\n",
       "    </tr>\n",
       "    <tr>\n",
       "      <td>12</td>\n",
       "      <td>Way less crowded than Central Park! People who live in the neighborhood rave about Carl Schurz Park.</td>\n",
       "      <td>3</td>\n",
       "      <td>0</td>\n",
       "      <td>5ab429db1ffe971b060083f5</td>\n",
       "    </tr>\n",
       "    <tr>\n",
       "      <td>13</td>\n",
       "      <td>The best Mexican food in the Murray Hill / Kips Bay area!</td>\n",
       "      <td>1</td>\n",
       "      <td>0</td>\n",
       "      <td>5ab3f53f8496ca57542d5549</td>\n",
       "    </tr>\n",
       "    <tr>\n",
       "      <td>14</td>\n",
       "      <td>Best coffee shop in the neighborhood!</td>\n",
       "      <td>1</td>\n",
       "      <td>0</td>\n",
       "      <td>5ab3f428da5e5617d17d1475</td>\n",
       "    </tr>\n",
       "  </tbody>\n",
       "</table>\n",
       "</div>"
      ],
      "text/plain": [
       "                                                                                                                                                                                               text  \\\n",
       "0   They serve coffee!!!!!!                                                                                                                                                                           \n",
       "1   The linguine with clams is on point 👌                                                                                                                                                             \n",
       "2   Quick, cheap lunch that tastes good! Way shorter line than Chipotle, too.                                                                                                                         \n",
       "3   You’re not a real New Yorker until you’ve shame-ordered Insomnia Cookies for delivery at 3am                                                                                                      \n",
       "4   Good for you yet still tasty! Clean green protein is my go-to after I hit the gym 💪                                                                                                               \n",
       "5   Burger game strong 💪                                                                                                                                                                              \n",
       "6   Great burgers & fries! Also, this place is exactly what it’s like when you go to a bar in the Southwest. Source: I’m from Arizona.                                                                \n",
       "7   Açaí bowl + peanut butter + whey protein = 💪💪💪                                                                                                                                                    \n",
       "8   Highly underrated and way less crowded than Central Park!                                                                                                                                         \n",
       "9   Way easier to navigate than the Met proper, plus the Met Breuer focuses on modern art. If I only have a limited amount of time to spend in a museum, I would rather go here than anywhere else!   \n",
       "10  Get the açaí bowl with peanut butter after your work out and thank me later 👌                                                                                                                     \n",
       "11  When you want a burger, this should be the first thing that comes to mind. A+!                                                                                                                    \n",
       "12  Way less crowded than Central Park! People who live in the neighborhood rave about Carl Schurz Park.                                                                                              \n",
       "13  The best Mexican food in the Murray Hill / Kips Bay area!                                                                                                                                         \n",
       "14  Best coffee shop in the neighborhood!                                                                                                                                                             \n",
       "\n",
       "    agreeCount  disagreeCount                        id  \n",
       "0   1           0              5accc98c0313204c9d7ec157  \n",
       "1   1           0              5accbe3a911fc423730f3ed3  \n",
       "2   2           0              5acbec70a0215b732e264fe8  \n",
       "3   1           0              5acbbd4eb1538e45373b07f5  \n",
       "4   2           0              5acbbcda01235808d5d6dc75  \n",
       "5   1           0              5ab575fb6bdee65f759da8c1  \n",
       "6   2           0              5ab5575d73fe2516ad8f363b  \n",
       "7   1           0              5ab42db53c858d64af2688a4  \n",
       "8   3           0              5ab42c396f706a29f53ad1a8  \n",
       "9   6           0              5ab42b987dc9e17930e5ff5b  \n",
       "10  1           0              5ab42aca2a7ab6333652b266  \n",
       "11  1           0              5ab42a28da5e5617d18e3a6a  \n",
       "12  3           0              5ab429db1ffe971b060083f5  \n",
       "13  1           0              5ab3f53f8496ca57542d5549  \n",
       "14  1           0              5ab3f428da5e5617d17d1475  "
      ]
     },
     "execution_count": 59,
     "metadata": {},
     "output_type": "execute_result"
    }
   ],
   "source": [
    "# define tips URL\n",
    "url = 'https://api.foursquare.com/v2/users/{}/tips?client_id={}&client_secret={}&v={}&limit={}'.format(user_id, CLIENT_ID, CLIENT_SECRET, VERSION, limit)\n",
    "\n",
    "# send GET request and get user's tips\n",
    "results = requests.get(url).json()\n",
    "tips = results['response']['tips']['items']\n",
    "\n",
    "# format column width\n",
    "pd.set_option('display.max_colwidth', -1)\n",
    "\n",
    "tips_df = json_normalize(tips)\n",
    "\n",
    "# filter columns\n",
    "filtered_columns = ['text', 'agreeCount', 'disagreeCount', 'id']\n",
    "tips_filtered = tips_df.loc[:, filtered_columns]\n",
    "\n",
    "# display user's tips\n",
    "tips_filtered"
   ]
  },
  {
   "cell_type": "markdown",
   "metadata": {
    "button": false,
    "new_sheet": false,
    "run_control": {
     "read_only": false
    }
   },
   "source": [
    "#### Let's get the venue for the tip with the greatest number of agree counts"
   ]
  },
  {
   "cell_type": "code",
   "execution_count": 60,
   "metadata": {
    "button": false,
    "jupyter": {
     "outputs_hidden": false
    },
    "new_sheet": false,
    "run_control": {
     "read_only": false
    }
   },
   "outputs": [
    {
     "name": "stdout",
     "output_type": "stream",
     "text": [
      "Cowgirl\n",
      "{'address': '519 Hudson St', 'crossStreet': 'at W 10th St', 'lat': 40.73373338282062, 'lng': -74.0062998849649, 'labeledLatLngs': [{'label': 'display', 'lat': 40.73373338282062, 'lng': -74.0062998849649}], 'postalCode': '10014', 'cc': 'US', 'city': 'New York', 'state': 'NY', 'country': 'United States', 'formattedAddress': ['519 Hudson St (at W 10th St)', 'New York, NY 10014', 'United States']}\n"
     ]
    }
   ],
   "source": [
    "tip_id = '5ab5575d73fe2516ad8f363b' # tip id\n",
    "\n",
    "# define URL\n",
    "url = 'http://api.foursquare.com/v2/tips/{}?client_id={}&client_secret={}&v={}'.format(tip_id, CLIENT_ID, CLIENT_SECRET, VERSION)\n",
    "\n",
    "# send GET Request and examine results\n",
    "result = requests.get(url).json()\n",
    "print(result['response']['tip']['venue']['name'])\n",
    "print(result['response']['tip']['venue']['location'])"
   ]
  },
  {
   "cell_type": "markdown",
   "metadata": {
    "button": false,
    "new_sheet": false,
    "run_control": {
     "read_only": false
    }
   },
   "source": [
    "### Get User's friends"
   ]
  },
  {
   "cell_type": "code",
   "execution_count": 67,
   "metadata": {
    "button": false,
    "jupyter": {
     "outputs_hidden": false
    },
    "new_sheet": false,
    "run_control": {
     "read_only": false
    }
   },
   "outputs": [
    {
     "data": {
      "text/html": [
       "<div>\n",
       "<style scoped>\n",
       "    .dataframe tbody tr th:only-of-type {\n",
       "        vertical-align: middle;\n",
       "    }\n",
       "\n",
       "    .dataframe tbody tr th {\n",
       "        vertical-align: top;\n",
       "    }\n",
       "\n",
       "    .dataframe thead th {\n",
       "        text-align: right;\n",
       "    }\n",
       "</style>\n",
       "<table border=\"1\" class=\"dataframe\">\n",
       "  <thead>\n",
       "    <tr style=\"text-align: right;\">\n",
       "      <th></th>\n",
       "    </tr>\n",
       "  </thead>\n",
       "  <tbody>\n",
       "  </tbody>\n",
       "</table>\n",
       "</div>"
      ],
      "text/plain": [
       "Empty DataFrame\n",
       "Columns: []\n",
       "Index: []"
      ]
     },
     "execution_count": 67,
     "metadata": {},
     "output_type": "execute_result"
    }
   ],
   "source": [
    "user_friends = json_normalize(user_data['friends']['groups'][0]['items'])\n",
    "user_friends"
   ]
  },
  {
   "cell_type": "markdown",
   "metadata": {
    "button": false,
    "new_sheet": false,
    "run_control": {
     "read_only": false
    }
   },
   "source": [
    "Interesting. Despite being very active, it turns out that Nick does not have any friends on Foursquare. This might definitely change in the future."
   ]
  },
  {
   "cell_type": "markdown",
   "metadata": {
    "button": false,
    "new_sheet": false,
    "run_control": {
     "read_only": false
    }
   },
   "source": [
    "### Retrieve the User's Profile Image"
   ]
  },
  {
   "cell_type": "code",
   "execution_count": 68,
   "metadata": {
    "button": false,
    "jupyter": {
     "outputs_hidden": false
    },
    "new_sheet": false,
    "run_control": {
     "read_only": false
    },
    "scrolled": true
   },
   "outputs": [
    {
     "data": {
      "text/plain": [
       "{'id': '484542633',\n",
       " 'firstName': 'Nick',\n",
       " 'lastName': 'El-Tawil',\n",
       " 'gender': 'male',\n",
       " 'canonicalUrl': 'https://foursquare.com/user/484542633',\n",
       " 'photo': {'prefix': 'https://fastly.4sqi.net/img/user/',\n",
       "  'suffix': '/484542633_unymNUmw_FdPs3GjXHujmHcYnN4hf8kEPADlOZuIrdcdm97VX3tFqL7fFNMNA_8Gl9NlU1GYg.jpg'},\n",
       " 'friends': {'count': 0,\n",
       "  'groups': [{'type': 'friends',\n",
       "    'name': 'Mutual friends',\n",
       "    'count': 0,\n",
       "    'items': []},\n",
       "   {'type': 'others', 'name': 'Other friends', 'count': 0, 'items': []}]},\n",
       " 'tips': {'count': 99},\n",
       " 'homeCity': 'New York, NY',\n",
       " 'bio': 'https://www.tawil.team/nick-el-tawil/',\n",
       " 'contact': {'twitter': 'nickeltawil'},\n",
       " 'photos': {'count': 2,\n",
       "  'items': [{'id': '5e41a7ce346b7c00085b0f70',\n",
       "    'createdAt': 1581361102,\n",
       "    'source': {'name': 'Foursquare for iOS',\n",
       "     'url': 'https://foursquare.com/download/#/iphone'},\n",
       "    'prefix': 'https://fastly.4sqi.net/img/general/',\n",
       "    'suffix': '/484542633_cF12vc8JQJTd-hyznst-CsHHTdSoi4XwCGKhTuQXNfo.jpg',\n",
       "    'width': 1440,\n",
       "    'height': 1440,\n",
       "    'visibility': 'public',\n",
       "    'venue': {'id': '5ab194451ffed736e329b365',\n",
       "     'name': 'Tawil & Team',\n",
       "     'location': {'address': '413 W 14th St # 200',\n",
       "      'crossStreet': '9th Avenue',\n",
       "      'lat': 40.739614,\n",
       "      'lng': -74.005877,\n",
       "      'labeledLatLngs': [{'label': 'display',\n",
       "        'lat': 40.739614,\n",
       "        'lng': -74.005877}],\n",
       "      'postalCode': '10014',\n",
       "      'cc': 'US',\n",
       "      'city': 'New York',\n",
       "      'state': 'NY',\n",
       "      'country': 'United States',\n",
       "      'formattedAddress': ['413 W 14th St # 200 (9th Avenue)',\n",
       "       'New York, NY 10014',\n",
       "       'United States']},\n",
       "     'categories': [{'id': '5032885091d4c4b30a586d66',\n",
       "       'name': 'Real Estate Office',\n",
       "       'pluralName': 'Real Estate Offices',\n",
       "       'shortName': 'Real Estate',\n",
       "       'icon': {'prefix': 'https://ss3.4sqi.net/img/categories_v2/shops/realestate_',\n",
       "        'suffix': '.png'},\n",
       "       'primary': True}],\n",
       "     'like': False}}]},\n",
       " 'checkinPings': 'off',\n",
       " 'pings': False,\n",
       " 'type': 'user',\n",
       " 'mayorships': {'count': 0, 'items': []},\n",
       " 'checkins': {'count': 1, 'items': []},\n",
       " 'lists': {'count': 2,\n",
       "  'groups': [{'type': 'created', 'count': 0, 'items': []},\n",
       "   {'type': 'followed', 'count': 0, 'items': []},\n",
       "   {'type': 'yours',\n",
       "    'count': 2,\n",
       "    'items': [{'id': '484542633/todos',\n",
       "      'name': \"Nick's Saved Places\",\n",
       "      'description': '',\n",
       "      'type': 'todos',\n",
       "      'editable': False,\n",
       "      'public': True,\n",
       "      'collaborative': False,\n",
       "      'url': '/nickeltawil/list/todos',\n",
       "      'canonicalUrl': 'https://foursquare.com/nickeltawil/list/todos',\n",
       "      'listItems': {'count': 1}},\n",
       "     {'id': '484542633/venuelikes',\n",
       "      'name': 'Nick’s Liked Places',\n",
       "      'description': '',\n",
       "      'type': 'likes',\n",
       "      'editable': False,\n",
       "      'public': True,\n",
       "      'collaborative': False,\n",
       "      'url': '/nickeltawil/list/venuelikes',\n",
       "      'canonicalUrl': 'https://foursquare.com/nickeltawil/list/venuelikes',\n",
       "      'listItems': {'count': 0}}]}]},\n",
       " 'blockedStatus': 'none',\n",
       " 'lenses': []}"
      ]
     },
     "execution_count": 68,
     "metadata": {},
     "output_type": "execute_result"
    }
   ],
   "source": [
    "user_data"
   ]
  },
  {
   "cell_type": "code",
   "execution_count": 69,
   "metadata": {
    "button": false,
    "jupyter": {
     "outputs_hidden": false
    },
    "new_sheet": false,
    "run_control": {
     "read_only": false
    }
   },
   "outputs": [
    {
     "data": {
      "text/html": [
       "<img src=\"https://igx.4sqi.net/img/user/300x300/484542633_mK2Yum7T_7Tn9fWpndidJsmw2Hof_6T5vJBKCHPLMK5OL-U5ZiJGj51iwBstcpDLYa3Zvhvis.jpg\"/>"
      ],
      "text/plain": [
       "<IPython.core.display.Image object>"
      ]
     },
     "execution_count": 69,
     "metadata": {},
     "output_type": "execute_result"
    }
   ],
   "source": [
    "# 1. grab prefix of photo\n",
    "# 2. grab suffix of photo\n",
    "# 3. concatenate them using the image size  \n",
    "Image(url='https://igx.4sqi.net/img/user/300x300/484542633_mK2Yum7T_7Tn9fWpndidJsmw2Hof_6T5vJBKCHPLMK5OL-U5ZiJGj51iwBstcpDLYa3Zvhvis.jpg')"
   ]
  },
  {
   "cell_type": "markdown",
   "metadata": {
    "button": false,
    "new_sheet": false,
    "run_control": {
     "read_only": false
    }
   },
   "source": [
    "  "
   ]
  },
  {
   "cell_type": "markdown",
   "metadata": {
    "button": false,
    "new_sheet": false,
    "run_control": {
     "read_only": false
    }
   },
   "source": [
    "<a id=\"item4\"></a>"
   ]
  },
  {
   "cell_type": "markdown",
   "metadata": {
    "button": false,
    "new_sheet": false,
    "run_control": {
     "read_only": false
    }
   },
   "source": [
    "## 4. Explore a location\n",
    ">https://api.foursquare.com/v2/venues/explore?client_id=CLIENT_ID&client_secret=CLIENT_SECRET&ll=LATITUDE,LONGITUDE&v=VERSION&limit=LIMIT"
   ]
  },
  {
   "cell_type": "markdown",
   "metadata": {
    "button": false,
    "new_sheet": false,
    "run_control": {
     "read_only": false
    }
   },
   "source": [
    "#### So, you just finished your gourmet dish at Ecco, and are just curious about the popular spots around the restaurant. In order to explore the area, let's start by getting the latitude and longitude values of Ecco Restaurant."
   ]
  },
  {
   "cell_type": "code",
   "execution_count": 70,
   "metadata": {
    "button": false,
    "jupyter": {
     "outputs_hidden": true
    },
    "new_sheet": false,
    "run_control": {
     "read_only": false
    }
   },
   "outputs": [],
   "source": [
    "latitude = 40.715337\n",
    "longitude = -74.008848"
   ]
  },
  {
   "cell_type": "markdown",
   "metadata": {
    "button": false,
    "new_sheet": false,
    "run_control": {
     "read_only": false
    }
   },
   "source": [
    "#### Define URL"
   ]
  },
  {
   "cell_type": "code",
   "execution_count": 71,
   "metadata": {
    "button": false,
    "jupyter": {
     "outputs_hidden": false
    },
    "new_sheet": false,
    "run_control": {
     "read_only": false
    }
   },
   "outputs": [
    {
     "data": {
      "text/plain": [
       "'https://api.foursquare.com/v2/venues/explore?client_id=HD1NAYFDOU5MXUS5EYLRNKNHDRV24LQ5PMVJ0QK1LLQNDD5P&client_secret=S33QQLOFTKNBC3KKOQKHBDJLR0XRICWMH1RB1T1QMU3JEGZ0&ll=40.715337,-74.008848&v=20180604&radius=500&limit=30'"
      ]
     },
     "execution_count": 71,
     "metadata": {},
     "output_type": "execute_result"
    }
   ],
   "source": [
    "url = 'https://api.foursquare.com/v2/venues/explore?client_id={}&client_secret={}&ll={},{}&v={}&radius={}&limit={}'.format(CLIENT_ID, CLIENT_SECRET, latitude, longitude, VERSION, radius, LIMIT)\n",
    "url"
   ]
  },
  {
   "cell_type": "markdown",
   "metadata": {
    "button": false,
    "new_sheet": false,
    "run_control": {
     "read_only": false
    }
   },
   "source": [
    "#### Send GET request and examine results"
   ]
  },
  {
   "cell_type": "code",
   "execution_count": 72,
   "metadata": {
    "button": false,
    "jupyter": {
     "outputs_hidden": true
    },
    "new_sheet": false,
    "run_control": {
     "read_only": false
    }
   },
   "outputs": [],
   "source": [
    "import requests"
   ]
  },
  {
   "cell_type": "code",
   "execution_count": 73,
   "metadata": {
    "button": false,
    "jupyter": {
     "outputs_hidden": false
    },
    "new_sheet": false,
    "run_control": {
     "read_only": false
    }
   },
   "outputs": [
    {
     "data": {
      "text/plain": [
       "'There are 30 around Ecco restaurant.'"
      ]
     },
     "execution_count": 73,
     "metadata": {},
     "output_type": "execute_result"
    }
   ],
   "source": [
    "results = requests.get(url).json()\n",
    "'There are {} around Ecco restaurant.'.format(len(results['response']['groups'][0]['items']))"
   ]
  },
  {
   "cell_type": "markdown",
   "metadata": {
    "button": false,
    "new_sheet": false,
    "run_control": {
     "read_only": false
    }
   },
   "source": [
    "#### Get relevant part of JSON"
   ]
  },
  {
   "cell_type": "code",
   "execution_count": 74,
   "metadata": {
    "button": false,
    "jupyter": {
     "outputs_hidden": false
    },
    "new_sheet": false,
    "run_control": {
     "read_only": false
    }
   },
   "outputs": [
    {
     "data": {
      "text/plain": [
       "{'reasons': {'count': 0,\n",
       "  'items': [{'summary': 'This spot is popular',\n",
       "    'type': 'general',\n",
       "    'reasonName': 'globalInteractionReason'}]},\n",
       " 'venue': {'id': '4af5d65ff964a52091fd21e3',\n",
       "  'name': 'Korin',\n",
       "  'location': {'address': '57 Warren St',\n",
       "   'crossStreet': 'Church St',\n",
       "   'lat': 40.71482437714839,\n",
       "   'lng': -74.00940425461492,\n",
       "   'labeledLatLngs': [{'label': 'display',\n",
       "     'lat': 40.71482437714839,\n",
       "     'lng': -74.00940425461492}],\n",
       "   'distance': 73,\n",
       "   'postalCode': '10007',\n",
       "   'cc': 'US',\n",
       "   'neighborhood': 'Tribeca',\n",
       "   'city': 'New York',\n",
       "   'state': 'NY',\n",
       "   'country': 'United States',\n",
       "   'formattedAddress': ['57 Warren St (Church St)',\n",
       "    'New York, NY 10007',\n",
       "    'United States']},\n",
       "  'categories': [{'id': '4bf58dd8d48988d1f8941735',\n",
       "    'name': 'Furniture / Home Store',\n",
       "    'pluralName': 'Furniture / Home Stores',\n",
       "    'shortName': 'Furniture / Home',\n",
       "    'icon': {'prefix': 'https://ss3.4sqi.net/img/categories_v2/shops/furniture_',\n",
       "     'suffix': '.png'},\n",
       "    'primary': True}],\n",
       "  'photos': {'count': 0, 'groups': []},\n",
       "  'venuePage': {'id': '33104775'}},\n",
       " 'referralId': 'e-0-4af5d65ff964a52091fd21e3-0'}"
      ]
     },
     "execution_count": 74,
     "metadata": {},
     "output_type": "execute_result"
    }
   ],
   "source": [
    "items = results['response']['groups'][0]['items']\n",
    "items[0]"
   ]
  },
  {
   "cell_type": "markdown",
   "metadata": {
    "button": false,
    "new_sheet": false,
    "run_control": {
     "read_only": false
    }
   },
   "source": [
    "#### Process JSON and convert it to a clean dataframe"
   ]
  },
  {
   "cell_type": "code",
   "execution_count": 75,
   "metadata": {
    "button": false,
    "jupyter": {
     "outputs_hidden": false
    },
    "new_sheet": false,
    "run_control": {
     "read_only": false
    }
   },
   "outputs": [
    {
     "data": {
      "text/html": [
       "<div>\n",
       "<style scoped>\n",
       "    .dataframe tbody tr th:only-of-type {\n",
       "        vertical-align: middle;\n",
       "    }\n",
       "\n",
       "    .dataframe tbody tr th {\n",
       "        vertical-align: top;\n",
       "    }\n",
       "\n",
       "    .dataframe thead th {\n",
       "        text-align: right;\n",
       "    }\n",
       "</style>\n",
       "<table border=\"1\" class=\"dataframe\">\n",
       "  <thead>\n",
       "    <tr style=\"text-align: right;\">\n",
       "      <th></th>\n",
       "      <th>name</th>\n",
       "      <th>categories</th>\n",
       "      <th>address</th>\n",
       "      <th>crossStreet</th>\n",
       "      <th>lat</th>\n",
       "      <th>lng</th>\n",
       "      <th>labeledLatLngs</th>\n",
       "      <th>distance</th>\n",
       "      <th>postalCode</th>\n",
       "      <th>cc</th>\n",
       "      <th>neighborhood</th>\n",
       "      <th>city</th>\n",
       "      <th>state</th>\n",
       "      <th>country</th>\n",
       "      <th>formattedAddress</th>\n",
       "      <th>id</th>\n",
       "    </tr>\n",
       "  </thead>\n",
       "  <tbody>\n",
       "    <tr>\n",
       "      <td>0</td>\n",
       "      <td>Korin</td>\n",
       "      <td>Furniture / Home Store</td>\n",
       "      <td>57 Warren St</td>\n",
       "      <td>Church St</td>\n",
       "      <td>40.714824</td>\n",
       "      <td>-74.009404</td>\n",
       "      <td>[{'label': 'display', 'lat': 40.71482437714839, 'lng': -74.00940425461492}]</td>\n",
       "      <td>73</td>\n",
       "      <td>10007</td>\n",
       "      <td>US</td>\n",
       "      <td>Tribeca</td>\n",
       "      <td>New York</td>\n",
       "      <td>NY</td>\n",
       "      <td>United States</td>\n",
       "      <td>[57 Warren St (Church St), New York, NY 10007, United States]</td>\n",
       "      <td>4af5d65ff964a52091fd21e3</td>\n",
       "    </tr>\n",
       "    <tr>\n",
       "      <td>1</td>\n",
       "      <td>Los Tacos No. 1</td>\n",
       "      <td>Taco Place</td>\n",
       "      <td>136 Church St</td>\n",
       "      <td>NaN</td>\n",
       "      <td>40.714267</td>\n",
       "      <td>-74.008756</td>\n",
       "      <td>[{'label': 'display', 'lat': 40.714267, 'lng': -74.008756}]</td>\n",
       "      <td>119</td>\n",
       "      <td>10007</td>\n",
       "      <td>US</td>\n",
       "      <td>NaN</td>\n",
       "      <td>New York</td>\n",
       "      <td>NY</td>\n",
       "      <td>United States</td>\n",
       "      <td>[136 Church St, New York, NY 10007, United States]</td>\n",
       "      <td>5d5f24ec09484500079aee00</td>\n",
       "    </tr>\n",
       "    <tr>\n",
       "      <td>2</td>\n",
       "      <td>Takahachi Bakery</td>\n",
       "      <td>Bakery</td>\n",
       "      <td>25 Murray St</td>\n",
       "      <td>at Church St</td>\n",
       "      <td>40.713653</td>\n",
       "      <td>-74.008804</td>\n",
       "      <td>[{'label': 'display', 'lat': 40.713652845301894, 'lng': -74.0088038953017}]</td>\n",
       "      <td>187</td>\n",
       "      <td>10007</td>\n",
       "      <td>US</td>\n",
       "      <td>NaN</td>\n",
       "      <td>New York</td>\n",
       "      <td>NY</td>\n",
       "      <td>United States</td>\n",
       "      <td>[25 Murray St (at Church St), New York, NY 10007, United States]</td>\n",
       "      <td>4c154c9a77cea593c401d260</td>\n",
       "    </tr>\n",
       "    <tr>\n",
       "      <td>3</td>\n",
       "      <td>Chambers Street Wines</td>\n",
       "      <td>Wine Shop</td>\n",
       "      <td>148 Chambers St</td>\n",
       "      <td>btwn West Broadway &amp; Hudson St</td>\n",
       "      <td>40.715773</td>\n",
       "      <td>-74.009718</td>\n",
       "      <td>[{'label': 'display', 'lat': 40.715773063928374, 'lng': -74.00971823312332}]</td>\n",
       "      <td>88</td>\n",
       "      <td>10007</td>\n",
       "      <td>US</td>\n",
       "      <td>NaN</td>\n",
       "      <td>New York</td>\n",
       "      <td>NY</td>\n",
       "      <td>United States</td>\n",
       "      <td>[148 Chambers St (btwn West Broadway &amp; Hudson St), New York, NY 10007, United States]</td>\n",
       "      <td>4adcf23cf964a520cc6221e3</td>\n",
       "    </tr>\n",
       "    <tr>\n",
       "      <td>4</td>\n",
       "      <td>Juice Press</td>\n",
       "      <td>Vegetarian / Vegan Restaurant</td>\n",
       "      <td>83 Murray St</td>\n",
       "      <td>btwn Greenwich St &amp; W Broadway</td>\n",
       "      <td>40.714788</td>\n",
       "      <td>-74.011132</td>\n",
       "      <td>[{'label': 'display', 'lat': 40.71478769908051, 'lng': -74.0111317502157}]</td>\n",
       "      <td>202</td>\n",
       "      <td>10007</td>\n",
       "      <td>US</td>\n",
       "      <td>NaN</td>\n",
       "      <td>New York</td>\n",
       "      <td>NY</td>\n",
       "      <td>United States</td>\n",
       "      <td>[83 Murray St (btwn Greenwich St &amp; W Broadway), New York, NY 10007, United States]</td>\n",
       "      <td>54148bc6498ea7bb8c05b70a</td>\n",
       "    </tr>\n",
       "    <tr>\n",
       "      <td>5</td>\n",
       "      <td>Philip Williams Posters</td>\n",
       "      <td>Antique Shop</td>\n",
       "      <td>122 Chambers St</td>\n",
       "      <td>NaN</td>\n",
       "      <td>40.715284</td>\n",
       "      <td>-74.008781</td>\n",
       "      <td>[{'label': 'display', 'lat': 40.71528423132827, 'lng': -74.00878093952018}]</td>\n",
       "      <td>8</td>\n",
       "      <td>10007</td>\n",
       "      <td>US</td>\n",
       "      <td>NaN</td>\n",
       "      <td>New York</td>\n",
       "      <td>NY</td>\n",
       "      <td>United States</td>\n",
       "      <td>[122 Chambers St, New York, NY 10007, United States]</td>\n",
       "      <td>4b747291f964a52042dd2de3</td>\n",
       "    </tr>\n",
       "    <tr>\n",
       "      <td>6</td>\n",
       "      <td>Heyday</td>\n",
       "      <td>Spa</td>\n",
       "      <td>92 Reade St</td>\n",
       "      <td>NaN</td>\n",
       "      <td>40.715726</td>\n",
       "      <td>-74.007767</td>\n",
       "      <td>[{'label': 'display', 'lat': 40.715726, 'lng': -74.007767}]</td>\n",
       "      <td>100</td>\n",
       "      <td>10013</td>\n",
       "      <td>US</td>\n",
       "      <td>NaN</td>\n",
       "      <td>New York</td>\n",
       "      <td>NY</td>\n",
       "      <td>United States</td>\n",
       "      <td>[92 Reade St, New York, NY 10013, United States]</td>\n",
       "      <td>57ad129c498e05b086594d72</td>\n",
       "    </tr>\n",
       "    <tr>\n",
       "      <td>7</td>\n",
       "      <td>Takahachi</td>\n",
       "      <td>Sushi Restaurant</td>\n",
       "      <td>145 Duane St</td>\n",
       "      <td>btwn W Broadway &amp; Church St</td>\n",
       "      <td>40.716526</td>\n",
       "      <td>-74.008101</td>\n",
       "      <td>[{'label': 'display', 'lat': 40.71652647412374, 'lng': -74.00810108466207}]</td>\n",
       "      <td>146</td>\n",
       "      <td>10013</td>\n",
       "      <td>US</td>\n",
       "      <td>NaN</td>\n",
       "      <td>New York</td>\n",
       "      <td>NY</td>\n",
       "      <td>United States</td>\n",
       "      <td>[145 Duane St (btwn W Broadway &amp; Church St), New York, NY 10013, United States]</td>\n",
       "      <td>4a8f2f39f964a520471420e3</td>\n",
       "    </tr>\n",
       "    <tr>\n",
       "      <td>8</td>\n",
       "      <td>Equinox Tribeca</td>\n",
       "      <td>Gym</td>\n",
       "      <td>54 Murray St</td>\n",
       "      <td>at W Broadway</td>\n",
       "      <td>40.714099</td>\n",
       "      <td>-74.009686</td>\n",
       "      <td>[{'label': 'display', 'lat': 40.71409860726041, 'lng': -74.0096857179283}]</td>\n",
       "      <td>154</td>\n",
       "      <td>10007</td>\n",
       "      <td>US</td>\n",
       "      <td>NaN</td>\n",
       "      <td>New York</td>\n",
       "      <td>NY</td>\n",
       "      <td>United States</td>\n",
       "      <td>[54 Murray St (at W Broadway), New York, NY 10007, United States]</td>\n",
       "      <td>4a6e331af964a52031d41fe3</td>\n",
       "    </tr>\n",
       "    <tr>\n",
       "      <td>9</td>\n",
       "      <td>Whole Foods Market</td>\n",
       "      <td>Grocery Store</td>\n",
       "      <td>270 Greenwich Street</td>\n",
       "      <td>at Warren St</td>\n",
       "      <td>40.715579</td>\n",
       "      <td>-74.011368</td>\n",
       "      <td>[{'label': 'display', 'lat': 40.715579155420606, 'lng': -74.01136823958119}]</td>\n",
       "      <td>214</td>\n",
       "      <td>10007</td>\n",
       "      <td>US</td>\n",
       "      <td>Tribeca</td>\n",
       "      <td>New York</td>\n",
       "      <td>NY</td>\n",
       "      <td>United States</td>\n",
       "      <td>[270 Greenwich Street (at Warren St), New York, NY 10007, United States]</td>\n",
       "      <td>49bc3b0af964a52020541fe3</td>\n",
       "    </tr>\n",
       "  </tbody>\n",
       "</table>\n",
       "</div>"
      ],
      "text/plain": [
       "                      name                     categories  \\\n",
       "0  Korin                    Furniture / Home Store          \n",
       "1  Los Tacos No. 1          Taco Place                      \n",
       "2  Takahachi Bakery         Bakery                          \n",
       "3  Chambers Street Wines    Wine Shop                       \n",
       "4  Juice Press              Vegetarian / Vegan Restaurant   \n",
       "5  Philip Williams Posters  Antique Shop                    \n",
       "6  Heyday                   Spa                             \n",
       "7  Takahachi                Sushi Restaurant                \n",
       "8  Equinox Tribeca          Gym                             \n",
       "9  Whole Foods Market       Grocery Store                   \n",
       "\n",
       "                address                     crossStreet        lat        lng  \\\n",
       "0  57 Warren St          Church St                       40.714824 -74.009404   \n",
       "1  136 Church St         NaN                             40.714267 -74.008756   \n",
       "2  25 Murray St          at Church St                    40.713653 -74.008804   \n",
       "3  148 Chambers St       btwn West Broadway & Hudson St  40.715773 -74.009718   \n",
       "4  83 Murray St          btwn Greenwich St & W Broadway  40.714788 -74.011132   \n",
       "5  122 Chambers St       NaN                             40.715284 -74.008781   \n",
       "6  92 Reade St           NaN                             40.715726 -74.007767   \n",
       "7  145 Duane St          btwn W Broadway & Church St     40.716526 -74.008101   \n",
       "8  54 Murray St          at W Broadway                   40.714099 -74.009686   \n",
       "9  270 Greenwich Street  at Warren St                    40.715579 -74.011368   \n",
       "\n",
       "                                                                 labeledLatLngs  \\\n",
       "0  [{'label': 'display', 'lat': 40.71482437714839, 'lng': -74.00940425461492}]    \n",
       "1  [{'label': 'display', 'lat': 40.714267, 'lng': -74.008756}]                    \n",
       "2  [{'label': 'display', 'lat': 40.713652845301894, 'lng': -74.0088038953017}]    \n",
       "3  [{'label': 'display', 'lat': 40.715773063928374, 'lng': -74.00971823312332}]   \n",
       "4  [{'label': 'display', 'lat': 40.71478769908051, 'lng': -74.0111317502157}]     \n",
       "5  [{'label': 'display', 'lat': 40.71528423132827, 'lng': -74.00878093952018}]    \n",
       "6  [{'label': 'display', 'lat': 40.715726, 'lng': -74.007767}]                    \n",
       "7  [{'label': 'display', 'lat': 40.71652647412374, 'lng': -74.00810108466207}]    \n",
       "8  [{'label': 'display', 'lat': 40.71409860726041, 'lng': -74.0096857179283}]     \n",
       "9  [{'label': 'display', 'lat': 40.715579155420606, 'lng': -74.01136823958119}]   \n",
       "\n",
       "   distance postalCode  cc neighborhood      city state        country  \\\n",
       "0  73        10007      US  Tribeca      New York  NY    United States   \n",
       "1  119       10007      US  NaN          New York  NY    United States   \n",
       "2  187       10007      US  NaN          New York  NY    United States   \n",
       "3  88        10007      US  NaN          New York  NY    United States   \n",
       "4  202       10007      US  NaN          New York  NY    United States   \n",
       "5  8         10007      US  NaN          New York  NY    United States   \n",
       "6  100       10013      US  NaN          New York  NY    United States   \n",
       "7  146       10013      US  NaN          New York  NY    United States   \n",
       "8  154       10007      US  NaN          New York  NY    United States   \n",
       "9  214       10007      US  Tribeca      New York  NY    United States   \n",
       "\n",
       "                                                                        formattedAddress  \\\n",
       "0  [57 Warren St (Church St), New York, NY 10007, United States]                           \n",
       "1  [136 Church St, New York, NY 10007, United States]                                      \n",
       "2  [25 Murray St (at Church St), New York, NY 10007, United States]                        \n",
       "3  [148 Chambers St (btwn West Broadway & Hudson St), New York, NY 10007, United States]   \n",
       "4  [83 Murray St (btwn Greenwich St & W Broadway), New York, NY 10007, United States]      \n",
       "5  [122 Chambers St, New York, NY 10007, United States]                                    \n",
       "6  [92 Reade St, New York, NY 10013, United States]                                        \n",
       "7  [145 Duane St (btwn W Broadway & Church St), New York, NY 10013, United States]         \n",
       "8  [54 Murray St (at W Broadway), New York, NY 10007, United States]                       \n",
       "9  [270 Greenwich Street (at Warren St), New York, NY 10007, United States]                \n",
       "\n",
       "                         id  \n",
       "0  4af5d65ff964a52091fd21e3  \n",
       "1  5d5f24ec09484500079aee00  \n",
       "2  4c154c9a77cea593c401d260  \n",
       "3  4adcf23cf964a520cc6221e3  \n",
       "4  54148bc6498ea7bb8c05b70a  \n",
       "5  4b747291f964a52042dd2de3  \n",
       "6  57ad129c498e05b086594d72  \n",
       "7  4a8f2f39f964a520471420e3  \n",
       "8  4a6e331af964a52031d41fe3  \n",
       "9  49bc3b0af964a52020541fe3  "
      ]
     },
     "execution_count": 75,
     "metadata": {},
     "output_type": "execute_result"
    }
   ],
   "source": [
    "dataframe = json_normalize(items) # flatten JSON\n",
    "\n",
    "# filter columns\n",
    "filtered_columns = ['venue.name', 'venue.categories'] + [col for col in dataframe.columns if col.startswith('venue.location.')] + ['venue.id']\n",
    "dataframe_filtered = dataframe.loc[:, filtered_columns]\n",
    "\n",
    "# filter the category for each row\n",
    "dataframe_filtered['venue.categories'] = dataframe_filtered.apply(get_category_type, axis=1)\n",
    "\n",
    "# clean columns\n",
    "dataframe_filtered.columns = [col.split('.')[-1] for col in dataframe_filtered.columns]\n",
    "\n",
    "dataframe_filtered.head(10)"
   ]
  },
  {
   "cell_type": "markdown",
   "metadata": {
    "button": false,
    "new_sheet": false,
    "run_control": {
     "read_only": false
    }
   },
   "source": [
    "#### Let's visualize these items on the map around our location"
   ]
  },
  {
   "cell_type": "code",
   "execution_count": 77,
   "metadata": {
    "button": false,
    "jupyter": {
     "outputs_hidden": false
    },
    "new_sheet": false,
    "run_control": {
     "read_only": false
    }
   },
   "outputs": [
    {
     "data": {
      "text/html": [
       "<div style=\"width:100%;\"><div style=\"position:relative;width:100%;height:0;padding-bottom:60%;\"><iframe src=\"about:blank\" style=\"position:absolute;width:100%;height:100%;left:0;top:0;border:none !important;\" data-html=PCFET0NUWVBFIGh0bWw+CjxoZWFkPiAgICAKICAgIDxtZXRhIGh0dHAtZXF1aXY9ImNvbnRlbnQtdHlwZSIgY29udGVudD0idGV4dC9odG1sOyBjaGFyc2V0PVVURi04IiAvPgogICAgCiAgICAgICAgPHNjcmlwdD4KICAgICAgICAgICAgTF9OT19UT1VDSCA9IGZhbHNlOwogICAgICAgICAgICBMX0RJU0FCTEVfM0QgPSBmYWxzZTsKICAgICAgICA8L3NjcmlwdD4KICAgIAogICAgPHNjcmlwdCBzcmM9Imh0dHBzOi8vY2RuLmpzZGVsaXZyLm5ldC9ucG0vbGVhZmxldEAxLjUuMS9kaXN0L2xlYWZsZXQuanMiPjwvc2NyaXB0PgogICAgPHNjcmlwdCBzcmM9Imh0dHBzOi8vY29kZS5qcXVlcnkuY29tL2pxdWVyeS0xLjEyLjQubWluLmpzIj48L3NjcmlwdD4KICAgIDxzY3JpcHQgc3JjPSJodHRwczovL21heGNkbi5ib290c3RyYXBjZG4uY29tL2Jvb3RzdHJhcC8zLjIuMC9qcy9ib290c3RyYXAubWluLmpzIj48L3NjcmlwdD4KICAgIDxzY3JpcHQgc3JjPSJodHRwczovL2NkbmpzLmNsb3VkZmxhcmUuY29tL2FqYXgvbGlicy9MZWFmbGV0LmF3ZXNvbWUtbWFya2Vycy8yLjAuMi9sZWFmbGV0LmF3ZXNvbWUtbWFya2Vycy5qcyI+PC9zY3JpcHQ+CiAgICA8bGluayByZWw9InN0eWxlc2hlZXQiIGhyZWY9Imh0dHBzOi8vY2RuLmpzZGVsaXZyLm5ldC9ucG0vbGVhZmxldEAxLjUuMS9kaXN0L2xlYWZsZXQuY3NzIi8+CiAgICA8bGluayByZWw9InN0eWxlc2hlZXQiIGhyZWY9Imh0dHBzOi8vbWF4Y2RuLmJvb3RzdHJhcGNkbi5jb20vYm9vdHN0cmFwLzMuMi4wL2Nzcy9ib290c3RyYXAubWluLmNzcyIvPgogICAgPGxpbmsgcmVsPSJzdHlsZXNoZWV0IiBocmVmPSJodHRwczovL21heGNkbi5ib290c3RyYXBjZG4uY29tL2Jvb3RzdHJhcC8zLjIuMC9jc3MvYm9vdHN0cmFwLXRoZW1lLm1pbi5jc3MiLz4KICAgIDxsaW5rIHJlbD0ic3R5bGVzaGVldCIgaHJlZj0iaHR0cHM6Ly9tYXhjZG4uYm9vdHN0cmFwY2RuLmNvbS9mb250LWF3ZXNvbWUvNC42LjMvY3NzL2ZvbnQtYXdlc29tZS5taW4uY3NzIi8+CiAgICA8bGluayByZWw9InN0eWxlc2hlZXQiIGhyZWY9Imh0dHBzOi8vY2RuanMuY2xvdWRmbGFyZS5jb20vYWpheC9saWJzL0xlYWZsZXQuYXdlc29tZS1tYXJrZXJzLzIuMC4yL2xlYWZsZXQuYXdlc29tZS1tYXJrZXJzLmNzcyIvPgogICAgPGxpbmsgcmVsPSJzdHlsZXNoZWV0IiBocmVmPSJodHRwczovL3Jhd2Nkbi5naXRoYWNrLmNvbS9weXRob24tdmlzdWFsaXphdGlvbi9mb2xpdW0vbWFzdGVyL2ZvbGl1bS90ZW1wbGF0ZXMvbGVhZmxldC5hd2Vzb21lLnJvdGF0ZS5jc3MiLz4KICAgIDxzdHlsZT5odG1sLCBib2R5IHt3aWR0aDogMTAwJTtoZWlnaHQ6IDEwMCU7bWFyZ2luOiAwO3BhZGRpbmc6IDA7fTwvc3R5bGU+CiAgICA8c3R5bGU+I21hcCB7cG9zaXRpb246YWJzb2x1dGU7dG9wOjA7Ym90dG9tOjA7cmlnaHQ6MDtsZWZ0OjA7fTwvc3R5bGU+CiAgICAKICAgICAgICAgICAgPG1ldGEgbmFtZT0idmlld3BvcnQiIGNvbnRlbnQ9IndpZHRoPWRldmljZS13aWR0aCwKICAgICAgICAgICAgICAgIGluaXRpYWwtc2NhbGU9MS4wLCBtYXhpbXVtLXNjYWxlPTEuMCwgdXNlci1zY2FsYWJsZT1ubyIgLz4KICAgICAgICAgICAgPHN0eWxlPgogICAgICAgICAgICAgICAgI21hcF84MDc2MjMxMjBlNTQ0ZGEwOWY2MDZmYjZiODNlZTEyOCB7CiAgICAgICAgICAgICAgICAgICAgcG9zaXRpb246IHJlbGF0aXZlOwogICAgICAgICAgICAgICAgICAgIHdpZHRoOiAxMDAuMCU7CiAgICAgICAgICAgICAgICAgICAgaGVpZ2h0OiAxMDAuMCU7CiAgICAgICAgICAgICAgICAgICAgbGVmdDogMC4wJTsKICAgICAgICAgICAgICAgICAgICB0b3A6IDAuMCU7CiAgICAgICAgICAgICAgICB9CiAgICAgICAgICAgIDwvc3R5bGU+CiAgICAgICAgCjwvaGVhZD4KPGJvZHk+ICAgIAogICAgCiAgICAgICAgICAgIDxkaXYgY2xhc3M9ImZvbGl1bS1tYXAiIGlkPSJtYXBfODA3NjIzMTIwZTU0NGRhMDlmNjA2ZmI2YjgzZWUxMjgiID48L2Rpdj4KICAgICAgICAKPC9ib2R5Pgo8c2NyaXB0PiAgICAKICAgIAogICAgICAgICAgICB2YXIgbWFwXzgwNzYyMzEyMGU1NDRkYTA5ZjYwNmZiNmI4M2VlMTI4ID0gTC5tYXAoCiAgICAgICAgICAgICAgICAibWFwXzgwNzYyMzEyMGU1NDRkYTA5ZjYwNmZiNmI4M2VlMTI4IiwKICAgICAgICAgICAgICAgIHsKICAgICAgICAgICAgICAgICAgICBjZW50ZXI6IFs0MC43MTUzMzcsIC03NC4wMDg4NDhdLAogICAgICAgICAgICAgICAgICAgIGNyczogTC5DUlMuRVBTRzM4NTcsCiAgICAgICAgICAgICAgICAgICAgem9vbTogMTUsCiAgICAgICAgICAgICAgICAgICAgem9vbUNvbnRyb2w6IHRydWUsCiAgICAgICAgICAgICAgICAgICAgcHJlZmVyQ2FudmFzOiBmYWxzZSwKICAgICAgICAgICAgICAgIH0KICAgICAgICAgICAgKTsKCiAgICAgICAgICAgIAoKICAgICAgICAKICAgIAogICAgICAgICAgICB2YXIgdGlsZV9sYXllcl9kMWM5NWY4OWJkNDg0ZWY4YTc1NmM1NzhhNmU3MDljYiA9IEwudGlsZUxheWVyKAogICAgICAgICAgICAgICAgImh0dHBzOi8ve3N9LnRpbGUub3BlbnN0cmVldG1hcC5vcmcve3p9L3t4fS97eX0ucG5nIiwKICAgICAgICAgICAgICAgIHsiYXR0cmlidXRpb24iOiAiRGF0YSBieSBcdTAwMjZjb3B5OyBcdTAwM2NhIGhyZWY9XCJodHRwOi8vb3BlbnN0cmVldG1hcC5vcmdcIlx1MDAzZU9wZW5TdHJlZXRNYXBcdTAwM2MvYVx1MDAzZSwgdW5kZXIgXHUwMDNjYSBocmVmPVwiaHR0cDovL3d3dy5vcGVuc3RyZWV0bWFwLm9yZy9jb3B5cmlnaHRcIlx1MDAzZU9EYkxcdTAwM2MvYVx1MDAzZS4iLCAiZGV0ZWN0UmV0aW5hIjogZmFsc2UsICJtYXhOYXRpdmVab29tIjogMTgsICJtYXhab29tIjogMTgsICJtaW5ab29tIjogMCwgIm5vV3JhcCI6IGZhbHNlLCAib3BhY2l0eSI6IDEsICJzdWJkb21haW5zIjogImFiYyIsICJ0bXMiOiBmYWxzZX0KICAgICAgICAgICAgKS5hZGRUbyhtYXBfODA3NjIzMTIwZTU0NGRhMDlmNjA2ZmI2YjgzZWUxMjgpOwogICAgICAgIAogICAgCiAgICAgICAgICAgIHZhciBjaXJjbGVfbWFya2VyX2U2NTZhY2I3NjA3NzQ1NWRiYTc1OTg5YmI3NDhhYWJjID0gTC5jaXJjbGVNYXJrZXIoCiAgICAgICAgICAgICAgICBbNDAuNzE1MzM3LCAtNzQuMDA4ODQ4XSwKICAgICAgICAgICAgICAgIHsiYnViYmxpbmdNb3VzZUV2ZW50cyI6IHRydWUsICJjb2xvciI6ICJyZWQiLCAiZGFzaEFycmF5IjogbnVsbCwgImRhc2hPZmZzZXQiOiBudWxsLCAiZmlsbCI6IHRydWUsICJmaWxsQ29sb3IiOiAicmVkIiwgImZpbGxPcGFjaXR5IjogMC42LCAiZmlsbFJ1bGUiOiAiZXZlbm9kZCIsICJsaW5lQ2FwIjogInJvdW5kIiwgImxpbmVKb2luIjogInJvdW5kIiwgIm9wYWNpdHkiOiAxLjAsICJyYWRpdXMiOiAxMCwgInN0cm9rZSI6IHRydWUsICJ3ZWlnaHQiOiAzfQogICAgICAgICAgICApLmFkZFRvKG1hcF84MDc2MjMxMjBlNTQ0ZGEwOWY2MDZmYjZiODNlZTEyOCk7CiAgICAgICAgCiAgICAKICAgICAgICB2YXIgcG9wdXBfMDMwMGQ5MTc4YzI1NGUxOWFmODE3MTUxZjM0NmVhMGQgPSBMLnBvcHVwKHsibWF4V2lkdGgiOiAiMTAwJSJ9KTsKCiAgICAgICAgCiAgICAgICAgICAgIHZhciBodG1sX2FlOGQ1YjE2M2RlZjRlNTlhMWM3ZWU4NDM5ZTg4NTc3ID0gJChgPGRpdiBpZD0iaHRtbF9hZThkNWIxNjNkZWY0ZTU5YTFjN2VlODQzOWU4ODU3NyIgc3R5bGU9IndpZHRoOiAxMDAuMCU7IGhlaWdodDogMTAwLjAlOyI+RWNjbzwvZGl2PmApWzBdOwogICAgICAgICAgICBwb3B1cF8wMzAwZDkxNzhjMjU0ZTE5YWY4MTcxNTFmMzQ2ZWEwZC5zZXRDb250ZW50KGh0bWxfYWU4ZDViMTYzZGVmNGU1OWExYzdlZTg0MzllODg1NzcpOwogICAgICAgIAoKICAgICAgICBjaXJjbGVfbWFya2VyX2U2NTZhY2I3NjA3NzQ1NWRiYTc1OTg5YmI3NDhhYWJjLmJpbmRQb3B1cChwb3B1cF8wMzAwZDkxNzhjMjU0ZTE5YWY4MTcxNTFmMzQ2ZWEwZCkKICAgICAgICA7CgogICAgICAgIAogICAgCiAgICAKICAgICAgICAgICAgdmFyIGNpcmNsZV9tYXJrZXJfZTBiMGUwM2Y3ZTlhNDg2Yjk1OWEwNWUwMTZmMzQ0YjggPSBMLmNpcmNsZU1hcmtlcigKICAgICAgICAgICAgICAgIFs0MC43MTQ4MjQzNzcxNDgzOSwgLTc0LjAwOTQwNDI1NDYxNDkyXSwKICAgICAgICAgICAgICAgIHsiYnViYmxpbmdNb3VzZUV2ZW50cyI6IHRydWUsICJjb2xvciI6ICJibHVlIiwgImRhc2hBcnJheSI6IG51bGwsICJkYXNoT2Zmc2V0IjogbnVsbCwgImZpbGwiOiB0cnVlLCAiZmlsbENvbG9yIjogImJsdWUiLCAiZmlsbE9wYWNpdHkiOiAwLjYsICJmaWxsUnVsZSI6ICJldmVub2RkIiwgImxpbmVDYXAiOiAicm91bmQiLCAibGluZUpvaW4iOiAicm91bmQiLCAib3BhY2l0eSI6IDEuMCwgInJhZGl1cyI6IDUsICJzdHJva2UiOiB0cnVlLCAid2VpZ2h0IjogM30KICAgICAgICAgICAgKS5hZGRUbyhtYXBfODA3NjIzMTIwZTU0NGRhMDlmNjA2ZmI2YjgzZWUxMjgpOwogICAgICAgIAogICAgCiAgICAgICAgdmFyIHBvcHVwXzZhZGE4OTFhOWYwYTQ2ZDY4MDM0OTlmNzEyNTEzNDlhID0gTC5wb3B1cCh7Im1heFdpZHRoIjogIjEwMCUifSk7CgogICAgICAgIAogICAgICAgICAgICB2YXIgaHRtbF9jMGQ3MjcyMTI4OTE0NjE1ODEzZjRkN2I4ZjE4ZDdiZCA9ICQoYDxkaXYgaWQ9Imh0bWxfYzBkNzI3MjEyODkxNDYxNTgxM2Y0ZDdiOGYxOGQ3YmQiIHN0eWxlPSJ3aWR0aDogMTAwLjAlOyBoZWlnaHQ6IDEwMC4wJTsiPkZ1cm5pdHVyZSAvIEhvbWUgU3RvcmU8L2Rpdj5gKVswXTsKICAgICAgICAgICAgcG9wdXBfNmFkYTg5MWE5ZjBhNDZkNjgwMzQ5OWY3MTI1MTM0OWEuc2V0Q29udGVudChodG1sX2MwZDcyNzIxMjg5MTQ2MTU4MTNmNGQ3YjhmMThkN2JkKTsKICAgICAgICAKCiAgICAgICAgY2lyY2xlX21hcmtlcl9lMGIwZTAzZjdlOWE0ODZiOTU5YTA1ZTAxNmYzNDRiOC5iaW5kUG9wdXAocG9wdXBfNmFkYTg5MWE5ZjBhNDZkNjgwMzQ5OWY3MTI1MTM0OWEpCiAgICAgICAgOwoKICAgICAgICAKICAgIAogICAgCiAgICAgICAgICAgIHZhciBjaXJjbGVfbWFya2VyXzc1M2YxYWU5ZWIyYjQ2MWZiYjI0ZDY4ODJhOTc0MTNlID0gTC5jaXJjbGVNYXJrZXIoCiAgICAgICAgICAgICAgICBbNDAuNzE0MjY3LCAtNzQuMDA4NzU2XSwKICAgICAgICAgICAgICAgIHsiYnViYmxpbmdNb3VzZUV2ZW50cyI6IHRydWUsICJjb2xvciI6ICJibHVlIiwgImRhc2hBcnJheSI6IG51bGwsICJkYXNoT2Zmc2V0IjogbnVsbCwgImZpbGwiOiB0cnVlLCAiZmlsbENvbG9yIjogImJsdWUiLCAiZmlsbE9wYWNpdHkiOiAwLjYsICJmaWxsUnVsZSI6ICJldmVub2RkIiwgImxpbmVDYXAiOiAicm91bmQiLCAibGluZUpvaW4iOiAicm91bmQiLCAib3BhY2l0eSI6IDEuMCwgInJhZGl1cyI6IDUsICJzdHJva2UiOiB0cnVlLCAid2VpZ2h0IjogM30KICAgICAgICAgICAgKS5hZGRUbyhtYXBfODA3NjIzMTIwZTU0NGRhMDlmNjA2ZmI2YjgzZWUxMjgpOwogICAgICAgIAogICAgCiAgICAgICAgdmFyIHBvcHVwX2FkY2RlNDhmZTFkZTRkNTM4MzcwZGQ2Mjg5MmM2MjRjID0gTC5wb3B1cCh7Im1heFdpZHRoIjogIjEwMCUifSk7CgogICAgICAgIAogICAgICAgICAgICB2YXIgaHRtbF9iNDk1YzUwZDE4OTg0MmMyYjcwZjk2MDkyNjc2MmM1MiA9ICQoYDxkaXYgaWQ9Imh0bWxfYjQ5NWM1MGQxODk4NDJjMmI3MGY5NjA5MjY3NjJjNTIiIHN0eWxlPSJ3aWR0aDogMTAwLjAlOyBoZWlnaHQ6IDEwMC4wJTsiPlRhY28gUGxhY2U8L2Rpdj5gKVswXTsKICAgICAgICAgICAgcG9wdXBfYWRjZGU0OGZlMWRlNGQ1MzgzNzBkZDYyODkyYzYyNGMuc2V0Q29udGVudChodG1sX2I0OTVjNTBkMTg5ODQyYzJiNzBmOTYwOTI2NzYyYzUyKTsKICAgICAgICAKCiAgICAgICAgY2lyY2xlX21hcmtlcl83NTNmMWFlOWViMmI0NjFmYmIyNGQ2ODgyYTk3NDEzZS5iaW5kUG9wdXAocG9wdXBfYWRjZGU0OGZlMWRlNGQ1MzgzNzBkZDYyODkyYzYyNGMpCiAgICAgICAgOwoKICAgICAgICAKICAgIAogICAgCiAgICAgICAgICAgIHZhciBjaXJjbGVfbWFya2VyX2Y5MDE0M2MxYTM2YzRjYTNiZjY3NjgzNTg2MGY0Y2UxID0gTC5jaXJjbGVNYXJrZXIoCiAgICAgICAgICAgICAgICBbNDAuNzEzNjUyODQ1MzAxODk0LCAtNzQuMDA4ODAzODk1MzAxN10sCiAgICAgICAgICAgICAgICB7ImJ1YmJsaW5nTW91c2VFdmVudHMiOiB0cnVlLCAiY29sb3IiOiAiYmx1ZSIsICJkYXNoQXJyYXkiOiBudWxsLCAiZGFzaE9mZnNldCI6IG51bGwsICJmaWxsIjogdHJ1ZSwgImZpbGxDb2xvciI6ICJibHVlIiwgImZpbGxPcGFjaXR5IjogMC42LCAiZmlsbFJ1bGUiOiAiZXZlbm9kZCIsICJsaW5lQ2FwIjogInJvdW5kIiwgImxpbmVKb2luIjogInJvdW5kIiwgIm9wYWNpdHkiOiAxLjAsICJyYWRpdXMiOiA1LCAic3Ryb2tlIjogdHJ1ZSwgIndlaWdodCI6IDN9CiAgICAgICAgICAgICkuYWRkVG8obWFwXzgwNzYyMzEyMGU1NDRkYTA5ZjYwNmZiNmI4M2VlMTI4KTsKICAgICAgICAKICAgIAogICAgICAgIHZhciBwb3B1cF9hMjhkZjE4MGFkZjY0MjQ2OGU2MDdmMDA1ZDU3NTE3NSA9IEwucG9wdXAoeyJtYXhXaWR0aCI6ICIxMDAlIn0pOwoKICAgICAgICAKICAgICAgICAgICAgdmFyIGh0bWxfYTU5ZDBiNzM0NzRiNDFhY2I5NzYzYWIxMTZhZmM2ZjggPSAkKGA8ZGl2IGlkPSJodG1sX2E1OWQwYjczNDc0YjQxYWNiOTc2M2FiMTE2YWZjNmY4IiBzdHlsZT0id2lkdGg6IDEwMC4wJTsgaGVpZ2h0OiAxMDAuMCU7Ij5CYWtlcnk8L2Rpdj5gKVswXTsKICAgICAgICAgICAgcG9wdXBfYTI4ZGYxODBhZGY2NDI0NjhlNjA3ZjAwNWQ1NzUxNzUuc2V0Q29udGVudChodG1sX2E1OWQwYjczNDc0YjQxYWNiOTc2M2FiMTE2YWZjNmY4KTsKICAgICAgICAKCiAgICAgICAgY2lyY2xlX21hcmtlcl9mOTAxNDNjMWEzNmM0Y2EzYmY2NzY4MzU4NjBmNGNlMS5iaW5kUG9wdXAocG9wdXBfYTI4ZGYxODBhZGY2NDI0NjhlNjA3ZjAwNWQ1NzUxNzUpCiAgICAgICAgOwoKICAgICAgICAKICAgIAogICAgCiAgICAgICAgICAgIHZhciBjaXJjbGVfbWFya2VyX2RkMzg1ZGQ2Y2RlNTQ5MmY4YmE5NjhiYzA1NzBmODczID0gTC5jaXJjbGVNYXJrZXIoCiAgICAgICAgICAgICAgICBbNDAuNzE1NzczMDYzOTI4Mzc0LCAtNzQuMDA5NzE4MjMzMTIzMzJdLAogICAgICAgICAgICAgICAgeyJidWJibGluZ01vdXNlRXZlbnRzIjogdHJ1ZSwgImNvbG9yIjogImJsdWUiLCAiZGFzaEFycmF5IjogbnVsbCwgImRhc2hPZmZzZXQiOiBudWxsLCAiZmlsbCI6IHRydWUsICJmaWxsQ29sb3IiOiAiYmx1ZSIsICJmaWxsT3BhY2l0eSI6IDAuNiwgImZpbGxSdWxlIjogImV2ZW5vZGQiLCAibGluZUNhcCI6ICJyb3VuZCIsICJsaW5lSm9pbiI6ICJyb3VuZCIsICJvcGFjaXR5IjogMS4wLCAicmFkaXVzIjogNSwgInN0cm9rZSI6IHRydWUsICJ3ZWlnaHQiOiAzfQogICAgICAgICAgICApLmFkZFRvKG1hcF84MDc2MjMxMjBlNTQ0ZGEwOWY2MDZmYjZiODNlZTEyOCk7CiAgICAgICAgCiAgICAKICAgICAgICB2YXIgcG9wdXBfNmU3NGVkYmMxZjhiNDgwOGE5MjYxZDQzZmM0NWZmM2EgPSBMLnBvcHVwKHsibWF4V2lkdGgiOiAiMTAwJSJ9KTsKCiAgICAgICAgCiAgICAgICAgICAgIHZhciBodG1sXzcyMjIwODJmMzgyZTQ3NWI5NWQ4NTVkNDljMjAzZGI5ID0gJChgPGRpdiBpZD0iaHRtbF83MjIyMDgyZjM4MmU0NzViOTVkODU1ZDQ5YzIwM2RiOSIgc3R5bGU9IndpZHRoOiAxMDAuMCU7IGhlaWdodDogMTAwLjAlOyI+V2luZSBTaG9wPC9kaXY+YClbMF07CiAgICAgICAgICAgIHBvcHVwXzZlNzRlZGJjMWY4YjQ4MDhhOTI2MWQ0M2ZjNDVmZjNhLnNldENvbnRlbnQoaHRtbF83MjIyMDgyZjM4MmU0NzViOTVkODU1ZDQ5YzIwM2RiOSk7CiAgICAgICAgCgogICAgICAgIGNpcmNsZV9tYXJrZXJfZGQzODVkZDZjZGU1NDkyZjhiYTk2OGJjMDU3MGY4NzMuYmluZFBvcHVwKHBvcHVwXzZlNzRlZGJjMWY4YjQ4MDhhOTI2MWQ0M2ZjNDVmZjNhKQogICAgICAgIDsKCiAgICAgICAgCiAgICAKICAgIAogICAgICAgICAgICB2YXIgY2lyY2xlX21hcmtlcl9mMGUxNWEwYTVlMTY0NTU2YWE5NTJlOTMyZTA1NjNkOSA9IEwuY2lyY2xlTWFya2VyKAogICAgICAgICAgICAgICAgWzQwLjcxNDc4NzY5OTA4MDUxLCAtNzQuMDExMTMxNzUwMjE1N10sCiAgICAgICAgICAgICAgICB7ImJ1YmJsaW5nTW91c2VFdmVudHMiOiB0cnVlLCAiY29sb3IiOiAiYmx1ZSIsICJkYXNoQXJyYXkiOiBudWxsLCAiZGFzaE9mZnNldCI6IG51bGwsICJmaWxsIjogdHJ1ZSwgImZpbGxDb2xvciI6ICJibHVlIiwgImZpbGxPcGFjaXR5IjogMC42LCAiZmlsbFJ1bGUiOiAiZXZlbm9kZCIsICJsaW5lQ2FwIjogInJvdW5kIiwgImxpbmVKb2luIjogInJvdW5kIiwgIm9wYWNpdHkiOiAxLjAsICJyYWRpdXMiOiA1LCAic3Ryb2tlIjogdHJ1ZSwgIndlaWdodCI6IDN9CiAgICAgICAgICAgICkuYWRkVG8obWFwXzgwNzYyMzEyMGU1NDRkYTA5ZjYwNmZiNmI4M2VlMTI4KTsKICAgICAgICAKICAgIAogICAgICAgIHZhciBwb3B1cF8zNzg1MjQ1MGM2MGY0ZWE0YjViMDFiNTYzMzc1NjQ3ZiA9IEwucG9wdXAoeyJtYXhXaWR0aCI6ICIxMDAlIn0pOwoKICAgICAgICAKICAgICAgICAgICAgdmFyIGh0bWxfOWY5MTc1NGYzNDZkNGY5OGIzODY3Y2Q4ODJiNGFmZWIgPSAkKGA8ZGl2IGlkPSJodG1sXzlmOTE3NTRmMzQ2ZDRmOThiMzg2N2NkODgyYjRhZmViIiBzdHlsZT0id2lkdGg6IDEwMC4wJTsgaGVpZ2h0OiAxMDAuMCU7Ij5WZWdldGFyaWFuIC8gVmVnYW4gUmVzdGF1cmFudDwvZGl2PmApWzBdOwogICAgICAgICAgICBwb3B1cF8zNzg1MjQ1MGM2MGY0ZWE0YjViMDFiNTYzMzc1NjQ3Zi5zZXRDb250ZW50KGh0bWxfOWY5MTc1NGYzNDZkNGY5OGIzODY3Y2Q4ODJiNGFmZWIpOwogICAgICAgIAoKICAgICAgICBjaXJjbGVfbWFya2VyX2YwZTE1YTBhNWUxNjQ1NTZhYTk1MmU5MzJlMDU2M2Q5LmJpbmRQb3B1cChwb3B1cF8zNzg1MjQ1MGM2MGY0ZWE0YjViMDFiNTYzMzc1NjQ3ZikKICAgICAgICA7CgogICAgICAgIAogICAgCiAgICAKICAgICAgICAgICAgdmFyIGNpcmNsZV9tYXJrZXJfMTRmYWZmNDY1YTc1NGNkYWEzMDZmMWI3ZGY5OTRmMzkgPSBMLmNpcmNsZU1hcmtlcigKICAgICAgICAgICAgICAgIFs0MC43MTUyODQyMzEzMjgyNywgLTc0LjAwODc4MDkzOTUyMDE4XSwKICAgICAgICAgICAgICAgIHsiYnViYmxpbmdNb3VzZUV2ZW50cyI6IHRydWUsICJjb2xvciI6ICJibHVlIiwgImRhc2hBcnJheSI6IG51bGwsICJkYXNoT2Zmc2V0IjogbnVsbCwgImZpbGwiOiB0cnVlLCAiZmlsbENvbG9yIjogImJsdWUiLCAiZmlsbE9wYWNpdHkiOiAwLjYsICJmaWxsUnVsZSI6ICJldmVub2RkIiwgImxpbmVDYXAiOiAicm91bmQiLCAibGluZUpvaW4iOiAicm91bmQiLCAib3BhY2l0eSI6IDEuMCwgInJhZGl1cyI6IDUsICJzdHJva2UiOiB0cnVlLCAid2VpZ2h0IjogM30KICAgICAgICAgICAgKS5hZGRUbyhtYXBfODA3NjIzMTIwZTU0NGRhMDlmNjA2ZmI2YjgzZWUxMjgpOwogICAgICAgIAogICAgCiAgICAgICAgdmFyIHBvcHVwX2I2ODk2NDRkNmQyMjQ4Y2JhN2Y0Y2Q4ZWRiNjJhZTc2ID0gTC5wb3B1cCh7Im1heFdpZHRoIjogIjEwMCUifSk7CgogICAgICAgIAogICAgICAgICAgICB2YXIgaHRtbF82MGU5OGQ3ZTBiYWM0ZTY0YjU1OTkwYjNiZTRjMDYzYiA9ICQoYDxkaXYgaWQ9Imh0bWxfNjBlOThkN2UwYmFjNGU2NGI1NTk5MGIzYmU0YzA2M2IiIHN0eWxlPSJ3aWR0aDogMTAwLjAlOyBoZWlnaHQ6IDEwMC4wJTsiPkFudGlxdWUgU2hvcDwvZGl2PmApWzBdOwogICAgICAgICAgICBwb3B1cF9iNjg5NjQ0ZDZkMjI0OGNiYTdmNGNkOGVkYjYyYWU3Ni5zZXRDb250ZW50KGh0bWxfNjBlOThkN2UwYmFjNGU2NGI1NTk5MGIzYmU0YzA2M2IpOwogICAgICAgIAoKICAgICAgICBjaXJjbGVfbWFya2VyXzE0ZmFmZjQ2NWE3NTRjZGFhMzA2ZjFiN2RmOTk0ZjM5LmJpbmRQb3B1cChwb3B1cF9iNjg5NjQ0ZDZkMjI0OGNiYTdmNGNkOGVkYjYyYWU3NikKICAgICAgICA7CgogICAgICAgIAogICAgCiAgICAKICAgICAgICAgICAgdmFyIGNpcmNsZV9tYXJrZXJfMTBlNzI1MTZjN2QxNDc1Yjk3Y2M5NzYzMDhlYzJjOGMgPSBMLmNpcmNsZU1hcmtlcigKICAgICAgICAgICAgICAgIFs0MC43MTU3MjYsIC03NC4wMDc3NjddLAogICAgICAgICAgICAgICAgeyJidWJibGluZ01vdXNlRXZlbnRzIjogdHJ1ZSwgImNvbG9yIjogImJsdWUiLCAiZGFzaEFycmF5IjogbnVsbCwgImRhc2hPZmZzZXQiOiBudWxsLCAiZmlsbCI6IHRydWUsICJmaWxsQ29sb3IiOiAiYmx1ZSIsICJmaWxsT3BhY2l0eSI6IDAuNiwgImZpbGxSdWxlIjogImV2ZW5vZGQiLCAibGluZUNhcCI6ICJyb3VuZCIsICJsaW5lSm9pbiI6ICJyb3VuZCIsICJvcGFjaXR5IjogMS4wLCAicmFkaXVzIjogNSwgInN0cm9rZSI6IHRydWUsICJ3ZWlnaHQiOiAzfQogICAgICAgICAgICApLmFkZFRvKG1hcF84MDc2MjMxMjBlNTQ0ZGEwOWY2MDZmYjZiODNlZTEyOCk7CiAgICAgICAgCiAgICAKICAgICAgICB2YXIgcG9wdXBfZTUyM2JmODZkNDI0NDM3OGI3YmY5YzRmYjEzNGMxZGEgPSBMLnBvcHVwKHsibWF4V2lkdGgiOiAiMTAwJSJ9KTsKCiAgICAgICAgCiAgICAgICAgICAgIHZhciBodG1sX2Y5NDRkZWY2MGEyZjQ2N2JhNTkwM2E5YmUzMDY4ZmE0ID0gJChgPGRpdiBpZD0iaHRtbF9mOTQ0ZGVmNjBhMmY0NjdiYTU5MDNhOWJlMzA2OGZhNCIgc3R5bGU9IndpZHRoOiAxMDAuMCU7IGhlaWdodDogMTAwLjAlOyI+U3BhPC9kaXY+YClbMF07CiAgICAgICAgICAgIHBvcHVwX2U1MjNiZjg2ZDQyNDQzNzhiN2JmOWM0ZmIxMzRjMWRhLnNldENvbnRlbnQoaHRtbF9mOTQ0ZGVmNjBhMmY0NjdiYTU5MDNhOWJlMzA2OGZhNCk7CiAgICAgICAgCgogICAgICAgIGNpcmNsZV9tYXJrZXJfMTBlNzI1MTZjN2QxNDc1Yjk3Y2M5NzYzMDhlYzJjOGMuYmluZFBvcHVwKHBvcHVwX2U1MjNiZjg2ZDQyNDQzNzhiN2JmOWM0ZmIxMzRjMWRhKQogICAgICAgIDsKCiAgICAgICAgCiAgICAKICAgIAogICAgICAgICAgICB2YXIgY2lyY2xlX21hcmtlcl80NzFjYTY0MDIzOGI0NzdmOTU2MmFjZTk0YTY4MzhkOCA9IEwuY2lyY2xlTWFya2VyKAogICAgICAgICAgICAgICAgWzQwLjcxNjUyNjQ3NDEyMzc0LCAtNzQuMDA4MTAxMDg0NjYyMDddLAogICAgICAgICAgICAgICAgeyJidWJibGluZ01vdXNlRXZlbnRzIjogdHJ1ZSwgImNvbG9yIjogImJsdWUiLCAiZGFzaEFycmF5IjogbnVsbCwgImRhc2hPZmZzZXQiOiBudWxsLCAiZmlsbCI6IHRydWUsICJmaWxsQ29sb3IiOiAiYmx1ZSIsICJmaWxsT3BhY2l0eSI6IDAuNiwgImZpbGxSdWxlIjogImV2ZW5vZGQiLCAibGluZUNhcCI6ICJyb3VuZCIsICJsaW5lSm9pbiI6ICJyb3VuZCIsICJvcGFjaXR5IjogMS4wLCAicmFkaXVzIjogNSwgInN0cm9rZSI6IHRydWUsICJ3ZWlnaHQiOiAzfQogICAgICAgICAgICApLmFkZFRvKG1hcF84MDc2MjMxMjBlNTQ0ZGEwOWY2MDZmYjZiODNlZTEyOCk7CiAgICAgICAgCiAgICAKICAgICAgICB2YXIgcG9wdXBfM2JlYzM0NjkzMzVlNDk1ODgzODAwZmQzMzRmM2NlMDkgPSBMLnBvcHVwKHsibWF4V2lkdGgiOiAiMTAwJSJ9KTsKCiAgICAgICAgCiAgICAgICAgICAgIHZhciBodG1sXzM4ZWZjOGYxNTMxNjRhMzE4ODZhZTNlOTQwODRmMGI5ID0gJChgPGRpdiBpZD0iaHRtbF8zOGVmYzhmMTUzMTY0YTMxODg2YWUzZTk0MDg0ZjBiOSIgc3R5bGU9IndpZHRoOiAxMDAuMCU7IGhlaWdodDogMTAwLjAlOyI+U3VzaGkgUmVzdGF1cmFudDwvZGl2PmApWzBdOwogICAgICAgICAgICBwb3B1cF8zYmVjMzQ2OTMzNWU0OTU4ODM4MDBmZDMzNGYzY2UwOS5zZXRDb250ZW50KGh0bWxfMzhlZmM4ZjE1MzE2NGEzMTg4NmFlM2U5NDA4NGYwYjkpOwogICAgICAgIAoKICAgICAgICBjaXJjbGVfbWFya2VyXzQ3MWNhNjQwMjM4YjQ3N2Y5NTYyYWNlOTRhNjgzOGQ4LmJpbmRQb3B1cChwb3B1cF8zYmVjMzQ2OTMzNWU0OTU4ODM4MDBmZDMzNGYzY2UwOSkKICAgICAgICA7CgogICAgICAgIAogICAgCiAgICAKICAgICAgICAgICAgdmFyIGNpcmNsZV9tYXJrZXJfNjFiYjZkYzMxYWZkNGNlMDgzMGRmMDFmZjRjMzI1MWQgPSBMLmNpcmNsZU1hcmtlcigKICAgICAgICAgICAgICAgIFs0MC43MTQwOTg2MDcyNjA0MSwgLTc0LjAwOTY4NTcxNzkyODNdLAogICAgICAgICAgICAgICAgeyJidWJibGluZ01vdXNlRXZlbnRzIjogdHJ1ZSwgImNvbG9yIjogImJsdWUiLCAiZGFzaEFycmF5IjogbnVsbCwgImRhc2hPZmZzZXQiOiBudWxsLCAiZmlsbCI6IHRydWUsICJmaWxsQ29sb3IiOiAiYmx1ZSIsICJmaWxsT3BhY2l0eSI6IDAuNiwgImZpbGxSdWxlIjogImV2ZW5vZGQiLCAibGluZUNhcCI6ICJyb3VuZCIsICJsaW5lSm9pbiI6ICJyb3VuZCIsICJvcGFjaXR5IjogMS4wLCAicmFkaXVzIjogNSwgInN0cm9rZSI6IHRydWUsICJ3ZWlnaHQiOiAzfQogICAgICAgICAgICApLmFkZFRvKG1hcF84MDc2MjMxMjBlNTQ0ZGEwOWY2MDZmYjZiODNlZTEyOCk7CiAgICAgICAgCiAgICAKICAgICAgICB2YXIgcG9wdXBfMWNiNDA0Y2NmNGU4NGY2NDkyOWFhYTM1YmNmYzYzMGMgPSBMLnBvcHVwKHsibWF4V2lkdGgiOiAiMTAwJSJ9KTsKCiAgICAgICAgCiAgICAgICAgICAgIHZhciBodG1sXzRhMTBmNGYzYTJjZDQ0MjFhN2VlM2UwZjM2NjQzNGZhID0gJChgPGRpdiBpZD0iaHRtbF80YTEwZjRmM2EyY2Q0NDIxYTdlZTNlMGYzNjY0MzRmYSIgc3R5bGU9IndpZHRoOiAxMDAuMCU7IGhlaWdodDogMTAwLjAlOyI+R3ltPC9kaXY+YClbMF07CiAgICAgICAgICAgIHBvcHVwXzFjYjQwNGNjZjRlODRmNjQ5MjlhYWEzNWJjZmM2MzBjLnNldENvbnRlbnQoaHRtbF80YTEwZjRmM2EyY2Q0NDIxYTdlZTNlMGYzNjY0MzRmYSk7CiAgICAgICAgCgogICAgICAgIGNpcmNsZV9tYXJrZXJfNjFiYjZkYzMxYWZkNGNlMDgzMGRmMDFmZjRjMzI1MWQuYmluZFBvcHVwKHBvcHVwXzFjYjQwNGNjZjRlODRmNjQ5MjlhYWEzNWJjZmM2MzBjKQogICAgICAgIDsKCiAgICAgICAgCiAgICAKICAgIAogICAgICAgICAgICB2YXIgY2lyY2xlX21hcmtlcl80NzlhZjgwMmEzZGY0OWQ5OWQ0NjE2YmI2YzZiODE3NSA9IEwuY2lyY2xlTWFya2VyKAogICAgICAgICAgICAgICAgWzQwLjcxNTU3OTE1NTQyMDYwNiwgLTc0LjAxMTM2ODIzOTU4MTE5XSwKICAgICAgICAgICAgICAgIHsiYnViYmxpbmdNb3VzZUV2ZW50cyI6IHRydWUsICJjb2xvciI6ICJibHVlIiwgImRhc2hBcnJheSI6IG51bGwsICJkYXNoT2Zmc2V0IjogbnVsbCwgImZpbGwiOiB0cnVlLCAiZmlsbENvbG9yIjogImJsdWUiLCAiZmlsbE9wYWNpdHkiOiAwLjYsICJmaWxsUnVsZSI6ICJldmVub2RkIiwgImxpbmVDYXAiOiAicm91bmQiLCAibGluZUpvaW4iOiAicm91bmQiLCAib3BhY2l0eSI6IDEuMCwgInJhZGl1cyI6IDUsICJzdHJva2UiOiB0cnVlLCAid2VpZ2h0IjogM30KICAgICAgICAgICAgKS5hZGRUbyhtYXBfODA3NjIzMTIwZTU0NGRhMDlmNjA2ZmI2YjgzZWUxMjgpOwogICAgICAgIAogICAgCiAgICAgICAgdmFyIHBvcHVwXzdlYTRkNDQzOGFmNTQ5NDJiNGU3MmQxY2MxYzFmOTgxID0gTC5wb3B1cCh7Im1heFdpZHRoIjogIjEwMCUifSk7CgogICAgICAgIAogICAgICAgICAgICB2YXIgaHRtbF8xM2E2NDcwODZjNjI0N2Q1OWE0MmM5MmQyMTUxYTJkMSA9ICQoYDxkaXYgaWQ9Imh0bWxfMTNhNjQ3MDg2YzYyNDdkNTlhNDJjOTJkMjE1MWEyZDEiIHN0eWxlPSJ3aWR0aDogMTAwLjAlOyBoZWlnaHQ6IDEwMC4wJTsiPkdyb2NlcnkgU3RvcmU8L2Rpdj5gKVswXTsKICAgICAgICAgICAgcG9wdXBfN2VhNGQ0NDM4YWY1NDk0MmI0ZTcyZDFjYzFjMWY5ODEuc2V0Q29udGVudChodG1sXzEzYTY0NzA4NmM2MjQ3ZDU5YTQyYzkyZDIxNTFhMmQxKTsKICAgICAgICAKCiAgICAgICAgY2lyY2xlX21hcmtlcl80NzlhZjgwMmEzZGY0OWQ5OWQ0NjE2YmI2YzZiODE3NS5iaW5kUG9wdXAocG9wdXBfN2VhNGQ0NDM4YWY1NDk0MmI0ZTcyZDFjYzFjMWY5ODEpCiAgICAgICAgOwoKICAgICAgICAKICAgIAogICAgCiAgICAgICAgICAgIHZhciBjaXJjbGVfbWFya2VyX2I3OTE4YzNkZjlmODQ0MWQ4MWI5MTExZGIxOWYyNjg2ID0gTC5jaXJjbGVNYXJrZXIoCiAgICAgICAgICAgICAgICBbNDAuNzE1MTc2OTM5NjYzMTUsIC03NC4wMTAyMjc0Nzc3ODI4NV0sCiAgICAgICAgICAgICAgICB7ImJ1YmJsaW5nTW91c2VFdmVudHMiOiB0cnVlLCAiY29sb3IiOiAiYmx1ZSIsICJkYXNoQXJyYXkiOiBudWxsLCAiZGFzaE9mZnNldCI6IG51bGwsICJmaWxsIjogdHJ1ZSwgImZpbGxDb2xvciI6ICJibHVlIiwgImZpbGxPcGFjaXR5IjogMC42LCAiZmlsbFJ1bGUiOiAiZXZlbm9kZCIsICJsaW5lQ2FwIjogInJvdW5kIiwgImxpbmVKb2luIjogInJvdW5kIiwgIm9wYWNpdHkiOiAxLjAsICJyYWRpdXMiOiA1LCAic3Ryb2tlIjogdHJ1ZSwgIndlaWdodCI6IDN9CiAgICAgICAgICAgICkuYWRkVG8obWFwXzgwNzYyMzEyMGU1NDRkYTA5ZjYwNmZiNmI4M2VlMTI4KTsKICAgICAgICAKICAgIAogICAgICAgIHZhciBwb3B1cF8yMWRmNDQwOGExY2U0ODljODM2ZDNmNDA4MjMzYTcwMyA9IEwucG9wdXAoeyJtYXhXaWR0aCI6ICIxMDAlIn0pOwoKICAgICAgICAKICAgICAgICAgICAgdmFyIGh0bWxfOWI0YWQ5ZDhmNDA5NDNiY2E5MzEwNjRhYzVjODdmNTkgPSAkKGA8ZGl2IGlkPSJodG1sXzliNGFkOWQ4ZjQwOTQzYmNhOTMxMDY0YWM1Yzg3ZjU5IiBzdHlsZT0id2lkdGg6IDEwMC4wJTsgaGVpZ2h0OiAxMDAuMCU7Ij5DYWbDqTwvZGl2PmApWzBdOwogICAgICAgICAgICBwb3B1cF8yMWRmNDQwOGExY2U0ODljODM2ZDNmNDA4MjMzYTcwMy5zZXRDb250ZW50KGh0bWxfOWI0YWQ5ZDhmNDA5NDNiY2E5MzEwNjRhYzVjODdmNTkpOwogICAgICAgIAoKICAgICAgICBjaXJjbGVfbWFya2VyX2I3OTE4YzNkZjlmODQ0MWQ4MWI5MTExZGIxOWYyNjg2LmJpbmRQb3B1cChwb3B1cF8yMWRmNDQwOGExY2U0ODljODM2ZDNmNDA4MjMzYTcwMykKICAgICAgICA7CgogICAgICAgIAogICAgCiAgICAKICAgICAgICAgICAgdmFyIGNpcmNsZV9tYXJrZXJfNTY1MjUwNzc4OWRjNDEwYTljNzg4ZmMyNTE1NjJkOTcgPSBMLmNpcmNsZU1hcmtlcigKICAgICAgICAgICAgICAgIFs0MC43MTU2Mjg2MjAwMjU2LCAtNzQuMDA3OTkyMjU4Mzg1M10sCiAgICAgICAgICAgICAgICB7ImJ1YmJsaW5nTW91c2VFdmVudHMiOiB0cnVlLCAiY29sb3IiOiAiYmx1ZSIsICJkYXNoQXJyYXkiOiBudWxsLCAiZGFzaE9mZnNldCI6IG51bGwsICJmaWxsIjogdHJ1ZSwgImZpbGxDb2xvciI6ICJibHVlIiwgImZpbGxPcGFjaXR5IjogMC42LCAiZmlsbFJ1bGUiOiAiZXZlbm9kZCIsICJsaW5lQ2FwIjogInJvdW5kIiwgImxpbmVKb2luIjogInJvdW5kIiwgIm9wYWNpdHkiOiAxLjAsICJyYWRpdXMiOiA1LCAic3Ryb2tlIjogdHJ1ZSwgIndlaWdodCI6IDN9CiAgICAgICAgICAgICkuYWRkVG8obWFwXzgwNzYyMzEyMGU1NDRkYTA5ZjYwNmZiNmI4M2VlMTI4KTsKICAgICAgICAKICAgIAogICAgICAgIHZhciBwb3B1cF81NWJhM2RjODYwZWM0Y2NjYmUxOWM4M2FlNDE4MWM1MSA9IEwucG9wdXAoeyJtYXhXaWR0aCI6ICIxMDAlIn0pOwoKICAgICAgICAKICAgICAgICAgICAgdmFyIGh0bWxfNjE2ODljNGE0Zjc1NGJhN2EwNzEyM2I3MThiNGU3MDAgPSAkKGA8ZGl2IGlkPSJodG1sXzYxNjg5YzRhNGY3NTRiYTdhMDcxMjNiNzE4YjRlNzAwIiBzdHlsZT0id2lkdGg6IDEwMC4wJTsgaGVpZ2h0OiAxMDAuMCU7Ij5HeW0gLyBGaXRuZXNzIENlbnRlcjwvZGl2PmApWzBdOwogICAgICAgICAgICBwb3B1cF81NWJhM2RjODYwZWM0Y2NjYmUxOWM4M2FlNDE4MWM1MS5zZXRDb250ZW50KGh0bWxfNjE2ODljNGE0Zjc1NGJhN2EwNzEyM2I3MThiNGU3MDApOwogICAgICAgIAoKICAgICAgICBjaXJjbGVfbWFya2VyXzU2NTI1MDc3ODlkYzQxMGE5Yzc4OGZjMjUxNTYyZDk3LmJpbmRQb3B1cChwb3B1cF81NWJhM2RjODYwZWM0Y2NjYmUxOWM4M2FlNDE4MWM1MSkKICAgICAgICA7CgogICAgICAgIAogICAgCiAgICAKICAgICAgICAgICAgdmFyIGNpcmNsZV9tYXJrZXJfYzk3MDQ0ZjMxZjk3NGY0ZGE0YWVhMWVlNjFmOTZiMjkgPSBMLmNpcmNsZU1hcmtlcigKICAgICAgICAgICAgICAgIFs0MC43MTU1MzcxMDExNjQxNiwgLTc0LjAwNzcyNDUyOTI1NTY1XSwKICAgICAgICAgICAgICAgIHsiYnViYmxpbmdNb3VzZUV2ZW50cyI6IHRydWUsICJjb2xvciI6ICJibHVlIiwgImRhc2hBcnJheSI6IG51bGwsICJkYXNoT2Zmc2V0IjogbnVsbCwgImZpbGwiOiB0cnVlLCAiZmlsbENvbG9yIjogImJsdWUiLCAiZmlsbE9wYWNpdHkiOiAwLjYsICJmaWxsUnVsZSI6ICJldmVub2RkIiwgImxpbmVDYXAiOiAicm91bmQiLCAibGluZUpvaW4iOiAicm91bmQiLCAib3BhY2l0eSI6IDEuMCwgInJhZGl1cyI6IDUsICJzdHJva2UiOiB0cnVlLCAid2VpZ2h0IjogM30KICAgICAgICAgICAgKS5hZGRUbyhtYXBfODA3NjIzMTIwZTU0NGRhMDlmNjA2ZmI2YjgzZWUxMjgpOwogICAgICAgIAogICAgCiAgICAgICAgdmFyIHBvcHVwXzc1MzBmMmRiYmVmZTQ5ODBiZGM4NGUyYjU4YzdhM2IxID0gTC5wb3B1cCh7Im1heFdpZHRoIjogIjEwMCUifSk7CgogICAgICAgIAogICAgICAgICAgICB2YXIgaHRtbF9kN2VmNGIwMTQwNTk0OTExOGQwY2FhNWExMDNhMDgzZiA9ICQoYDxkaXYgaWQ9Imh0bWxfZDdlZjRiMDE0MDU5NDkxMThkMGNhYTVhMTAzYTA4M2YiIHN0eWxlPSJ3aWR0aDogMTAwLjAlOyBoZWlnaHQ6IDEwMC4wJTsiPkZhbGFmZWwgUmVzdGF1cmFudDwvZGl2PmApWzBdOwogICAgICAgICAgICBwb3B1cF83NTMwZjJkYmJlZmU0OTgwYmRjODRlMmI1OGM3YTNiMS5zZXRDb250ZW50KGh0bWxfZDdlZjRiMDE0MDU5NDkxMThkMGNhYTVhMTAzYTA4M2YpOwogICAgICAgIAoKICAgICAgICBjaXJjbGVfbWFya2VyX2M5NzA0NGYzMWY5NzRmNGRhNGFlYTFlZTYxZjk2YjI5LmJpbmRQb3B1cChwb3B1cF83NTMwZjJkYmJlZmU0OTgwYmRjODRlMmI1OGM3YTNiMSkKICAgICAgICA7CgogICAgICAgIAogICAgCiAgICAKICAgICAgICAgICAgdmFyIGNpcmNsZV9tYXJrZXJfZmVjOTViNzUwN2ZjNDgxZDgwYWEzMmJhNzQyMjRlMzQgPSBMLmNpcmNsZU1hcmtlcigKICAgICAgICAgICAgICAgIFs0MC43MTU5NDEyNTU2NjkzMSwgLTc0LjAwODcyMDUzNTY0NDk0XSwKICAgICAgICAgICAgICAgIHsiYnViYmxpbmdNb3VzZUV2ZW50cyI6IHRydWUsICJjb2xvciI6ICJibHVlIiwgImRhc2hBcnJheSI6IG51bGwsICJkYXNoT2Zmc2V0IjogbnVsbCwgImZpbGwiOiB0cnVlLCAiZmlsbENvbG9yIjogImJsdWUiLCAiZmlsbE9wYWNpdHkiOiAwLjYsICJmaWxsUnVsZSI6ICJldmVub2RkIiwgImxpbmVDYXAiOiAicm91bmQiLCAibGluZUpvaW4iOiAicm91bmQiLCAib3BhY2l0eSI6IDEuMCwgInJhZGl1cyI6IDUsICJzdHJva2UiOiB0cnVlLCAid2VpZ2h0IjogM30KICAgICAgICAgICAgKS5hZGRUbyhtYXBfODA3NjIzMTIwZTU0NGRhMDlmNjA2ZmI2YjgzZWUxMjgpOwogICAgICAgIAogICAgCiAgICAgICAgdmFyIHBvcHVwX2VjYmJjMDhiOTY1NzRjODhiNTgzYTJmZTBhYTRiNjg3ID0gTC5wb3B1cCh7Im1heFdpZHRoIjogIjEwMCUifSk7CgogICAgICAgIAogICAgICAgICAgICB2YXIgaHRtbF9lZTg0YjZhM2IxODA0Mjk5OTQwYWMwZmRhMTVjYjMxMiA9ICQoYDxkaXYgaWQ9Imh0bWxfZWU4NGI2YTNiMTgwNDI5OTk0MGFjMGZkYTE1Y2IzMTIiIHN0eWxlPSJ3aWR0aDogMTAwLjAlOyBoZWlnaHQ6IDEwMC4wJTsiPk5haWwgU2Fsb248L2Rpdj5gKVswXTsKICAgICAgICAgICAgcG9wdXBfZWNiYmMwOGI5NjU3NGM4OGI1ODNhMmZlMGFhNGI2ODcuc2V0Q29udGVudChodG1sX2VlODRiNmEzYjE4MDQyOTk5NDBhYzBmZGExNWNiMzEyKTsKICAgICAgICAKCiAgICAgICAgY2lyY2xlX21hcmtlcl9mZWM5NWI3NTA3ZmM0ODFkODBhYTMyYmE3NDIyNGUzNC5iaW5kUG9wdXAocG9wdXBfZWNiYmMwOGI5NjU3NGM4OGI1ODNhMmZlMGFhNGI2ODcpCiAgICAgICAgOwoKICAgICAgICAKICAgIAogICAgCiAgICAgICAgICAgIHZhciBjaXJjbGVfbWFya2VyXzU4MjFiOTc1ODJiYjRjZmViMDg5MmZlYjE5MjczMjNmID0gTC5jaXJjbGVNYXJrZXIoCiAgICAgICAgICAgICAgICBbNDAuNzE1MjQ2LCAtNzQuMDEwNTU5XSwKICAgICAgICAgICAgICAgIHsiYnViYmxpbmdNb3VzZUV2ZW50cyI6IHRydWUsICJjb2xvciI6ICJibHVlIiwgImRhc2hBcnJheSI6IG51bGwsICJkYXNoT2Zmc2V0IjogbnVsbCwgImZpbGwiOiB0cnVlLCAiZmlsbENvbG9yIjogImJsdWUiLCAiZmlsbE9wYWNpdHkiOiAwLjYsICJmaWxsUnVsZSI6ICJldmVub2RkIiwgImxpbmVDYXAiOiAicm91bmQiLCAibGluZUpvaW4iOiAicm91bmQiLCAib3BhY2l0eSI6IDEuMCwgInJhZGl1cyI6IDUsICJzdHJva2UiOiB0cnVlLCAid2VpZ2h0IjogM30KICAgICAgICAgICAgKS5hZGRUbyhtYXBfODA3NjIzMTIwZTU0NGRhMDlmNjA2ZmI2YjgzZWUxMjgpOwogICAgICAgIAogICAgCiAgICAgICAgdmFyIHBvcHVwXzVmZjRiOWM5MjM4ZDQzN2M5NTRmM2ZhOWU3YzA0NGI1ID0gTC5wb3B1cCh7Im1heFdpZHRoIjogIjEwMCUifSk7CgogICAgICAgIAogICAgICAgICAgICB2YXIgaHRtbF82ZjM0ODhkMzBiN2Y0NDcyODhmOTMzNGFjMTFlOTBlOCA9ICQoYDxkaXYgaWQ9Imh0bWxfNmYzNDg4ZDMwYjdmNDQ3Mjg4ZjkzMzRhYzExZTkwZTgiIHN0eWxlPSJ3aWR0aDogMTAwLjAlOyBoZWlnaHQ6IDEwMC4wJTsiPkJ1cmdlciBKb2ludDwvZGl2PmApWzBdOwogICAgICAgICAgICBwb3B1cF81ZmY0YjljOTIzOGQ0MzdjOTU0ZjNmYTllN2MwNDRiNS5zZXRDb250ZW50KGh0bWxfNmYzNDg4ZDMwYjdmNDQ3Mjg4ZjkzMzRhYzExZTkwZTgpOwogICAgICAgIAoKICAgICAgICBjaXJjbGVfbWFya2VyXzU4MjFiOTc1ODJiYjRjZmViMDg5MmZlYjE5MjczMjNmLmJpbmRQb3B1cChwb3B1cF81ZmY0YjljOTIzOGQ0MzdjOTU0ZjNmYTllN2MwNDRiNSkKICAgICAgICA7CgogICAgICAgIAogICAgCiAgICAKICAgICAgICAgICAgdmFyIGNpcmNsZV9tYXJrZXJfZmRjNGFmNTMwNDAwNGZkMmIyNDFkMTdlZTA0MGY4ZmQgPSBMLmNpcmNsZU1hcmtlcigKICAgICAgICAgICAgICAgIFs0MC43MTY3NDA4NDE2MzM2OSwgLTc0LjAwODY2NjQ0Mzg4OTNdLAogICAgICAgICAgICAgICAgeyJidWJibGluZ01vdXNlRXZlbnRzIjogdHJ1ZSwgImNvbG9yIjogImJsdWUiLCAiZGFzaEFycmF5IjogbnVsbCwgImRhc2hPZmZzZXQiOiBudWxsLCAiZmlsbCI6IHRydWUsICJmaWxsQ29sb3IiOiAiYmx1ZSIsICJmaWxsT3BhY2l0eSI6IDAuNiwgImZpbGxSdWxlIjogImV2ZW5vZGQiLCAibGluZUNhcCI6ICJyb3VuZCIsICJsaW5lSm9pbiI6ICJyb3VuZCIsICJvcGFjaXR5IjogMS4wLCAicmFkaXVzIjogNSwgInN0cm9rZSI6IHRydWUsICJ3ZWlnaHQiOiAzfQogICAgICAgICAgICApLmFkZFRvKG1hcF84MDc2MjMxMjBlNTQ0ZGEwOWY2MDZmYjZiODNlZTEyOCk7CiAgICAgICAgCiAgICAKICAgICAgICB2YXIgcG9wdXBfMmI2NTgxMTFmZTJlNDY3M2EyNjFjMjE3OGExMDlkYTQgPSBMLnBvcHVwKHsibWF4V2lkdGgiOiAiMTAwJSJ9KTsKCiAgICAgICAgCiAgICAgICAgICAgIHZhciBodG1sXzc0MDM2NmJlZmZlOTRhMjNhZWRjMTlkODIyYTg2NDJmID0gJChgPGRpdiBpZD0iaHRtbF83NDAzNjZiZWZmZTk0YTIzYWVkYzE5ZDgyMmE4NjQyZiIgc3R5bGU9IndpZHRoOiAxMDAuMCU7IGhlaWdodDogMTAwLjAlOyI+Q29ja3RhaWwgQmFyPC9kaXY+YClbMF07CiAgICAgICAgICAgIHBvcHVwXzJiNjU4MTExZmUyZTQ2NzNhMjYxYzIxNzhhMTA5ZGE0LnNldENvbnRlbnQoaHRtbF83NDAzNjZiZWZmZTk0YTIzYWVkYzE5ZDgyMmE4NjQyZik7CiAgICAgICAgCgogICAgICAgIGNpcmNsZV9tYXJrZXJfZmRjNGFmNTMwNDAwNGZkMmIyNDFkMTdlZTA0MGY4ZmQuYmluZFBvcHVwKHBvcHVwXzJiNjU4MTExZmUyZTQ2NzNhMjYxYzIxNzhhMTA5ZGE0KQogICAgICAgIDsKCiAgICAgICAgCiAgICAKICAgIAogICAgICAgICAgICB2YXIgY2lyY2xlX21hcmtlcl9iM2M1MWFmYmEwZmY0ZTIxYmMzY2Y4YWNhMzdlOWRmMSA9IEwuY2lyY2xlTWFya2VyKAogICAgICAgICAgICAgICAgWzQwLjcxNDkwOTUwMTUzOTgyLCAtNzQuMDA5NDgwMjcwMTE5MDNdLAogICAgICAgICAgICAgICAgeyJidWJibGluZ01vdXNlRXZlbnRzIjogdHJ1ZSwgImNvbG9yIjogImJsdWUiLCAiZGFzaEFycmF5IjogbnVsbCwgImRhc2hPZmZzZXQiOiBudWxsLCAiZmlsbCI6IHRydWUsICJmaWxsQ29sb3IiOiAiYmx1ZSIsICJmaWxsT3BhY2l0eSI6IDAuNiwgImZpbGxSdWxlIjogImV2ZW5vZGQiLCAibGluZUNhcCI6ICJyb3VuZCIsICJsaW5lSm9pbiI6ICJyb3VuZCIsICJvcGFjaXR5IjogMS4wLCAicmFkaXVzIjogNSwgInN0cm9rZSI6IHRydWUsICJ3ZWlnaHQiOiAzfQogICAgICAgICAgICApLmFkZFRvKG1hcF84MDc2MjMxMjBlNTQ0ZGEwOWY2MDZmYjZiODNlZTEyOCk7CiAgICAgICAgCiAgICAKICAgICAgICB2YXIgcG9wdXBfMDkyMTI2NTZiNzhiNDE5ODlhZjBiYTVlNzc1MDQwYjcgPSBMLnBvcHVwKHsibWF4V2lkdGgiOiAiMTAwJSJ9KTsKCiAgICAgICAgCiAgICAgICAgICAgIHZhciBodG1sXzljMTdiMTJhMzdkMTQ4Yzk5YzE0YzNhN2E0OGM5NTYxID0gJChgPGRpdiBpZD0iaHRtbF85YzE3YjEyYTM3ZDE0OGM5OWMxNGMzYTdhNDhjOTU2MSIgc3R5bGU9IndpZHRoOiAxMDAuMCU7IGhlaWdodDogMTAwLjAlOyI+Qm9va3N0b3JlPC9kaXY+YClbMF07CiAgICAgICAgICAgIHBvcHVwXzA5MjEyNjU2Yjc4YjQxOTg5YWYwYmE1ZTc3NTA0MGI3LnNldENvbnRlbnQoaHRtbF85YzE3YjEyYTM3ZDE0OGM5OWMxNGMzYTdhNDhjOTU2MSk7CiAgICAgICAgCgogICAgICAgIGNpcmNsZV9tYXJrZXJfYjNjNTFhZmJhMGZmNGUyMWJjM2NmOGFjYTM3ZTlkZjEuYmluZFBvcHVwKHBvcHVwXzA5MjEyNjU2Yjc4YjQxOTg5YWYwYmE1ZTc3NTA0MGI3KQogICAgICAgIDsKCiAgICAgICAgCiAgICAKICAgIAogICAgICAgICAgICB2YXIgY2lyY2xlX21hcmtlcl9iYTMzNmY4OGZlNDg0YjRhYjk1NjQ5ZjgxYjk2Y2U5NyA9IEwuY2lyY2xlTWFya2VyKAogICAgICAgICAgICAgICAgWzQwLjcxNjc5MzA0ODU1ODA4LCAtNzQuMDA4MjE5OTg4Nzg0NTddLAogICAgICAgICAgICAgICAgeyJidWJibGluZ01vdXNlRXZlbnRzIjogdHJ1ZSwgImNvbG9yIjogImJsdWUiLCAiZGFzaEFycmF5IjogbnVsbCwgImRhc2hPZmZzZXQiOiBudWxsLCAiZmlsbCI6IHRydWUsICJmaWxsQ29sb3IiOiAiYmx1ZSIsICJmaWxsT3BhY2l0eSI6IDAuNiwgImZpbGxSdWxlIjogImV2ZW5vZGQiLCAibGluZUNhcCI6ICJyb3VuZCIsICJsaW5lSm9pbiI6ICJyb3VuZCIsICJvcGFjaXR5IjogMS4wLCAicmFkaXVzIjogNSwgInN0cm9rZSI6IHRydWUsICJ3ZWlnaHQiOiAzfQogICAgICAgICAgICApLmFkZFRvKG1hcF84MDc2MjMxMjBlNTQ0ZGEwOWY2MDZmYjZiODNlZTEyOCk7CiAgICAgICAgCiAgICAKICAgICAgICB2YXIgcG9wdXBfMTgzOTQ5YWI2ZmQ0NGI5ZmIzZWI4OGJlMTNlMmZjNmYgPSBMLnBvcHVwKHsibWF4V2lkdGgiOiAiMTAwJSJ9KTsKCiAgICAgICAgCiAgICAgICAgICAgIHZhciBodG1sX2ZhMDcyOThhYmNiYTRiMzNiZGJkZjI1MjI0M2I2ZWM0ID0gJChgPGRpdiBpZD0iaHRtbF9mYTA3Mjk4YWJjYmE0YjMzYmRiZGYyNTIyNDNiNmVjNCIgc3R5bGU9IndpZHRoOiAxMDAuMCU7IGhlaWdodDogMTAwLjAlOyI+QW1lcmljYW4gUmVzdGF1cmFudDwvZGl2PmApWzBdOwogICAgICAgICAgICBwb3B1cF8xODM5NDlhYjZmZDQ0YjlmYjNlYjg4YmUxM2UyZmM2Zi5zZXRDb250ZW50KGh0bWxfZmEwNzI5OGFiY2JhNGIzM2JkYmRmMjUyMjQzYjZlYzQpOwogICAgICAgIAoKICAgICAgICBjaXJjbGVfbWFya2VyX2JhMzM2Zjg4ZmU0ODRiNGFiOTU2NDlmODFiOTZjZTk3LmJpbmRQb3B1cChwb3B1cF8xODM5NDlhYjZmZDQ0YjlmYjNlYjg4YmUxM2UyZmM2ZikKICAgICAgICA7CgogICAgICAgIAogICAgCiAgICAKICAgICAgICAgICAgdmFyIGNpcmNsZV9tYXJrZXJfOWE1MTFmOGFiYmZjNGRmOWJkY2Q4MDliNDU0NTJhN2EgPSBMLmNpcmNsZU1hcmtlcigKICAgICAgICAgICAgICAgIFs0MC43MTYzNzk4NDMxNzA3MSwgLTc0LjAwOTYyOTMzNDUzNDI4XSwKICAgICAgICAgICAgICAgIHsiYnViYmxpbmdNb3VzZUV2ZW50cyI6IHRydWUsICJjb2xvciI6ICJibHVlIiwgImRhc2hBcnJheSI6IG51bGwsICJkYXNoT2Zmc2V0IjogbnVsbCwgImZpbGwiOiB0cnVlLCAiZmlsbENvbG9yIjogImJsdWUiLCAiZmlsbE9wYWNpdHkiOiAwLjYsICJmaWxsUnVsZSI6ICJldmVub2RkIiwgImxpbmVDYXAiOiAicm91bmQiLCAibGluZUpvaW4iOiAicm91bmQiLCAib3BhY2l0eSI6IDEuMCwgInJhZGl1cyI6IDUsICJzdHJva2UiOiB0cnVlLCAid2VpZ2h0IjogM30KICAgICAgICAgICAgKS5hZGRUbyhtYXBfODA3NjIzMTIwZTU0NGRhMDlmNjA2ZmI2YjgzZWUxMjgpOwogICAgICAgIAogICAgCiAgICAgICAgdmFyIHBvcHVwXzk2OTVlNWIyOWQ3NDQzMTE4ZmY2YjQ4Y2M3Y2VjM2I4ID0gTC5wb3B1cCh7Im1heFdpZHRoIjogIjEwMCUifSk7CgogICAgICAgIAogICAgICAgICAgICB2YXIgaHRtbF8yMDM5NTFhNWRmYTk0MmI3OTEzZmY2Y2ZkNmEzMWI4NiA9ICQoYDxkaXYgaWQ9Imh0bWxfMjAzOTUxYTVkZmE5NDJiNzkxM2ZmNmNmZDZhMzFiODYiIHN0eWxlPSJ3aWR0aDogMTAwLjAlOyBoZWlnaHQ6IDEwMC4wJTsiPk5ldyBBbWVyaWNhbiBSZXN0YXVyYW50PC9kaXY+YClbMF07CiAgICAgICAgICAgIHBvcHVwXzk2OTVlNWIyOWQ3NDQzMTE4ZmY2YjQ4Y2M3Y2VjM2I4LnNldENvbnRlbnQoaHRtbF8yMDM5NTFhNWRmYTk0MmI3OTEzZmY2Y2ZkNmEzMWI4Nik7CiAgICAgICAgCgogICAgICAgIGNpcmNsZV9tYXJrZXJfOWE1MTFmOGFiYmZjNGRmOWJkY2Q4MDliNDU0NTJhN2EuYmluZFBvcHVwKHBvcHVwXzk2OTVlNWIyOWQ3NDQzMTE4ZmY2YjQ4Y2M3Y2VjM2I4KQogICAgICAgIDsKCiAgICAgICAgCiAgICAKICAgIAogICAgICAgICAgICB2YXIgY2lyY2xlX21hcmtlcl82M2E3ZWQ1MWU4ZDQ0N2U4ODZkMDMyZGUzYWVkOGZkZCA9IEwuY2lyY2xlTWFya2VyKAogICAgICAgICAgICAgICAgWzQwLjcxNTQ4NjU4NTI0OTczNSwgLTc0LjAwOTEzMzEzNTEwODM2XSwKICAgICAgICAgICAgICAgIHsiYnViYmxpbmdNb3VzZUV2ZW50cyI6IHRydWUsICJjb2xvciI6ICJibHVlIiwgImRhc2hBcnJheSI6IG51bGwsICJkYXNoT2Zmc2V0IjogbnVsbCwgImZpbGwiOiB0cnVlLCAiZmlsbENvbG9yIjogImJsdWUiLCAiZmlsbE9wYWNpdHkiOiAwLjYsICJmaWxsUnVsZSI6ICJldmVub2RkIiwgImxpbmVDYXAiOiAicm91bmQiLCAibGluZUpvaW4iOiAicm91bmQiLCAib3BhY2l0eSI6IDEuMCwgInJhZGl1cyI6IDUsICJzdHJva2UiOiB0cnVlLCAid2VpZ2h0IjogM30KICAgICAgICAgICAgKS5hZGRUbyhtYXBfODA3NjIzMTIwZTU0NGRhMDlmNjA2ZmI2YjgzZWUxMjgpOwogICAgICAgIAogICAgCiAgICAgICAgdmFyIHBvcHVwXzAwYTJkMDA4MTY1MjQ3N2M5N2E4MmVjNTEwOTgyZGZmID0gTC5wb3B1cCh7Im1heFdpZHRoIjogIjEwMCUifSk7CgogICAgICAgIAogICAgICAgICAgICB2YXIgaHRtbF84NmJkZGYxMjMyMTQ0M2ZmYWU4Mjg0MjQ5NjczZDMwOSA9ICQoYDxkaXYgaWQ9Imh0bWxfODZiZGRmMTIzMjE0NDNmZmFlODI4NDI0OTY3M2QzMDkiIHN0eWxlPSJ3aWR0aDogMTAwLjAlOyBoZWlnaHQ6IDEwMC4wJTsiPkFtZXJpY2FuIFJlc3RhdXJhbnQ8L2Rpdj5gKVswXTsKICAgICAgICAgICAgcG9wdXBfMDBhMmQwMDgxNjUyNDc3Yzk3YTgyZWM1MTA5ODJkZmYuc2V0Q29udGVudChodG1sXzg2YmRkZjEyMzIxNDQzZmZhZTgyODQyNDk2NzNkMzA5KTsKICAgICAgICAKCiAgICAgICAgY2lyY2xlX21hcmtlcl82M2E3ZWQ1MWU4ZDQ0N2U4ODZkMDMyZGUzYWVkOGZkZC5iaW5kUG9wdXAocG9wdXBfMDBhMmQwMDgxNjUyNDc3Yzk3YTgyZWM1MTA5ODJkZmYpCiAgICAgICAgOwoKICAgICAgICAKICAgIAogICAgCiAgICAgICAgICAgIHZhciBjaXJjbGVfbWFya2VyX2I1ZWNjZDc3NmY3MzQzZGZhOGJiZTAzOWM3NWMyYzhkID0gTC5jaXJjbGVNYXJrZXIoCiAgICAgICAgICAgICAgICBbNDAuNzE2NzUyODE2ODc2NjM1LCAtNzQuMDA4NTgzNzYyOTUyMjFdLAogICAgICAgICAgICAgICAgeyJidWJibGluZ01vdXNlRXZlbnRzIjogdHJ1ZSwgImNvbG9yIjogImJsdWUiLCAiZGFzaEFycmF5IjogbnVsbCwgImRhc2hPZmZzZXQiOiBudWxsLCAiZmlsbCI6IHRydWUsICJmaWxsQ29sb3IiOiAiYmx1ZSIsICJmaWxsT3BhY2l0eSI6IDAuNiwgImZpbGxSdWxlIjogImV2ZW5vZGQiLCAibGluZUNhcCI6ICJyb3VuZCIsICJsaW5lSm9pbiI6ICJyb3VuZCIsICJvcGFjaXR5IjogMS4wLCAicmFkaXVzIjogNSwgInN0cm9rZSI6IHRydWUsICJ3ZWlnaHQiOiAzfQogICAgICAgICAgICApLmFkZFRvKG1hcF84MDc2MjMxMjBlNTQ0ZGEwOWY2MDZmYjZiODNlZTEyOCk7CiAgICAgICAgCiAgICAKICAgICAgICB2YXIgcG9wdXBfN2E2MmVkZDA4MGQ3NDU1ZmFkMWNjM2MwZjU5MzIwNTEgPSBMLnBvcHVwKHsibWF4V2lkdGgiOiAiMTAwJSJ9KTsKCiAgICAgICAgCiAgICAgICAgICAgIHZhciBodG1sXzNjYzM3Y2JjOTA3NzRmNjY5ZmM5ZTM1ZjI1NGMzN2MwID0gJChgPGRpdiBpZD0iaHRtbF8zY2MzN2NiYzkwNzc0ZjY2OWZjOWUzNWYyNTRjMzdjMCIgc3R5bGU9IndpZHRoOiAxMDAuMCU7IGhlaWdodDogMTAwLjAlOyI+QXNpYW4gUmVzdGF1cmFudDwvZGl2PmApWzBdOwogICAgICAgICAgICBwb3B1cF83YTYyZWRkMDgwZDc0NTVmYWQxY2MzYzBmNTkzMjA1MS5zZXRDb250ZW50KGh0bWxfM2NjMzdjYmM5MDc3NGY2NjlmYzllMzVmMjU0YzM3YzApOwogICAgICAgIAoKICAgICAgICBjaXJjbGVfbWFya2VyX2I1ZWNjZDc3NmY3MzQzZGZhOGJiZTAzOWM3NWMyYzhkLmJpbmRQb3B1cChwb3B1cF83YTYyZWRkMDgwZDc0NTVmYWQxY2MzYzBmNTkzMjA1MSkKICAgICAgICA7CgogICAgICAgIAogICAgCiAgICAKICAgICAgICAgICAgdmFyIGNpcmNsZV9tYXJrZXJfOTdiODY3MWYzMzczNDA1NjhjMmI2MzI1ZTYyNDNhMGYgPSBMLmNpcmNsZU1hcmtlcigKICAgICAgICAgICAgICAgIFs0MC43MTcwMTAxMTQwOTkwNiwgLTc0LjAwODA0MjQ0NTYyMjI1XSwKICAgICAgICAgICAgICAgIHsiYnViYmxpbmdNb3VzZUV2ZW50cyI6IHRydWUsICJjb2xvciI6ICJibHVlIiwgImRhc2hBcnJheSI6IG51bGwsICJkYXNoT2Zmc2V0IjogbnVsbCwgImZpbGwiOiB0cnVlLCAiZmlsbENvbG9yIjogImJsdWUiLCAiZmlsbE9wYWNpdHkiOiAwLjYsICJmaWxsUnVsZSI6ICJldmVub2RkIiwgImxpbmVDYXAiOiAicm91bmQiLCAibGluZUpvaW4iOiAicm91bmQiLCAib3BhY2l0eSI6IDEuMCwgInJhZGl1cyI6IDUsICJzdHJva2UiOiB0cnVlLCAid2VpZ2h0IjogM30KICAgICAgICAgICAgKS5hZGRUbyhtYXBfODA3NjIzMTIwZTU0NGRhMDlmNjA2ZmI2YjgzZWUxMjgpOwogICAgICAgIAogICAgCiAgICAgICAgdmFyIHBvcHVwX2MxZjY1ZTI3NWIzMDQ5ZDJhNTMxYmIwNzk3ZTUwOWZhID0gTC5wb3B1cCh7Im1heFdpZHRoIjogIjEwMCUifSk7CgogICAgICAgIAogICAgICAgICAgICB2YXIgaHRtbF84MGQ0MTEzZWU3ODE0YzhhYTJkMTFlM2FmYWJjMzA2NiA9ICQoYDxkaXYgaWQ9Imh0bWxfODBkNDExM2VlNzgxNGM4YWEyZDExZTNhZmFiYzMwNjYiIHN0eWxlPSJ3aWR0aDogMTAwLjAlOyBoZWlnaHQ6IDEwMC4wJTsiPkZyZW5jaCBSZXN0YXVyYW50PC9kaXY+YClbMF07CiAgICAgICAgICAgIHBvcHVwX2MxZjY1ZTI3NWIzMDQ5ZDJhNTMxYmIwNzk3ZTUwOWZhLnNldENvbnRlbnQoaHRtbF84MGQ0MTEzZWU3ODE0YzhhYTJkMTFlM2FmYWJjMzA2Nik7CiAgICAgICAgCgogICAgICAgIGNpcmNsZV9tYXJrZXJfOTdiODY3MWYzMzczNDA1NjhjMmI2MzI1ZTYyNDNhMGYuYmluZFBvcHVwKHBvcHVwX2MxZjY1ZTI3NWIzMDQ5ZDJhNTMxYmIwNzk3ZTUwOWZhKQogICAgICAgIDsKCiAgICAgICAgCiAgICAKICAgIAogICAgICAgICAgICB2YXIgY2lyY2xlX21hcmtlcl9hMGU2NWFhOGUzMmI0ZDNkYmFmNzY1M2IyNmY3OWJiZiA9IEwuY2lyY2xlTWFya2VyKAogICAgICAgICAgICAgICAgWzQwLjcxNTUwMDkyOTY1ODU5LCAtNzQuMDA4OTc2NzczOTIzOTVdLAogICAgICAgICAgICAgICAgeyJidWJibGluZ01vdXNlRXZlbnRzIjogdHJ1ZSwgImNvbG9yIjogImJsdWUiLCAiZGFzaEFycmF5IjogbnVsbCwgImRhc2hPZmZzZXQiOiBudWxsLCAiZmlsbCI6IHRydWUsICJmaWxsQ29sb3IiOiAiYmx1ZSIsICJmaWxsT3BhY2l0eSI6IDAuNiwgImZpbGxSdWxlIjogImV2ZW5vZGQiLCAibGluZUNhcCI6ICJyb3VuZCIsICJsaW5lSm9pbiI6ICJyb3VuZCIsICJvcGFjaXR5IjogMS4wLCAicmFkaXVzIjogNSwgInN0cm9rZSI6IHRydWUsICJ3ZWlnaHQiOiAzfQogICAgICAgICAgICApLmFkZFRvKG1hcF84MDc2MjMxMjBlNTQ0ZGEwOWY2MDZmYjZiODNlZTEyOCk7CiAgICAgICAgCiAgICAKICAgICAgICB2YXIgcG9wdXBfYWU1YjE2NGZiZGViNDJkZWE2MWNiMmRhZjVkOWI4NmEgPSBMLnBvcHVwKHsibWF4V2lkdGgiOiAiMTAwJSJ9KTsKCiAgICAgICAgCiAgICAgICAgICAgIHZhciBodG1sXzFlNzg1ZGY0ZTVhNDRjYmM5NTc4MTlmMTRjMjkxYzBkID0gJChgPGRpdiBpZD0iaHRtbF8xZTc4NWRmNGU1YTQ0Y2JjOTU3ODE5ZjE0YzI5MWMwZCIgc3R5bGU9IndpZHRoOiAxMDAuMCU7IGhlaWdodDogMTAwLjAlOyI+Q29ja3RhaWwgQmFyPC9kaXY+YClbMF07CiAgICAgICAgICAgIHBvcHVwX2FlNWIxNjRmYmRlYjQyZGVhNjFjYjJkYWY1ZDliODZhLnNldENvbnRlbnQoaHRtbF8xZTc4NWRmNGU1YTQ0Y2JjOTU3ODE5ZjE0YzI5MWMwZCk7CiAgICAgICAgCgogICAgICAgIGNpcmNsZV9tYXJrZXJfYTBlNjVhYThlMzJiNGQzZGJhZjc2NTNiMjZmNzliYmYuYmluZFBvcHVwKHBvcHVwX2FlNWIxNjRmYmRlYjQyZGVhNjFjYjJkYWY1ZDliODZhKQogICAgICAgIDsKCiAgICAgICAgCiAgICAKICAgIAogICAgICAgICAgICB2YXIgY2lyY2xlX21hcmtlcl9mODAxYWJlYjRhODM0NDExYTFjMjhiZWZmZTZjYmI3MyA9IEwuY2lyY2xlTWFya2VyKAogICAgICAgICAgICAgICAgWzQwLjcxNTg4NTEyNjA4NjAxNSwgLTc0LjAwODcxMzYxOTAyNDE4XSwKICAgICAgICAgICAgICAgIHsiYnViYmxpbmdNb3VzZUV2ZW50cyI6IHRydWUsICJjb2xvciI6ICJibHVlIiwgImRhc2hBcnJheSI6IG51bGwsICJkYXNoT2Zmc2V0IjogbnVsbCwgImZpbGwiOiB0cnVlLCAiZmlsbENvbG9yIjogImJsdWUiLCAiZmlsbE9wYWNpdHkiOiAwLjYsICJmaWxsUnVsZSI6ICJldmVub2RkIiwgImxpbmVDYXAiOiAicm91bmQiLCAibGluZUpvaW4iOiAicm91bmQiLCAib3BhY2l0eSI6IDEuMCwgInJhZGl1cyI6IDUsICJzdHJva2UiOiB0cnVlLCAid2VpZ2h0IjogM30KICAgICAgICAgICAgKS5hZGRUbyhtYXBfODA3NjIzMTIwZTU0NGRhMDlmNjA2ZmI2YjgzZWUxMjgpOwogICAgICAgIAogICAgCiAgICAgICAgdmFyIHBvcHVwX2EyZWY0OTVmMDYwYTQ2ZjA4ZmRmZDIxMmJiYTU1ZDI1ID0gTC5wb3B1cCh7Im1heFdpZHRoIjogIjEwMCUifSk7CgogICAgICAgIAogICAgICAgICAgICB2YXIgaHRtbF8zOWY3MjY3ZDNlZjI0MjFhODY2NjRiZjE4NjY1ZmI4NiA9ICQoYDxkaXYgaWQ9Imh0bWxfMzlmNzI2N2QzZWYyNDIxYTg2NjY0YmYxODY2NWZiODYiIHN0eWxlPSJ3aWR0aDogMTAwLjAlOyBoZWlnaHQ6IDEwMC4wJTsiPkNvY2t0YWlsIEJhcjwvZGl2PmApWzBdOwogICAgICAgICAgICBwb3B1cF9hMmVmNDk1ZjA2MGE0NmYwOGZkZmQyMTJiYmE1NWQyNS5zZXRDb250ZW50KGh0bWxfMzlmNzI2N2QzZWYyNDIxYTg2NjY0YmYxODY2NWZiODYpOwogICAgICAgIAoKICAgICAgICBjaXJjbGVfbWFya2VyX2Y4MDFhYmViNGE4MzQ0MTFhMWMyOGJlZmZlNmNiYjczLmJpbmRQb3B1cChwb3B1cF9hMmVmNDk1ZjA2MGE0NmYwOGZkZmQyMTJiYmE1NWQyNSkKICAgICAgICA7CgogICAgICAgIAogICAgCiAgICAKICAgICAgICAgICAgdmFyIGNpcmNsZV9tYXJrZXJfZDgxZWE2YzNmYWQxNDJkZDgyOTEzM2YzMGQ3MTNjYjMgPSBMLmNpcmNsZU1hcmtlcigKICAgICAgICAgICAgICAgIFs0MC43MTQ3NTQxNTE0NjEyMzYsIC03NC4wMDc1ODA2MDAyMDM5XSwKICAgICAgICAgICAgICAgIHsiYnViYmxpbmdNb3VzZUV2ZW50cyI6IHRydWUsICJjb2xvciI6ICJibHVlIiwgImRhc2hBcnJheSI6IG51bGwsICJkYXNoT2Zmc2V0IjogbnVsbCwgImZpbGwiOiB0cnVlLCAiZmlsbENvbG9yIjogImJsdWUiLCAiZmlsbE9wYWNpdHkiOiAwLjYsICJmaWxsUnVsZSI6ICJldmVub2RkIiwgImxpbmVDYXAiOiAicm91bmQiLCAibGluZUpvaW4iOiAicm91bmQiLCAib3BhY2l0eSI6IDEuMCwgInJhZGl1cyI6IDUsICJzdHJva2UiOiB0cnVlLCAid2VpZ2h0IjogM30KICAgICAgICAgICAgKS5hZGRUbyhtYXBfODA3NjIzMTIwZTU0NGRhMDlmNjA2ZmI2YjgzZWUxMjgpOwogICAgICAgIAogICAgCiAgICAgICAgdmFyIHBvcHVwX2Q0ZGY4YjI5ODExNzRiMGJiZWY3ODg5ZDJlOTIyYWExID0gTC5wb3B1cCh7Im1heFdpZHRoIjogIjEwMCUifSk7CgogICAgICAgIAogICAgICAgICAgICB2YXIgaHRtbF9iY2I1YjUyMDM0NTA0MTU1OTc0YjhlZmM4ZDUxOTQ3OCA9ICQoYDxkaXYgaWQ9Imh0bWxfYmNiNWI1MjAzNDUwNDE1NTk3NGI4ZWZjOGQ1MTk0NzgiIHN0eWxlPSJ3aWR0aDogMTAwLjAlOyBoZWlnaHQ6IDEwMC4wJTsiPkZyZW5jaCBSZXN0YXVyYW50PC9kaXY+YClbMF07CiAgICAgICAgICAgIHBvcHVwX2Q0ZGY4YjI5ODExNzRiMGJiZWY3ODg5ZDJlOTIyYWExLnNldENvbnRlbnQoaHRtbF9iY2I1YjUyMDM0NTA0MTU1OTc0YjhlZmM4ZDUxOTQ3OCk7CiAgICAgICAgCgogICAgICAgIGNpcmNsZV9tYXJrZXJfZDgxZWE2YzNmYWQxNDJkZDgyOTEzM2YzMGQ3MTNjYjMuYmluZFBvcHVwKHBvcHVwX2Q0ZGY4YjI5ODExNzRiMGJiZWY3ODg5ZDJlOTIyYWExKQogICAgICAgIDsKCiAgICAgICAgCiAgICAKICAgIAogICAgICAgICAgICB2YXIgY2lyY2xlX21hcmtlcl83NDg4NTAyNWVmNmM0YWU0YjdhOGQ3OThiNDgwYjQzYyA9IEwuY2lyY2xlTWFya2VyKAogICAgICAgICAgICAgICAgWzQwLjcxNzEzNjg2OTEwNDQ4LCAtNzQuMDA5MjY4NjMzMTg4NTNdLAogICAgICAgICAgICAgICAgeyJidWJibGluZ01vdXNlRXZlbnRzIjogdHJ1ZSwgImNvbG9yIjogImJsdWUiLCAiZGFzaEFycmF5IjogbnVsbCwgImRhc2hPZmZzZXQiOiBudWxsLCAiZmlsbCI6IHRydWUsICJmaWxsQ29sb3IiOiAiYmx1ZSIsICJmaWxsT3BhY2l0eSI6IDAuNiwgImZpbGxSdWxlIjogImV2ZW5vZGQiLCAibGluZUNhcCI6ICJyb3VuZCIsICJsaW5lSm9pbiI6ICJyb3VuZCIsICJvcGFjaXR5IjogMS4wLCAicmFkaXVzIjogNSwgInN0cm9rZSI6IHRydWUsICJ3ZWlnaHQiOiAzfQogICAgICAgICAgICApLmFkZFRvKG1hcF84MDc2MjMxMjBlNTQ0ZGEwOWY2MDZmYjZiODNlZTEyOCk7CiAgICAgICAgCiAgICAKICAgICAgICB2YXIgcG9wdXBfNTQ1ZTkxNTk5ZGNmNDkxN2FiM2I0ODcxZjBhOTVmNjkgPSBMLnBvcHVwKHsibWF4V2lkdGgiOiAiMTAwJSJ9KTsKCiAgICAgICAgCiAgICAgICAgICAgIHZhciBodG1sX2E0NTUwNjY3NzYyMjQ0YTk4YjcxYjZmMmI2ZTM0OTY4ID0gJChgPGRpdiBpZD0iaHRtbF9hNDU1MDY2Nzc2MjI0NGE5OGI3MWI2ZjJiNmUzNDk2OCIgc3R5bGU9IndpZHRoOiAxMDAuMCU7IGhlaWdodDogMTAwLjAlOyI+TWVuJ3MgU3RvcmU8L2Rpdj5gKVswXTsKICAgICAgICAgICAgcG9wdXBfNTQ1ZTkxNTk5ZGNmNDkxN2FiM2I0ODcxZjBhOTVmNjkuc2V0Q29udGVudChodG1sX2E0NTUwNjY3NzYyMjQ0YTk4YjcxYjZmMmI2ZTM0OTY4KTsKICAgICAgICAKCiAgICAgICAgY2lyY2xlX21hcmtlcl83NDg4NTAyNWVmNmM0YWU0YjdhOGQ3OThiNDgwYjQzYy5iaW5kUG9wdXAocG9wdXBfNTQ1ZTkxNTk5ZGNmNDkxN2FiM2I0ODcxZjBhOTVmNjkpCiAgICAgICAgOwoKICAgICAgICAKICAgIAogICAgCiAgICAgICAgICAgIHZhciBjaXJjbGVfbWFya2VyXzc1MGFjYmE0ZGJkNzQ3NWY5NWVlZTJkN2JmMmE1MzE2ID0gTC5jaXJjbGVNYXJrZXIoCiAgICAgICAgICAgICAgICBbNDAuNzE1NTgsIC03NC4wMDk4NV0sCiAgICAgICAgICAgICAgICB7ImJ1YmJsaW5nTW91c2VFdmVudHMiOiB0cnVlLCAiY29sb3IiOiAiYmx1ZSIsICJkYXNoQXJyYXkiOiBudWxsLCAiZGFzaE9mZnNldCI6IG51bGwsICJmaWxsIjogdHJ1ZSwgImZpbGxDb2xvciI6ICJibHVlIiwgImZpbGxPcGFjaXR5IjogMC42LCAiZmlsbFJ1bGUiOiAiZXZlbm9kZCIsICJsaW5lQ2FwIjogInJvdW5kIiwgImxpbmVKb2luIjogInJvdW5kIiwgIm9wYWNpdHkiOiAxLjAsICJyYWRpdXMiOiA1LCAic3Ryb2tlIjogdHJ1ZSwgIndlaWdodCI6IDN9CiAgICAgICAgICAgICkuYWRkVG8obWFwXzgwNzYyMzEyMGU1NDRkYTA5ZjYwNmZiNmI4M2VlMTI4KTsKICAgICAgICAKICAgIAogICAgICAgIHZhciBwb3B1cF9jODQ2YWFmMGRhYzQ0OGYxYjk4NGJiMDhmNjU2NDlkMCA9IEwucG9wdXAoeyJtYXhXaWR0aCI6ICIxMDAlIn0pOwoKICAgICAgICAKICAgICAgICAgICAgdmFyIGh0bWxfOGMxOTAwOTU1NzZiNGZiZTkzNjUwNGE4NjQ2ZWUyYzUgPSAkKGA8ZGl2IGlkPSJodG1sXzhjMTkwMDk1NTc2YjRmYmU5MzY1MDRhODY0NmVlMmM1IiBzdHlsZT0id2lkdGg6IDEwMC4wJTsgaGVpZ2h0OiAxMDAuMCU7Ij5CYWdlbCBTaG9wPC9kaXY+YClbMF07CiAgICAgICAgICAgIHBvcHVwX2M4NDZhYWYwZGFjNDQ4ZjFiOTg0YmIwOGY2NTY0OWQwLnNldENvbnRlbnQoaHRtbF84YzE5MDA5NTU3NmI0ZmJlOTM2NTA0YTg2NDZlZTJjNSk7CiAgICAgICAgCgogICAgICAgIGNpcmNsZV9tYXJrZXJfNzUwYWNiYTRkYmQ3NDc1Zjk1ZWVlMmQ3YmYyYTUzMTYuYmluZFBvcHVwKHBvcHVwX2M4NDZhYWYwZGFjNDQ4ZjFiOTg0YmIwOGY2NTY0OWQwKQogICAgICAgIDsKCiAgICAgICAgCiAgICAKICAgIAogICAgICAgICAgICB2YXIgY2lyY2xlX21hcmtlcl82NDYyMmRjMzlmOGU0MjhiYjM1M2Q3Y2Q0ODQ5NDI5MiA9IEwuY2lyY2xlTWFya2VyKAogICAgICAgICAgICAgICAgWzQwLjcxNDQ3Njk0Mjc2MjkzLCAtNzQuMDEwMDM4ODY2MjE0OF0sCiAgICAgICAgICAgICAgICB7ImJ1YmJsaW5nTW91c2VFdmVudHMiOiB0cnVlLCAiY29sb3IiOiAiYmx1ZSIsICJkYXNoQXJyYXkiOiBudWxsLCAiZGFzaE9mZnNldCI6IG51bGwsICJmaWxsIjogdHJ1ZSwgImZpbGxDb2xvciI6ICJibHVlIiwgImZpbGxPcGFjaXR5IjogMC42LCAiZmlsbFJ1bGUiOiAiZXZlbm9kZCIsICJsaW5lQ2FwIjogInJvdW5kIiwgImxpbmVKb2luIjogInJvdW5kIiwgIm9wYWNpdHkiOiAxLjAsICJyYWRpdXMiOiA1LCAic3Ryb2tlIjogdHJ1ZSwgIndlaWdodCI6IDN9CiAgICAgICAgICAgICkuYWRkVG8obWFwXzgwNzYyMzEyMGU1NDRkYTA5ZjYwNmZiNmI4M2VlMTI4KTsKICAgICAgICAKICAgIAogICAgICAgIHZhciBwb3B1cF8zM2VjYmRjNTQ4N2E0MDUyODFjOWFiMWI3YTUzMmUyMCA9IEwucG9wdXAoeyJtYXhXaWR0aCI6ICIxMDAlIn0pOwoKICAgICAgICAKICAgICAgICAgICAgdmFyIGh0bWxfMjVhMDE2YzExOGZkNGIwOGI1OGVkMDgxY2UwYTFiZWEgPSAkKGA8ZGl2IGlkPSJodG1sXzI1YTAxNmMxMThmZDRiMDhiNThlZDA4MWNlMGExYmVhIiBzdHlsZT0id2lkdGg6IDEwMC4wJTsgaGVpZ2h0OiAxMDAuMCU7Ij5XaW5lIFNob3A8L2Rpdj5gKVswXTsKICAgICAgICAgICAgcG9wdXBfMzNlY2JkYzU0ODdhNDA1MjgxYzlhYjFiN2E1MzJlMjAuc2V0Q29udGVudChodG1sXzI1YTAxNmMxMThmZDRiMDhiNThlZDA4MWNlMGExYmVhKTsKICAgICAgICAKCiAgICAgICAgY2lyY2xlX21hcmtlcl82NDYyMmRjMzlmOGU0MjhiYjM1M2Q3Y2Q0ODQ5NDI5Mi5iaW5kUG9wdXAocG9wdXBfMzNlY2JkYzU0ODdhNDA1MjgxYzlhYjFiN2E1MzJlMjApCiAgICAgICAgOwoKICAgICAgICAKICAgIAogICAgCiAgICAgICAgICAgIHZhciBjaXJjbGVfbWFya2VyX2FlNmRiMzk0NWQxOTRlMDliNmM1MTZmNTM4ZjE0MTkyID0gTC5jaXJjbGVNYXJrZXIoCiAgICAgICAgICAgICAgICBbNDAuNzE3MTcyNzU4MDExNjgsIC03NC4wMDkzMjg2OTEyNTExN10sCiAgICAgICAgICAgICAgICB7ImJ1YmJsaW5nTW91c2VFdmVudHMiOiB0cnVlLCAiY29sb3IiOiAiYmx1ZSIsICJkYXNoQXJyYXkiOiBudWxsLCAiZGFzaE9mZnNldCI6IG51bGwsICJmaWxsIjogdHJ1ZSwgImZpbGxDb2xvciI6ICJibHVlIiwgImZpbGxPcGFjaXR5IjogMC42LCAiZmlsbFJ1bGUiOiAiZXZlbm9kZCIsICJsaW5lQ2FwIjogInJvdW5kIiwgImxpbmVKb2luIjogInJvdW5kIiwgIm9wYWNpdHkiOiAxLjAsICJyYWRpdXMiOiA1LCAic3Ryb2tlIjogdHJ1ZSwgIndlaWdodCI6IDN9CiAgICAgICAgICAgICkuYWRkVG8obWFwXzgwNzYyMzEyMGU1NDRkYTA5ZjYwNmZiNmI4M2VlMTI4KTsKICAgICAgICAKICAgIAogICAgICAgIHZhciBwb3B1cF8wNTczMWRjMzFhMWY0ODlhOTkwYTY5NWM3MDE2ODU2MSA9IEwucG9wdXAoeyJtYXhXaWR0aCI6ICIxMDAlIn0pOwoKICAgICAgICAKICAgICAgICAgICAgdmFyIGh0bWxfOWExMzYzNzc1OGU3NGJkMGIxMThmM2QzNjQzNmIzNTAgPSAkKGA8ZGl2IGlkPSJodG1sXzlhMTM2Mzc3NThlNzRiZDBiMTE4ZjNkMzY0MzZiMzUwIiBzdHlsZT0id2lkdGg6IDEwMC4wJTsgaGVpZ2h0OiAxMDAuMCU7Ij5QYXJrPC9kaXY+YClbMF07CiAgICAgICAgICAgIHBvcHVwXzA1NzMxZGMzMWExZjQ4OWE5OTBhNjk1YzcwMTY4NTYxLnNldENvbnRlbnQoaHRtbF85YTEzNjM3NzU4ZTc0YmQwYjExOGYzZDM2NDM2YjM1MCk7CiAgICAgICAgCgogICAgICAgIGNpcmNsZV9tYXJrZXJfYWU2ZGIzOTQ1ZDE5NGUwOWI2YzUxNmY1MzhmMTQxOTIuYmluZFBvcHVwKHBvcHVwXzA1NzMxZGMzMWExZjQ4OWE5OTBhNjk1YzcwMTY4NTYxKQogICAgICAgIDsKCiAgICAgICAgCiAgICAKICAgIAogICAgICAgICAgICB2YXIgY2lyY2xlX21hcmtlcl9iMmE4NWYxYjZjYWI0MTZiODFkODgwMDdhNzU0ZTcwZCA9IEwuY2lyY2xlTWFya2VyKAogICAgICAgICAgICAgICAgWzQwLjcxNTA0NTEyNTU4OTk2LCAtNzQuMDExNTA4NzEwMjgyMV0sCiAgICAgICAgICAgICAgICB7ImJ1YmJsaW5nTW91c2VFdmVudHMiOiB0cnVlLCAiY29sb3IiOiAiYmx1ZSIsICJkYXNoQXJyYXkiOiBudWxsLCAiZGFzaE9mZnNldCI6IG51bGwsICJmaWxsIjogdHJ1ZSwgImZpbGxDb2xvciI6ICJibHVlIiwgImZpbGxPcGFjaXR5IjogMC42LCAiZmlsbFJ1bGUiOiAiZXZlbm9kZCIsICJsaW5lQ2FwIjogInJvdW5kIiwgImxpbmVKb2luIjogInJvdW5kIiwgIm9wYWNpdHkiOiAxLjAsICJyYWRpdXMiOiA1LCAic3Ryb2tlIjogdHJ1ZSwgIndlaWdodCI6IDN9CiAgICAgICAgICAgICkuYWRkVG8obWFwXzgwNzYyMzEyMGU1NDRkYTA5ZjYwNmZiNmI4M2VlMTI4KTsKICAgICAgICAKICAgIAogICAgICAgIHZhciBwb3B1cF82NzU5NWJiYjc4YjY0MmE2YjQ2NjViNjFlYjcxYTk1MiA9IEwucG9wdXAoeyJtYXhXaWR0aCI6ICIxMDAlIn0pOwoKICAgICAgICAKICAgICAgICAgICAgdmFyIGh0bWxfYTAzNTgxNGRjYjExNDQ3MTliYmNlMTliYWUzMTJhYmQgPSAkKGA8ZGl2IGlkPSJodG1sX2EwMzU4MTRkY2IxMTQ0NzE5YmJjZTE5YmFlMzEyYWJkIiBzdHlsZT0id2lkdGg6IDEwMC4wJTsgaGVpZ2h0OiAxMDAuMCU7Ij5Db2ZmZWUgU2hvcDwvZGl2PmApWzBdOwogICAgICAgICAgICBwb3B1cF82NzU5NWJiYjc4YjY0MmE2YjQ2NjViNjFlYjcxYTk1Mi5zZXRDb250ZW50KGh0bWxfYTAzNTgxNGRjYjExNDQ3MTliYmNlMTliYWUzMTJhYmQpOwogICAgICAgIAoKICAgICAgICBjaXJjbGVfbWFya2VyX2IyYTg1ZjFiNmNhYjQxNmI4MWQ4ODAwN2E3NTRlNzBkLmJpbmRQb3B1cChwb3B1cF82NzU5NWJiYjc4YjY0MmE2YjQ2NjViNjFlYjcxYTk1MikKICAgICAgICA7CgogICAgICAgIAogICAgCjwvc2NyaXB0Pg== onload=\"this.contentDocument.open();this.contentDocument.write(atob(this.getAttribute('data-html')));this.contentDocument.close();\" allowfullscreen webkitallowfullscreen mozallowfullscreen></iframe></div></div>"
      ],
      "text/plain": [
       "<folium.folium.Map at 0x117a635d0>"
      ]
     },
     "execution_count": 77,
     "metadata": {},
     "output_type": "execute_result"
    }
   ],
   "source": [
    "venues_map = folium.Map(location=[latitude, longitude], zoom_start=15) # generate map centred around Ecco\n",
    "\n",
    "\n",
    "# add Ecco as a red circle mark\n",
    "folium.CircleMarker(\n",
    "    [latitude, longitude],\n",
    "    radius=10,\n",
    "    popup='Ecco',\n",
    "    fill=True,\n",
    "    color='red',\n",
    "    fill_color='red',\n",
    "    fill_opacity=0.6\n",
    "    ).add_to(venues_map)\n",
    "\n",
    "\n",
    "# add popular spots to the map as blue circle markers\n",
    "for lat, lng, label in zip(dataframe_filtered.lat, dataframe_filtered.lng, dataframe_filtered.categories):\n",
    "    folium.CircleMarker(\n",
    "        [lat, lng],\n",
    "        radius=5,\n",
    "        popup=label,\n",
    "        fill=True,\n",
    "        color='blue',\n",
    "        fill_color='blue',\n",
    "        fill_opacity=0.6\n",
    "        ).add_to(venues_map)\n",
    "\n",
    "# display map\n",
    "venues_map"
   ]
  },
  {
   "cell_type": "markdown",
   "metadata": {
    "button": false,
    "new_sheet": false,
    "run_control": {
     "read_only": false
    }
   },
   "source": [
    "   "
   ]
  },
  {
   "cell_type": "markdown",
   "metadata": {
    "button": false,
    "new_sheet": false,
    "run_control": {
     "read_only": false
    }
   },
   "source": [
    "<a id=\"item5\"></a>"
   ]
  },
  {
   "cell_type": "markdown",
   "metadata": {
    "button": false,
    "new_sheet": false,
    "run_control": {
     "read_only": false
    }
   },
   "source": [
    "## 5. Explore Trending Venues\n",
    ">https://api.foursquare.com/v2/venues/trending?client_id=CLIENT_ID&client_secret=CLIENT_SECRET&ll=LATITUDE,LONGITUDE&v=VERSION"
   ]
  },
  {
   "cell_type": "markdown",
   "metadata": {
    "button": false,
    "new_sheet": false,
    "run_control": {
     "read_only": false
    }
   },
   "source": [
    "#### Now, instead of simply exploring the area around Ecco, you are interested in knowing the venues that are trending at the time you are done with your lunch, meaning the places with the highest foot traffic. So let's do that and get the trending venues around Ecco."
   ]
  },
  {
   "cell_type": "code",
   "execution_count": 78,
   "metadata": {
    "button": false,
    "jupyter": {
     "outputs_hidden": false
    },
    "new_sheet": false,
    "run_control": {
     "read_only": false
    }
   },
   "outputs": [
    {
     "data": {
      "text/plain": [
       "{'meta': {'code': 200, 'requestId': '5e74d7f1bae9a2001bc9c688'},\n",
       " 'response': {'venues': []}}"
      ]
     },
     "execution_count": 78,
     "metadata": {},
     "output_type": "execute_result"
    }
   ],
   "source": [
    "# define URL\n",
    "url = 'https://api.foursquare.com/v2/venues/trending?client_id={}&client_secret={}&ll={},{}&v={}'.format(CLIENT_ID, CLIENT_SECRET, latitude, longitude, VERSION)\n",
    "\n",
    "# send GET request and get trending venues\n",
    "results = requests.get(url).json()\n",
    "results"
   ]
  },
  {
   "cell_type": "markdown",
   "metadata": {
    "button": false,
    "new_sheet": false,
    "run_control": {
     "read_only": false
    }
   },
   "source": [
    "### Check if any venues are trending at this time"
   ]
  },
  {
   "cell_type": "code",
   "execution_count": 79,
   "metadata": {
    "button": false,
    "jupyter": {
     "outputs_hidden": true
    },
    "new_sheet": false,
    "run_control": {
     "read_only": false
    }
   },
   "outputs": [],
   "source": [
    "if len(results['response']['venues']) == 0:\n",
    "    trending_venues_df = 'No trending venues are available at the moment!'\n",
    "    \n",
    "else:\n",
    "    trending_venues = results['response']['venues']\n",
    "    trending_venues_df = json_normalize(trending_venues)\n",
    "\n",
    "    # filter columns\n",
    "    columns_filtered = ['name', 'categories'] + ['location.distance', 'location.city', 'location.postalCode', 'location.state', 'location.country', 'location.lat', 'location.lng']\n",
    "    trending_venues_df = trending_venues_df.loc[:, columns_filtered]\n",
    "\n",
    "    # filter the category for each row\n",
    "    trending_venues_df['categories'] = trending_venues_df.apply(get_category_type, axis=1)"
   ]
  },
  {
   "cell_type": "code",
   "execution_count": 80,
   "metadata": {
    "button": false,
    "jupyter": {
     "outputs_hidden": false
    },
    "new_sheet": false,
    "run_control": {
     "read_only": false
    }
   },
   "outputs": [
    {
     "data": {
      "text/plain": [
       "'No trending venues are available at the moment!'"
      ]
     },
     "execution_count": 80,
     "metadata": {},
     "output_type": "execute_result"
    }
   ],
   "source": [
    "# display trending venues\n",
    "trending_venues_df"
   ]
  },
  {
   "cell_type": "markdown",
   "metadata": {
    "button": false,
    "new_sheet": false,
    "run_control": {
     "read_only": false
    }
   },
   "source": [
    "Now, depending on when you run the above code, you might get different venues since the venues with the highest foot traffic are fetched live. "
   ]
  },
  {
   "cell_type": "markdown",
   "metadata": {
    "button": false,
    "new_sheet": false,
    "run_control": {
     "read_only": false
    }
   },
   "source": [
    "### Visualize trending venues"
   ]
  },
  {
   "cell_type": "code",
   "execution_count": 81,
   "metadata": {
    "button": false,
    "jupyter": {
     "outputs_hidden": false
    },
    "new_sheet": false,
    "run_control": {
     "read_only": false
    }
   },
   "outputs": [],
   "source": [
    "if len(results['response']['venues']) == 0:\n",
    "    venues_map = 'Cannot generate visual as no trending venues are available at the moment!'\n",
    "\n",
    "else:\n",
    "    venues_map = folium.Map(location=[latitude, longitude], zoom_start=15) # generate map centred around Ecco\n",
    "\n",
    "\n",
    "    # add Ecco as a red circle mark\n",
    "    folium.features.CircleMarker(\n",
    "        [latitude, longitude],\n",
    "        radius=10,\n",
    "        popup='Ecco',\n",
    "        fill=True,\n",
    "        color='red',\n",
    "        fill_color='red',\n",
    "        fill_opacity=0.6\n",
    "    ).add_to(venues_map)\n",
    "\n",
    "\n",
    "    # add the trending venues as blue circle markers\n",
    "    for lat, lng, label in zip(trending_venues_df['location.lat'], trending_venues_df['location.lng'], trending_venues_df['name']):\n",
    "        folium.features.CircleMarker(\n",
    "            [lat, lng],\n",
    "            radius=5,\n",
    "            poup=label,\n",
    "            fill=True,\n",
    "            color='blue',\n",
    "            fill_color='blue',\n",
    "            fill_opacity=0.6\n",
    "        ).add_to(venues_map)"
   ]
  },
  {
   "cell_type": "code",
   "execution_count": 82,
   "metadata": {
    "button": false,
    "jupyter": {
     "outputs_hidden": false
    },
    "new_sheet": false,
    "run_control": {
     "read_only": false
    }
   },
   "outputs": [
    {
     "data": {
      "text/plain": [
       "'Cannot generate visual as no trending venues are available at the moment!'"
      ]
     },
     "execution_count": 82,
     "metadata": {},
     "output_type": "execute_result"
    }
   ],
   "source": [
    "# display map\n",
    "venues_map"
   ]
  },
  {
   "cell_type": "markdown",
   "metadata": {
    "button": false,
    "new_sheet": false,
    "run_control": {
     "read_only": false
    }
   },
   "source": [
    "<a id=\"item6\"></a>"
   ]
  },
  {
   "cell_type": "markdown",
   "metadata": {
    "button": false,
    "new_sheet": false,
    "run_control": {
     "read_only": false
    }
   },
   "source": [
    "   "
   ]
  },
  {
   "cell_type": "markdown",
   "metadata": {
    "button": false,
    "new_sheet": false,
    "run_control": {
     "read_only": false
    }
   },
   "source": [
    "### Thank you for completing this lab!\n",
    "\n",
    "This notebook was created by [Alex Aklson](https://www.linkedin.com/in/aklson/). I hope you found this lab interesting and educational. Feel free to contact me if you have any questions!"
   ]
  },
  {
   "cell_type": "markdown",
   "metadata": {
    "button": false,
    "new_sheet": false,
    "run_control": {
     "read_only": false
    }
   },
   "source": [
    "This notebook is part of a course on **Coursera** called *Applied Data Science Capstone*. If you accessed this notebook outside the course, you can take this course online by clicking [here](http://cocl.us/DP0701EN_Coursera_Week2_LAB1)."
   ]
  },
  {
   "cell_type": "markdown",
   "metadata": {
    "button": false,
    "new_sheet": false,
    "run_control": {
     "read_only": false
    }
   },
   "source": [
    "<hr>\n",
    "Copyright &copy; 2018 [Cognitive Class](https://cognitiveclass.ai/?utm_source=bducopyrightlink&utm_medium=dswb&utm_campaign=bdu). This notebook and its source code are released under the terms of the [MIT License](https://bigdatauniversity.com/mit-license/)."
   ]
  }
 ],
 "metadata": {
  "kernelspec": {
   "display_name": "Python 3",
   "language": "python",
   "name": "python3"
  },
  "language_info": {
   "codemirror_mode": {
    "name": "ipython",
    "version": 3
   },
   "file_extension": ".py",
   "mimetype": "text/x-python",
   "name": "python",
   "nbconvert_exporter": "python",
   "pygments_lexer": "ipython3",
   "version": "3.7.4"
  },
  "widgets": {
   "state": {},
   "version": "1.1.2"
  }
 },
 "nbformat": 4,
 "nbformat_minor": 4
}
